{
 "cells": [
  {
   "cell_type": "markdown",
   "metadata": {
    "slideshow": {
     "slide_type": "slide"
    }
   },
   "source": [
    "# Parking Violations Issued by New York City (FY16)\n",
    "\n",
    "### Parking a car in the city is a miserable experience. This project will attempt to make it slightly less miserable through data science.\n",
    "\n",
    "As part of New York's open data policy, the full dataset of parking violations issued each fiscal year is made publicly available. This project will explore the dataset from FY16. The full dataset contains over 10 million observations, but only data from passenger vehicles in NYPD Precinct 114 (which covers the northwest corner of Queens, including Astoria, Long Island City, and parts of Woodside and Jackson Heights) will be used."
   ]
  },
  {
   "cell_type": "markdown",
   "metadata": {
    "slideshow": {
     "slide_type": "slide"
    }
   },
   "source": [
    "# The Goal\n",
    "\n",
    "![NYPD](IMG_20160701_083017.jpg)\n",
    "\n",
    "The goal of the project is to discover if it is possible to predict whether a vehicle was issued a ticket for breaking alternate side parking rules (Violation Code 21) using information that could be known beforehand like vehicle make, vehicle color, and time of day."
   ]
  },
  {
   "cell_type": "markdown",
   "metadata": {
    "slideshow": {
     "slide_type": "slide"
    }
   },
   "source": [
    "# Project Summary\n",
    "\n",
    "1. Isolate the relevant data.\n",
    "2. Clean, clean, clean.\n",
    "3. Decision Trees and Random Forests"
   ]
  },
  {
   "cell_type": "code",
   "execution_count": 46,
   "metadata": {
    "collapsed": true,
    "slideshow": {
     "slide_type": "skip"
    }
   },
   "outputs": [],
   "source": [
    "import numpy as np\n",
    "import pandas as pd\n",
    "import matplotlib.pyplot as plt\n",
    "import seaborn as sns\n",
    "from sklearn import ensemble, cross_validation, neighbors, tree, metrics\n",
    "\n",
    "from IPython.display import Image\n",
    "%matplotlib inline\n",
    "\n",
    "# Set the default figure size for plotting\n",
    "sns.mpl.rc(\"figure\", figsize=(40,20))  # Larger default plots\n",
    "sns.set_context(\"notebook\", font_scale=1)  # Larger fonts"
   ]
  },
  {
   "cell_type": "markdown",
   "metadata": {
    "slideshow": {
     "slide_type": "slide"
    }
   },
   "source": [
    "# Precinct 114\n",
    "\n",
    "![Precinct 114](astoria-map.png)"
   ]
  },
  {
   "cell_type": "markdown",
   "metadata": {
    "collapsed": true,
    "slideshow": {
     "slide_type": "slide"
    }
   },
   "source": [
    "## Exploratory Analysis of Precinct 114\n",
    "\n",
    "\n",
    "The dataset contains mostly categorical data across 43 columns. There are four columns that contain no data and fifteen more that have missing data. A closer look shows that several of the fields are cryptically coded and might take some work to unpack, but there are enough columns that contain understandable information and are either complete or only missing a few values."
   ]
  },
  {
   "cell_type": "code",
   "execution_count": 47,
   "metadata": {
    "collapsed": false,
    "slideshow": {
     "slide_type": "skip"
    }
   },
   "outputs": [],
   "source": [
    "df = pd.read_csv('Parking_Violations_Issued_-_Fiscal_Year_2016.csv')"
   ]
  },
  {
   "cell_type": "code",
   "execution_count": 5,
   "metadata": {
    "collapsed": true,
    "slideshow": {
     "slide_type": "skip"
    }
   },
   "outputs": [
    {
     "name": "stdout",
     "output_type": "stream",
     "text": [
      "<class 'pandas.core.frame.DataFrame'>\n",
      "RangeIndex: 10173437 entries, 0 to 10173436\n",
      "Data columns (total 43 columns):\n",
      "Summons Number                       int64\n",
      "Plate ID                             object\n",
      "Registration State                   object\n",
      "Plate Type                           object\n",
      "Issue Date                           object\n",
      "Violation Code                       float64\n",
      "Vehicle Body Type                    object\n",
      "Vehicle Make                         object\n",
      "Issuing Agency                       object\n",
      "Street Code1                         float64\n",
      "Street Code2                         float64\n",
      "Street Code3                         float64\n",
      "Vehicle Expiration Date              float64\n",
      "Violation Location                   float64\n",
      "Violation Precinct                   float64\n",
      "Issuer Precinct                      float64\n",
      "Issuer Code                          float64\n",
      "Issuer Command                       object\n",
      "Issuer Squad                         object\n",
      "Violation Time                       object\n",
      "Time First Observed                  object\n",
      "Violation County                     object\n",
      "Violation In Front Of Or Opposite    object\n",
      "House Number                         object\n",
      "Street Name                          object\n",
      "Intersecting Street                  object\n",
      "Date First Observed                  float64\n",
      "Law Section                          float64\n",
      "Sub Division                         object\n",
      "Violation Legal Code                 object\n",
      "Days Parking In Effect               object\n",
      "From Hours In Effect                 object\n",
      "To Hours In Effect                   object\n",
      "Vehicle Color                        object\n",
      "Unregistered Vehicle?                object\n",
      "Vehicle Year                         float64\n",
      "Meter Number                         object\n",
      "Feet From Curb                       float64\n",
      "Violation Post Code                  object\n",
      "Violation Description                object\n",
      "No Standing or Stopping Violation    float64\n",
      "Hydrant Violation                    float64\n",
      "Double Parking Violation             float64\n",
      "dtypes: float64(16), int64(1), object(26)\n",
      "memory usage: 3.3+ GB\n"
     ]
    }
   ],
   "source": [
    "df.info()"
   ]
  },
  {
   "cell_type": "code",
   "execution_count": 48,
   "metadata": {
    "collapsed": false,
    "slideshow": {
     "slide_type": "skip"
    }
   },
   "outputs": [],
   "source": [
    "df = df[((df['Violation Precinct'] == 114) & (df['Plate Type'] == 'PAS'))]"
   ]
  },
  {
   "cell_type": "code",
   "execution_count": 49,
   "metadata": {
    "collapsed": false,
    "slideshow": {
     "slide_type": "fragment"
    }
   },
   "outputs": [
    {
     "data": {
      "text/plain": [
       "(225619, 43)"
      ]
     },
     "execution_count": 49,
     "metadata": {},
     "output_type": "execute_result"
    }
   ],
   "source": [
    "df.shape"
   ]
  },
  {
   "cell_type": "code",
   "execution_count": 50,
   "metadata": {
    "collapsed": false,
    "slideshow": {
     "slide_type": "skip"
    }
   },
   "outputs": [],
   "source": [
    "'''\n",
    "time24 = []\n",
    "for time in df['Violation Time']:\n",
    "    hourminute = time[:4]\n",
    "    ampm = time[-1:]\n",
    "    if hourminute[0] not in ('0','1', '2'):\n",
    "        hourminute = '0' + hourminute[1:]\n",
    "    if hourminute[1] not in ('0','1','2','3','4','5','6','7','8','9'):\n",
    "        hourminute = '00' + hourminute[2:]\n",
    "    if hourminute[3] not in ('0','1','2','3','4','5','6','7','8','9'):\n",
    "        hourminute = hourminute[:3] + '0'\n",
    "    if ampm == 'P':\n",
    "        if hourminute[:2] == '12':\n",
    "            time24.append('00:' + hourminute[2:4] + ':00')\n",
    "        else:\n",
    "            hourminute = str(int(hourminute) + 1200)\n",
    "            time24.append(hourminute[:2] + ':' + hourminute[2:4] + ':00')\n",
    "    else:\n",
    "        time24.append(hourminute[:2] + ':' + hourminute[2:4] + ':00')\n",
    "        \n",
    "df['Time'] = time24\n",
    "'''\n",
    "hour = []\n",
    "minute = []\n",
    "for time in df['Violation Time']:\n",
    "    hourminute = time[:4]\n",
    "    ampm = time[-1:]\n",
    "    if hourminute[0] not in ('0','1', '2'):\n",
    "        hourminute = '0' + hourminute[1:]\n",
    "    if hourminute[1] not in ('0','1','2','3','4','5','6','7','8','9'):\n",
    "        hourminute = '00' + hourminute[2:]\n",
    "    if hourminute[3] not in ('0','1','2','3','4','5','6','7','8','9'):\n",
    "        hourminute = hourminute[:3] + '0'\n",
    "    if ampm == 'P':\n",
    "        if hourminute[:2] == '12':\n",
    "            hour.append(00)\n",
    "            minute.append(int(hourminute[2:4]))\n",
    "        else:\n",
    "            hourminute = str(int(hourminute) + 1200)\n",
    "            hour.append(int(hourminute[:2]))\n",
    "            minute.append((hourminute[2:4]))\n",
    "    else:\n",
    "        hour.append(int(hourminute[:2]))\n",
    "        minute.append(int(hourminute[2:4])) \n",
    "        \n",
    "df['Hour'] = hour\n",
    "df['Minute'] = minute"
   ]
  },
  {
   "cell_type": "code",
   "execution_count": 51,
   "metadata": {
    "collapsed": false,
    "slideshow": {
     "slide_type": "skip"
    }
   },
   "outputs": [],
   "source": [
    "day = []\n",
    "month = []\n",
    "year = []\n",
    "\n",
    "for date in df['Issue Date']:\n",
    "    day.append(int(date[:2]))\n",
    "    month.append(int(date[3:5]))\n",
    "    year.append(int(date[6:]))\n",
    "    \n",
    "df['Day'] = day\n",
    "df['Month'] = month\n",
    "df['Year'] = year"
   ]
  },
  {
   "cell_type": "code",
   "execution_count": 70,
   "metadata": {
    "collapsed": false,
    "slideshow": {
     "slide_type": "skip"
    }
   },
   "outputs": [],
   "source": [
    "def prep_df(df):\n",
    "    #df['Datetime'] = pd.to_datetime(df['Issue Date'], infer_datetime_format=True)\n",
    "    #df['Time'] = pd.to_datetime(df['Time'], format=\"%H:%M:%S\")\n",
    "    #df['Datetime'] = df['Issue Date'] + df['Time']\n",
    "    \n",
    "    df['Vehicle Year'] = df['Vehicle Year'].astype(int)\n",
    "    \n",
    "    return  df[[\n",
    "             'Registration State', \n",
    "             'Vehicle Make',\n",
    "             'Vehicle Body Type',\n",
    "             'Violation Code', \n",
    "             'Vehicle Color',\n",
    "             'Vehicle Year',\n",
    "             'Street Code1',\n",
    "             'Street Code2',\n",
    "             'Street Code3',\n",
    "             'Year',\n",
    "             'Month',\n",
    "             'Day',\n",
    "             'Hour',\n",
    "             'Minute']]"
   ]
  },
  {
   "cell_type": "markdown",
   "metadata": {
    "slideshow": {
     "slide_type": "slide"
    }
   },
   "source": [
    "## Fixing Inconsistencies in Values and Dealing with Missing Values.\n",
    "\n",
    "Looking at df_astoria_focused.info() shows that _Vehicle Make_, _Vehicle Color_, and _Vehicle Body Type_ are each missing a few values. The values in those fields are also wildly inconsistent. As an example, the _Vehicle Color_ column has the following variations of black: BK, BLACK, BLK, and possibly BL (which could also mean blue)."
   ]
  },
  {
   "cell_type": "code",
   "execution_count": 71,
   "metadata": {
    "collapsed": false,
    "slideshow": {
     "slide_type": "fragment"
    }
   },
   "outputs": [
    {
     "data": {
      "text/plain": [
       "BLACK    19090\n",
       "BL       14848\n",
       "BLK       1031\n",
       "BLCK         7\n",
       "BLAC         2\n",
       "BLAK         1\n",
       "B            1\n",
       "Name: Vehicle Color, dtype: int64"
      ]
     },
     "execution_count": 71,
     "metadata": {},
     "output_type": "execute_result"
    }
   ],
   "source": [
    "df['Vehicle Color'][df['Vehicle Color'].isin(['BLK', 'BLACK', 'BLCK', 'BLAK', 'BLAC', 'BL', 'B'])].value_counts()"
   ]
  },
  {
   "cell_type": "code",
   "execution_count": 153,
   "metadata": {
    "collapsed": false,
    "slideshow": {
     "slide_type": "skip"
    }
   },
   "outputs": [
    {
     "data": {
      "text/plain": [
       "Index([u'Summons Number', u'Plate ID', u'Registration State', u'Plate Type',\n",
       "       u'Issue Date', u'Violation Code', u'Vehicle Body Type', u'Vehicle Make',\n",
       "       u'Issuing Agency', u'Street Code1', u'Street Code2', u'Street Code3',\n",
       "       u'Vehicle Expiration Date', u'Violation Location',\n",
       "       u'Violation Precinct', u'Issuer Precinct', u'Issuer Code',\n",
       "       u'Issuer Command', u'Issuer Squad', u'Violation Time',\n",
       "       u'Time First Observed', u'Violation County',\n",
       "       u'Violation In Front Of Or Opposite', u'House Number', u'Street Name',\n",
       "       u'Intersecting Street', u'Date First Observed', u'Law Section',\n",
       "       u'Sub Division', u'Violation Legal Code', u'Days Parking In Effect    ',\n",
       "       u'From Hours In Effect', u'To Hours In Effect', u'Vehicle Color',\n",
       "       u'Unregistered Vehicle?', u'Vehicle Year', u'Meter Number',\n",
       "       u'Feet From Curb', u'Violation Post Code', u'Violation Description',\n",
       "       u'No Standing or Stopping Violation', u'Hydrant Violation',\n",
       "       u'Double Parking Violation', u'Hour', u'Minute', u'Day', u'Month',\n",
       "       u'Year'],\n",
       "      dtype='object')"
      ]
     },
     "execution_count": 153,
     "metadata": {},
     "output_type": "execute_result"
    }
   ],
   "source": [
    "df.columns"
   ]
  },
  {
   "cell_type": "code",
   "execution_count": 73,
   "metadata": {
    "collapsed": false,
    "slideshow": {
     "slide_type": "skip"
    }
   },
   "outputs": [],
   "source": [
    "def clean_df(df):\n",
    "    df.replace({'Vehicle Color': {'BL':'BLACK',\n",
    "                                  'BK':'BLACK',\n",
    "                                  'BLK':'BLACK',\n",
    "                                  'BLCK':'BLACK',\n",
    "                                  'BLACL':'BLACK',\n",
    "                                  'BK/' : 'BLACK',\n",
    "                                  'BKG' : 'BLACK',\n",
    "                                  'BKR' : 'BLACK',\n",
    "                                  'BLAC' : 'BLACK',\n",
    "                                  'BKW' : 'BLACK',\n",
    "                                  'BLB' : 'BLACK',\n",
    "                                  'BL WH' : 'BLACK',\n",
    "                                  'BLC' : 'BLACK',\n",
    "                                  'BLN' : 'BLACK',\n",
    "                                  'BCK' : 'BLACK',\n",
    "                                  'BG' : 'BLACK',\n",
    "                                  'BKYE' : 'BLACK',\n",
    "                                  'B LAC' : 'BLACK',\n",
    "                                  'BLAK' : 'BLACK',\n",
    "                                  'B' : 'BLACK',\n",
    "                                  'WH':'WHITE',\n",
    "                                  'WHTIE':'WHITE',\n",
    "                                  'WH':'WHITE',\n",
    "                                  'WHTE': 'WHITE',\n",
    "                                  'WH/' : 'WHITE',\n",
    "                                  'WHT' : 'WHITE',\n",
    "                                  'WHG' : 'WHITE',\n",
    "                                  'WT' : 'WHITE',\n",
    "                                  'W' : 'WHITE',\n",
    "                                  'WHB' : 'WHITE',\n",
    "                                  'WHR' : 'WHITE',\n",
    "                                  'WHIET' : 'WHITE',\n",
    "                                  'WHI' : 'WHITE',\n",
    "                                  'WTE' : 'WHITE',\n",
    "                                  'WHBK' : 'WHITE',\n",
    "                                  'WHO' : 'WHITE',\n",
    "                                  'WHY' : 'WHITE',\n",
    "                                  'WH/OR' : 'WHITE',\n",
    "                                  'WH/RD' : 'WHITE',\n",
    "                                  'WH/BL' : 'WHITE',\n",
    "                                  'WHIT' : 'WHITE',\n",
    "                                  'KWH' : 'WHITE',\n",
    "                                  'GY' : 'GREY',\n",
    "                                  'GY/': 'GREY',\n",
    "                                  'GRY' : 'GREY',\n",
    "                                  'GAY' : 'GREY',\n",
    "                                  'GR' : 'GREY',\n",
    "                                  'GRAY': 'GREY',\n",
    "                                  'GYW' : 'GREY',\n",
    "                                  'GYB' : 'GREY',\n",
    "                                  'DK GY' : 'GREY',\n",
    "                                  'GRG' : 'GREY',\n",
    "                                  'DARK' : 'GREY',\n",
    "                                  'GRET' : 'GREY',\n",
    "                                  'GRETY' : 'GREY',\n",
    "                                  'LIGHT' : 'GREY',\n",
    "                                  'GRR' : 'GREY',\n",
    "                                  'DKGY' : 'GREY',\n",
    "                                  'GRT' : 'GREY',\n",
    "                                  'GERY' : 'GREY',\n",
    "                                  'FRAY' : 'GREY',\n",
    "                                  'DRKGY' : 'GREY',\n",
    "                                  'DKGRY' : 'GREY',\n",
    "                                  'GLT' : 'GREY',\n",
    "                                  'GRW' : 'GREY',\n",
    "                                  'GRT' : 'GREY',\n",
    "                                  'GRAT' : 'GREY',\n",
    "                                  'GYT' : 'GREY',\n",
    "                                  'G' : 'GREY',\n",
    "                                  'GU' : 'GREY',\n",
    "                                  'GRE' : 'GREY',\n",
    "                                  'GBY' : 'GREY',\n",
    "                                  'RD' : 'RED',\n",
    "                                  'RDB' : 'RED',\n",
    "                                  'RD/' : 'RED',\n",
    "                                  'RDO' : 'RED',\n",
    "                                  'RDG' : 'RED',\n",
    "                                  'RE' : 'RED',\n",
    "                                  'RDY' : 'RED',\n",
    "                                  'OR' : 'ORANGE',\n",
    "                                  'RDT' : 'RED',\n",
    "                                  'TN': 'TAN',\n",
    "                                  'DKT' : 'TAN',\n",
    "                                  'BEIGE' : 'TAN',\n",
    "                                  'LTT' : 'TAN',\n",
    "                                  'TNG' : 'TAN',\n",
    "                                  'TN/' : 'TAN',\n",
    "                                  'BEIGD' : 'TAN',\n",
    "                                  'TANQ' : 'TAN',\n",
    "                                  'BIEGE' : 'TAN',\n",
    "                                  'BRIGE' : 'TAN',\n",
    "                                  'BEIDG' : 'TAN',\n",
    "                                  'BEGIE' : 'TAN',\n",
    "                                  'YW' : 'YELLOW',\n",
    "                                  'BR' : 'BROWN',\n",
    "                                  'BRN' : 'BROWN',\n",
    "                                  'BROW' : 'BROWN',\n",
    "                                  'BWN' : 'BROWN',\n",
    "                                  'BN' : 'BROWN',\n",
    "                                  'BRW' : 'BROWN',\n",
    "                                  'BRO' : 'BROWN',\n",
    "                                  'BR/' : 'BROWN',\n",
    "                                  'BRM' : 'BROWN',\n",
    "                                  'BRE' : 'BROWN',\n",
    "                                  'BW' : 'BROWN',\n",
    "                                  'BRT' : 'BROWN',\n",
    "                                  'BOWN' : 'BROWN',\n",
    "                                  'GL' : 'GOLD', \n",
    "                                  'GLD' : 'GOLD',\n",
    "                                  'GL/' : 'GOLD',\n",
    "                                  'GD' : 'GOLD',\n",
    "                                  'ORAN': 'ORANGE',\n",
    "                                  'ORANG' : 'ORANGE',\n",
    "                                  'OR' : 'ORANGE',\n",
    "                                  'ORNAG' : 'ORANGE',\n",
    "                                  'OR/' : 'ORANGE',\n",
    "                                  'GRN' :'GREEN',\n",
    "                                  'GN' : 'GREEN',\n",
    "                                  'TEAL' : 'GREEN',\n",
    "                                  'LIME' : 'GREEN',\n",
    "                                  'GLG' : 'GREEN',\n",
    "                                  'BLU' : 'BLUE',\n",
    "                                  'SILVE' : 'SILVER',\n",
    "                                  'SLIVE' : 'SILVER',\n",
    "                                  'YELLO' : 'YELLOW',\n",
    "                                  'YL' : 'YELLOW',\n",
    "                                  'YLLW' :'YELLOW',\n",
    "                                  'YELL' : 'YELLOW',\n",
    "                                  'YEL' : 'YELLOW',\n",
    "                                  'YLW' : 'YELLOW',\n",
    "                                  'BK/GY' : 'BLACK',\n",
    "                                  'LT/' : 'GREY',\n",
    "                                  'DK' : 'GREY',\n",
    "                                  'DK/' : 'GREY',\n",
    "                                  'LTG': 'GREY',\n",
    "                                  'GRU' : 'GREY',\n",
    "                                  'SILV' : 'SILVER',\n",
    "                                  'SLVR' : 'SILVER',\n",
    "                                  'SL' : 'SILVER',\n",
    "                                  'MR' : 'MAROON',\n",
    "                                  'DKR' : 'MAROON',\n",
    "                                  'MAROO' : 'MAROON',\n",
    "                                  'BURG' : 'MAROON',\n",
    "                                  'BURGU' : 'MAROON',\n",
    "                                  'BUR' : 'MAROON',\n",
    "                                  'BURGA' : 'MAROON',\n",
    "                                  'BU' : 'MAROON',\n",
    "                                  'DKM' : 'MAROON',\n",
    "                                  'MATOO' : 'MAROON',\n",
    "                                  'MD' : 'MAROON',\n",
    "                                  'MR/' : 'MAROON',\n",
    "                                  'GR/' : 'GREY',\n",
    "                                  'DKB' : 'BLUE',\n",
    "                                  'DKG' : 'GREEN',\n",
    "                                  'SILVR':'SILVER',\n",
    "                                  'SIL' : 'SILVER',\n",
    "                                  'SLV' : 'SILVER',\n",
    "                                  'SIKLV' : 'SILVER',\n",
    "                                  'PURPL' : 'PURPLE',\n",
    "                                  'PR' : 'PURPLE',\n",
    "                                  'PR/' : 'PURPLE',\n",
    "                                  'LAVEN' : 'PURPLE',\n",
    "                                  'DKP' : 'PURPLE',\n",
    "                                  'LN' : 'PURPLE',\n",
    "                                  'YW/' : 'YELLOW',\n",
    "                                  'YWB' : 'YELLOW',\n",
    "                                  'Y/W' : 'YELLOW',\n",
    "                                  'YW/BK' : 'YELLOW',\n",
    "                                  'LTB' : 'BLUE',\n",
    "                                  'BL/' : 'BLUE',\n",
    "                                  'BLG' : 'BLUE',\n",
    "                                  'BLW' : 'BLUE',\n",
    "                                  'NAVY' : 'BLUE',\n",
    "                                  'BLV' : 'BLUE',\n",
    "                                  'PK' : 'PINK',\n",
    "                                  'NO' : 'OTHER',\n",
    "                                  'NOC' : 'OTHER',\n",
    "                                  'TI I' : 'OTHER',\n",
    "                                  'PLE' : 'OTHER',\n",
    "                                  'MULTI' : 'OTHER',\n",
    "                                  'IM' : 'OTHER',\n",
    "                                  'BUICK' : 'OTHER',\n",
    "                                  'SUBAR' : 'OTHER',\n",
    "                                  'FORD' : 'OTHER',\n",
    "                                  'GC' : 'OTHER',\n",
    "                                  'GV' : 'OTHER',\n",
    "                                  'LEXUS' : 'OTHER',\n",
    "                                  'BJ' : 'OTHER',\n",
    "                                  'CADIL' : 'OTHER',\n",
    "                                  'BET' : 'OTHER',\n",
    "                                  'VAN' : 'OTHER'\n",
    "                                  }}, inplace=True)\n",
    "    \n",
    "    # Cleaning up the values in the 'Vehicle Body Type' field\n",
    "    df.replace({'Vehicle Body Type': {'P-U':'PICKUP',\n",
    "                                      'TK':'PICKUP',\n",
    "                                      'SEDN' : 'SDN',\n",
    "                                      'TR' : 'TRAC',\n",
    "                                      'TRUC' : 'PICKUP',\n",
    "                                      'T/CR' : 'TRAC',\n",
    "                                      'TR/C' : 'TRAC',\n",
    "                                      'UTII' : 'UTIL',\n",
    "                                     }}, inplace=True)\n",
    "    \n",
    "    # Cleaning up the values in the 'Vehicle Makes' field\n",
    "    df.replace({'Vehicle Make': {'5AAB':'SAAB',\n",
    "                                 'AACUR' : 'ACURA',\n",
    "                                 'BEN' : 'BENTL',\n",
    "                                 'BENTI' : 'BENTL',\n",
    "                                 'DUCET' : 'DUCAT',\n",
    "                                 'FRIE' : 'FRIG',\n",
    "                                 'FRGH' : 'FRIG',\n",
    "                                 'FRIEG' : 'FRIG',\n",
    "                                 'HNO' : 'HINO',\n",
    "                                 'HYUAN' : 'HYUND',\n",
    "                                 'INET' : 'INTER',\n",
    "                                 'INETR' : 'INTER',\n",
    "                                 'INTOR' : 'INTER',\n",
    "                                 'INFIT' : 'INFIN',\n",
    "                                 'INIER' : 'INTER',\n",
    "                                 'INTI' : 'INTER',\n",
    "                                 'KAWIS' : 'KAWAS',\n",
    "                                 'KENO' : 'KENOW',\n",
    "                                 'KENW' : 'KENOW',\n",
    "                                 'KENWO': 'KENOW',\n",
    "                                 'MAZEN' : 'MAZDA',\n",
    "                                 'MAZSE' : 'MAZDA',\n",
    "                                 'ME/BE' : 'ME',\n",
    "                                 'MINE' : 'MINI',\n",
    "                                 'MINIC' : 'MINI',\n",
    "                                 'MISTI' : 'MITSU',\n",
    "                                 'MNI' : 'MINI',\n",
    "                                 'MOTOG' : 'MOTO',\n",
    "                                 'NAVIS' : 'NAVI',\n",
    "                                 'OLDMO' : 'OLDS',\n",
    "                                 'OLDSM' : 'OLDS',\n",
    "                                 'OLSSM' : 'OLDS',\n",
    "                                 'PREV' : 'PREVO',\n",
    "                                 'RIAGG' : 'RIGGI',\n",
    "                                 'RO/R' : 'ROLLS',\n",
    "                                 'R ROV' : 'ROVER',\n",
    "                                 'SMRT' : 'SMART',\n",
    "                                 'SNZKI' : 'SUZUK',\n",
    "                                 'SUARU' : 'SUBAR',\n",
    "                                 'SUBE' : 'SUBAR',\n",
    "                                 'SUZNK' : 'SUZUK',\n",
    "                                 'UT/M' : 'UTIL',\n",
    "                                 'UTI' : 'UTIL',\n",
    "                                 'UTILI' : 'UTIL',\n",
    "                                 'VOLLK' : 'VOLKS',\n",
    "                                 'WORH' : 'WORK',\n",
    "                                 'WORKH' : 'WORK',\n",
    "                                 'YAMAB' : 'YAMAT',\n",
    "                                 'YAMAH' : 'YAMAT'          \n",
    "                                      ,\n",
    "                                     }}, inplace=True)\n",
    "    \n",
    "    df['Vehicle Year'] = df['Vehicle Year'].astype(int)\n",
    "    df['Violation Code'] = df['Violation Code'].astype(int)\n",
    "    df['Street Code1'] = df['Street Code1'].astype(int)\n",
    "    df['Street Code2'] = df['Street Code2'].astype(int)\n",
    "    df['Street Code3'] = df['Street Code3'].astype(int)\n",
    "    df.replace({'Vehicle Year' : {0: df['Vehicle Year'].median()}}, inplace=True) \n",
    "    "
   ]
  },
  {
   "cell_type": "markdown",
   "metadata": {
    "slideshow": {
     "slide_type": "skip"
    }
   },
   "source": [
    "### Missing Values\n",
    "I will be imputing the missing _Vehicle Color_ fields with BLACK, which is the most frequent value. The missing values in _Vehicle Make_ will be filled with HONDA, and the _Vehicle Body Type_ field's missing values will become SUBN, which are the most frequent values in those fields."
   ]
  },
  {
   "cell_type": "code",
   "execution_count": 74,
   "metadata": {
    "collapsed": true,
    "slideshow": {
     "slide_type": "skip"
    }
   },
   "outputs": [],
   "source": [
    "def fillna_df(df):\n",
    "    df['Vehicle Color'].fillna(df['Vehicle Color'].value_counts().index[0], inplace=True)\n",
    "    df['Vehicle Make'].fillna(df['Vehicle Make'].value_counts().index[0], inplace=True)\n",
    "    df['Vehicle Body Type'].fillna(df['Vehicle Body Type'].value_counts().index[0], inplace=True)\n",
    "    "
   ]
  },
  {
   "cell_type": "markdown",
   "metadata": {
    "slideshow": {
     "slide_type": "skip"
    }
   },
   "source": [
    "## Making Dummy Variables\n",
    "\n",
    "Since six of the nine fields (including the outcome variable: _Violation Code_) are categorical, they are going to be broken out into dummy variables. I will also be separating the outcome variables into a separate dataframe in preparation for the analysis."
   ]
  },
  {
   "cell_type": "code",
   "execution_count": 111,
   "metadata": {
    "collapsed": true,
    "slideshow": {
     "slide_type": "skip"
    }
   },
   "outputs": [],
   "source": [
    "def dummies_df(df):\n",
    "    state_dummies = pd.get_dummies(df['Registration State'], prefix='State', drop_first=True).astype(int)\n",
    "    vehicle_make_dummies = pd.get_dummies(df['Vehicle Make'], prefix='Make', drop_first=True).astype(int)\n",
    "    body_type_dummies = pd.get_dummies(df['Vehicle Body Type'], prefix='Body Type', drop_first=True).astype(int)\n",
    "    vehicle_color_dummies = pd.get_dummies(df['Vehicle Color'], prefix='Color', drop_first=True).astype(int)\n",
    "    street_code1_dummies = pd.get_dummies(df['Street Code1'], prefix='Street Code1', drop_first=True).astype(int)\n",
    "    street_code2_dummies = pd.get_dummies(df['Street Code2'], prefix='Street Code2', drop_first=True).astype(int)\n",
    "    street_code3_dummies = pd.get_dummies(df['Street Code3'], prefix='Street Code3', drop_first=True).astype(int)\n",
    "    year_dummies = pd.get_dummies(df['Year'], prefix='Year', drop_first=True).astype(int)\n",
    "    month_dummies = pd.get_dummies(df['Month'], prefix='Month', drop_first=True).astype(int)\n",
    "    day_dummies = pd.get_dummies(df['Day'], prefix='Day', drop_first=True).astype(int)\n",
    "    hour_dummies = pd.get_dummies(df['Hour'], prefix='Hour', drop_first=True).astype(int)\n",
    "    minute_dummies = pd.get_dummies(df['Minute'], prefix='Minute', drop_first=True).astype(int)\n",
    "    vehicle_year = df['Vehicle Year']\n",
    "    #date = df['Datetime']\n",
    "\n",
    "    df_dummies = pd.concat([state_dummies, \n",
    "                vehicle_make_dummies, \n",
    "                body_type_dummies, \n",
    "                vehicle_color_dummies,\n",
    "                street_code1_dummies,\n",
    "                street_code2_dummies,\n",
    "                street_code3_dummies,\n",
    "                year_dummies,\n",
    "                month_dummies,\n",
    "                day_dummies,\n",
    "                hour_dummies,\n",
    "                minute_dummies], axis=1)\n",
    "\n",
    "    df_dummies['Vehicle Year'] = vehicle_year\n",
    "    #df_dummies['Datetime'] = date\n",
    "    #df_dummies['Hour'] = hour\n",
    "    #df_dummies['Minute'] = minute\n",
    "    \n",
    "    \n",
    "    return df_dummies"
   ]
  },
  {
   "cell_type": "code",
   "execution_count": 165,
   "metadata": {
    "collapsed": false,
    "slideshow": {
     "slide_type": "skip"
    }
   },
   "outputs": [],
   "source": [
    "def dummies_no_time_df(df):\n",
    "    state_dummies = pd.get_dummies(df['Registration State'], prefix='State', drop_first=True).astype(int)\n",
    "    vehicle_make_dummies = pd.get_dummies(df['Vehicle Make'], prefix='Make', drop_first=True).astype(int)\n",
    "    body_type_dummies = pd.get_dummies(df['Vehicle Body Type'], prefix='Body Type', drop_first=True).astype(int)\n",
    "    vehicle_color_dummies = pd.get_dummies(df['Vehicle Color'], prefix='Color', drop_first=True).astype(int)\n",
    "    street_code1_dummies = pd.get_dummies(df['Street Code1'], prefix='Street Code1', drop_first=True).astype(int)\n",
    "    street_code2_dummies = pd.get_dummies(df['Street Code2'], prefix='Street Code2', drop_first=True).astype(int)\n",
    "    street_code3_dummies = pd.get_dummies(df['Street Code3'], prefix='Street Code3', drop_first=True).astype(int)\n",
    "    year_dummies = pd.get_dummies(df['Year'], prefix='Year', drop_first=True).astype(int)\n",
    "    month_dummies = pd.get_dummies(df['Month'], prefix='Month', drop_first=True).astype(int)\n",
    "    day_dummies = pd.get_dummies(df['Day'], prefix='Day', drop_first=True).astype(int)\n",
    "    hour_dummies = pd.get_dummies(df['Hour'], prefix='Hour', drop_first=True).astype(int)\n",
    "    minute_dummies = pd.get_dummies(df['Minute'], prefix='Minute', drop_first=True).astype(int)\n",
    "    vehicle_year = df['Vehicle Year']\n",
    "    #date = df['Datetime']\n",
    "\n",
    "    df_dummies = pd.concat([state_dummies, \n",
    "                vehicle_make_dummies, \n",
    "                body_type_dummies, \n",
    "                vehicle_color_dummies,\n",
    "                street_code1_dummies,\n",
    "                street_code2_dummies,\n",
    "                street_code3_dummies], axis=1)\n",
    "                #year_dummies,\n",
    "                #month_dummies,\n",
    "                #day_dummies,\n",
    "                #hour_dummies,\n",
    "                #minute_dummies], \n",
    "                            \n",
    "\n",
    "    df_dummies['Vehicle Year'] = vehicle_year\n",
    "    #df_dummies['Datetime'] = date\n",
    "    #df_dummies['Hour'] = hour\n",
    "    #df_dummies['Minute'] = minute\n",
    "    \n",
    "    \n",
    "    return df_dummies"
   ]
  },
  {
   "cell_type": "markdown",
   "metadata": {
    "slideshow": {
     "slide_type": "skip"
    }
   },
   "source": [
    "## Running it All"
   ]
  },
  {
   "cell_type": "code",
   "execution_count": 154,
   "metadata": {
    "collapsed": false,
    "slideshow": {
     "slide_type": "skip"
    }
   },
   "outputs": [
    {
     "name": "stderr",
     "output_type": "stream",
     "text": [
      "/home/trent/anaconda2/lib/python2.7/site-packages/ipykernel/__main__.py:259: SettingWithCopyWarning: \n",
      "A value is trying to be set on a copy of a slice from a DataFrame.\n",
      "Try using .loc[row_indexer,col_indexer] = value instead\n",
      "\n",
      "See the caveats in the documentation: http://pandas.pydata.org/pandas-docs/stable/indexing.html#indexing-view-versus-copy\n",
      "/home/trent/anaconda2/lib/python2.7/site-packages/ipykernel/__main__.py:260: SettingWithCopyWarning: \n",
      "A value is trying to be set on a copy of a slice from a DataFrame.\n",
      "Try using .loc[row_indexer,col_indexer] = value instead\n",
      "\n",
      "See the caveats in the documentation: http://pandas.pydata.org/pandas-docs/stable/indexing.html#indexing-view-versus-copy\n",
      "/home/trent/anaconda2/lib/python2.7/site-packages/ipykernel/__main__.py:261: SettingWithCopyWarning: \n",
      "A value is trying to be set on a copy of a slice from a DataFrame.\n",
      "Try using .loc[row_indexer,col_indexer] = value instead\n",
      "\n",
      "See the caveats in the documentation: http://pandas.pydata.org/pandas-docs/stable/indexing.html#indexing-view-versus-copy\n",
      "/home/trent/anaconda2/lib/python2.7/site-packages/ipykernel/__main__.py:262: SettingWithCopyWarning: \n",
      "A value is trying to be set on a copy of a slice from a DataFrame.\n",
      "Try using .loc[row_indexer,col_indexer] = value instead\n",
      "\n",
      "See the caveats in the documentation: http://pandas.pydata.org/pandas-docs/stable/indexing.html#indexing-view-versus-copy\n",
      "/home/trent/anaconda2/lib/python2.7/site-packages/ipykernel/__main__.py:263: SettingWithCopyWarning: \n",
      "A value is trying to be set on a copy of a slice from a DataFrame.\n",
      "Try using .loc[row_indexer,col_indexer] = value instead\n",
      "\n",
      "See the caveats in the documentation: http://pandas.pydata.org/pandas-docs/stable/indexing.html#indexing-view-versus-copy\n"
     ]
    }
   ],
   "source": [
    "astoriaX2 = prep_df(df)\n",
    "\n",
    "clean_df(astoriaX2)\n",
    "\n",
    "fillna_df(astoriaX2)"
   ]
  },
  {
   "cell_type": "markdown",
   "metadata": {
    "slideshow": {
     "slide_type": "slide"
    }
   },
   "source": [
    "# Predictor Variables\n"
   ]
  },
  {
   "cell_type": "code",
   "execution_count": 82,
   "metadata": {
    "collapsed": false,
    "slideshow": {
     "slide_type": "-"
    }
   },
   "outputs": [
    {
     "name": "stdout",
     "output_type": "stream",
     "text": [
      "df.shape(): (225619, 14)\n"
     ]
    },
    {
     "data": {
      "text/html": [
       "<div>\n",
       "<table border=\"1\" class=\"dataframe\">\n",
       "  <thead>\n",
       "    <tr style=\"text-align: right;\">\n",
       "      <th></th>\n",
       "      <th>Registration State</th>\n",
       "      <th>Vehicle Make</th>\n",
       "      <th>Vehicle Body Type</th>\n",
       "      <th>Violation Code</th>\n",
       "      <th>Vehicle Color</th>\n",
       "      <th>Vehicle Year</th>\n",
       "      <th>Street Code1</th>\n",
       "      <th>Street Code2</th>\n",
       "      <th>Street Code3</th>\n",
       "      <th>Year</th>\n",
       "      <th>Month</th>\n",
       "      <th>Day</th>\n",
       "      <th>Hour</th>\n",
       "      <th>Minute</th>\n",
       "    </tr>\n",
       "  </thead>\n",
       "  <tbody>\n",
       "    <tr>\n",
       "      <th>53</th>\n",
       "      <td>NY</td>\n",
       "      <td>HONDA</td>\n",
       "      <td>SDN</td>\n",
       "      <td>40</td>\n",
       "      <td>GREEN</td>\n",
       "      <td>1996</td>\n",
       "      <td>0</td>\n",
       "      <td>40404</td>\n",
       "      <td>40404</td>\n",
       "      <td>2015</td>\n",
       "      <td>7</td>\n",
       "      <td>7</td>\n",
       "      <td>5</td>\n",
       "      <td>45</td>\n",
       "    </tr>\n",
       "    <tr>\n",
       "      <th>470</th>\n",
       "      <td>NY</td>\n",
       "      <td>MAZDA</td>\n",
       "      <td>SDN</td>\n",
       "      <td>21</td>\n",
       "      <td>BLACK</td>\n",
       "      <td>2009</td>\n",
       "      <td>64290</td>\n",
       "      <td>7240</td>\n",
       "      <td>7540</td>\n",
       "      <td>2015</td>\n",
       "      <td>2</td>\n",
       "      <td>7</td>\n",
       "      <td>8</td>\n",
       "      <td>7</td>\n",
       "    </tr>\n",
       "    <tr>\n",
       "      <th>471</th>\n",
       "      <td>NY</td>\n",
       "      <td>TOYOT</td>\n",
       "      <td>SDN</td>\n",
       "      <td>21</td>\n",
       "      <td>BLUE</td>\n",
       "      <td>2014</td>\n",
       "      <td>6940</td>\n",
       "      <td>7490</td>\n",
       "      <td>7640</td>\n",
       "      <td>2015</td>\n",
       "      <td>2</td>\n",
       "      <td>7</td>\n",
       "      <td>8</td>\n",
       "      <td>36</td>\n",
       "    </tr>\n",
       "    <tr>\n",
       "      <th>472</th>\n",
       "      <td>NY</td>\n",
       "      <td>HONDA</td>\n",
       "      <td>SDN</td>\n",
       "      <td>21</td>\n",
       "      <td>BLACK</td>\n",
       "      <td>2009</td>\n",
       "      <td>6440</td>\n",
       "      <td>10740</td>\n",
       "      <td>48990</td>\n",
       "      <td>2015</td>\n",
       "      <td>2</td>\n",
       "      <td>7</td>\n",
       "      <td>11</td>\n",
       "      <td>40</td>\n",
       "    </tr>\n",
       "    <tr>\n",
       "      <th>965</th>\n",
       "      <td>NY</td>\n",
       "      <td>SMART</td>\n",
       "      <td>TWOD</td>\n",
       "      <td>21</td>\n",
       "      <td>BLACK</td>\n",
       "      <td>2014</td>\n",
       "      <td>9090</td>\n",
       "      <td>28790</td>\n",
       "      <td>7540</td>\n",
       "      <td>2015</td>\n",
       "      <td>7</td>\n",
       "      <td>7</td>\n",
       "      <td>9</td>\n",
       "      <td>39</td>\n",
       "    </tr>\n",
       "  </tbody>\n",
       "</table>\n",
       "</div>"
      ],
      "text/plain": [
       "    Registration State Vehicle Make Vehicle Body Type  Violation Code  \\\n",
       "53                  NY        HONDA               SDN              40   \n",
       "470                 NY        MAZDA               SDN              21   \n",
       "471                 NY        TOYOT               SDN              21   \n",
       "472                 NY        HONDA               SDN              21   \n",
       "965                 NY        SMART              TWOD              21   \n",
       "\n",
       "    Vehicle Color  Vehicle Year  Street Code1  Street Code2  Street Code3  \\\n",
       "53          GREEN          1996             0         40404         40404   \n",
       "470         BLACK          2009         64290          7240          7540   \n",
       "471          BLUE          2014          6940          7490          7640   \n",
       "472         BLACK          2009          6440         10740         48990   \n",
       "965         BLACK          2014          9090         28790          7540   \n",
       "\n",
       "     Year  Month  Day  Hour Minute  \n",
       "53   2015      7    7     5     45  \n",
       "470  2015      2    7     8      7  \n",
       "471  2015      2    7     8     36  \n",
       "472  2015      2    7    11     40  \n",
       "965  2015      7    7     9     39  "
      ]
     },
     "execution_count": 82,
     "metadata": {},
     "output_type": "execute_result"
    }
   ],
   "source": [
    "print 'df.shape():', astoriaX.shape\n",
    "astoriaX.head()"
   ]
  },
  {
   "cell_type": "code",
   "execution_count": 112,
   "metadata": {
    "collapsed": false,
    "slideshow": {
     "slide_type": "skip"
    }
   },
   "outputs": [],
   "source": [
    "astoriaX = dummies_df(astoriaX)\n",
    "\n",
    "X = astoriaX\n",
    "y = df['Violation Code'].astype(int)"
   ]
  },
  {
   "cell_type": "markdown",
   "metadata": {
    "slideshow": {
     "slide_type": "skip"
    }
   },
   "source": [
    "## Choosing Predictor Variables\n",
    "\n",
    "The dataset contains mostly categorical data across its 43 columns. On first observation, there are four columns that contain no data and fifteen more that have missing data. "
   ]
  },
  {
   "cell_type": "code",
   "execution_count": 8,
   "metadata": {
    "collapsed": false,
    "slideshow": {
     "slide_type": "skip"
    }
   },
   "outputs": [
    {
     "data": {
      "text/html": [
       "<div>\n",
       "<table border=\"1\" class=\"dataframe\">\n",
       "  <thead>\n",
       "    <tr style=\"text-align: right;\">\n",
       "      <th></th>\n",
       "      <th>Summons Number</th>\n",
       "      <th>Plate ID</th>\n",
       "      <th>Registration State</th>\n",
       "      <th>Plate Type</th>\n",
       "      <th>Issue Date</th>\n",
       "      <th>Violation Code</th>\n",
       "      <th>Vehicle Body Type</th>\n",
       "      <th>Vehicle Make</th>\n",
       "      <th>Issuing Agency</th>\n",
       "      <th>Street Code1</th>\n",
       "      <th>...</th>\n",
       "      <th>Vehicle Color</th>\n",
       "      <th>Unregistered Vehicle?</th>\n",
       "      <th>Vehicle Year</th>\n",
       "      <th>Meter Number</th>\n",
       "      <th>Feet From Curb</th>\n",
       "      <th>Violation Post Code</th>\n",
       "      <th>Violation Description</th>\n",
       "      <th>No Standing or Stopping Violation</th>\n",
       "      <th>Hydrant Violation</th>\n",
       "      <th>Double Parking Violation</th>\n",
       "    </tr>\n",
       "  </thead>\n",
       "  <tbody>\n",
       "    <tr>\n",
       "      <th>53</th>\n",
       "      <td>1374160593</td>\n",
       "      <td>GRN9094</td>\n",
       "      <td>NY</td>\n",
       "      <td>PAS</td>\n",
       "      <td>07/07/2015</td>\n",
       "      <td>40.0</td>\n",
       "      <td>SDN</td>\n",
       "      <td>HONDA</td>\n",
       "      <td>P</td>\n",
       "      <td>0.0</td>\n",
       "      <td>...</td>\n",
       "      <td>GREEN</td>\n",
       "      <td>0</td>\n",
       "      <td>1996.0</td>\n",
       "      <td>-</td>\n",
       "      <td>0.0</td>\n",
       "      <td>NaN</td>\n",
       "      <td>NaN</td>\n",
       "      <td>NaN</td>\n",
       "      <td>NaN</td>\n",
       "      <td>NaN</td>\n",
       "    </tr>\n",
       "    <tr>\n",
       "      <th>470</th>\n",
       "      <td>1370558120</td>\n",
       "      <td>GTD1846</td>\n",
       "      <td>NY</td>\n",
       "      <td>PAS</td>\n",
       "      <td>07/02/2015</td>\n",
       "      <td>21.0</td>\n",
       "      <td>SDN</td>\n",
       "      <td>MAZDA</td>\n",
       "      <td>S</td>\n",
       "      <td>64290.0</td>\n",
       "      <td>...</td>\n",
       "      <td>BLK</td>\n",
       "      <td>0</td>\n",
       "      <td>2009.0</td>\n",
       "      <td>-</td>\n",
       "      <td>0.0</td>\n",
       "      <td>NaN</td>\n",
       "      <td>NaN</td>\n",
       "      <td>NaN</td>\n",
       "      <td>NaN</td>\n",
       "      <td>NaN</td>\n",
       "    </tr>\n",
       "    <tr>\n",
       "      <th>471</th>\n",
       "      <td>1370558132</td>\n",
       "      <td>GSH3421</td>\n",
       "      <td>NY</td>\n",
       "      <td>PAS</td>\n",
       "      <td>07/02/2015</td>\n",
       "      <td>21.0</td>\n",
       "      <td>SDN</td>\n",
       "      <td>TOYOT</td>\n",
       "      <td>S</td>\n",
       "      <td>6940.0</td>\n",
       "      <td>...</td>\n",
       "      <td>BLUE</td>\n",
       "      <td>0</td>\n",
       "      <td>2014.0</td>\n",
       "      <td>-</td>\n",
       "      <td>0.0</td>\n",
       "      <td>NaN</td>\n",
       "      <td>NaN</td>\n",
       "      <td>NaN</td>\n",
       "      <td>NaN</td>\n",
       "      <td>NaN</td>\n",
       "    </tr>\n",
       "    <tr>\n",
       "      <th>472</th>\n",
       "      <td>1370558144</td>\n",
       "      <td>GKJ8936</td>\n",
       "      <td>NY</td>\n",
       "      <td>PAS</td>\n",
       "      <td>07/02/2015</td>\n",
       "      <td>21.0</td>\n",
       "      <td>SDN</td>\n",
       "      <td>HONDA</td>\n",
       "      <td>S</td>\n",
       "      <td>6440.0</td>\n",
       "      <td>...</td>\n",
       "      <td>BLACK</td>\n",
       "      <td>0</td>\n",
       "      <td>2009.0</td>\n",
       "      <td>-</td>\n",
       "      <td>0.0</td>\n",
       "      <td>NaN</td>\n",
       "      <td>NaN</td>\n",
       "      <td>NaN</td>\n",
       "      <td>NaN</td>\n",
       "      <td>NaN</td>\n",
       "    </tr>\n",
       "    <tr>\n",
       "      <th>965</th>\n",
       "      <td>1373151894</td>\n",
       "      <td>GRH1305</td>\n",
       "      <td>NY</td>\n",
       "      <td>PAS</td>\n",
       "      <td>07/07/2015</td>\n",
       "      <td>21.0</td>\n",
       "      <td>TWOD</td>\n",
       "      <td>SMART</td>\n",
       "      <td>P</td>\n",
       "      <td>9090.0</td>\n",
       "      <td>...</td>\n",
       "      <td>BLK</td>\n",
       "      <td>0</td>\n",
       "      <td>2014.0</td>\n",
       "      <td>-</td>\n",
       "      <td>0.0</td>\n",
       "      <td>NaN</td>\n",
       "      <td>NaN</td>\n",
       "      <td>NaN</td>\n",
       "      <td>NaN</td>\n",
       "      <td>NaN</td>\n",
       "    </tr>\n",
       "  </tbody>\n",
       "</table>\n",
       "<p>5 rows × 43 columns</p>\n",
       "</div>"
      ],
      "text/plain": [
       "     Summons Number Plate ID Registration State Plate Type  Issue Date  \\\n",
       "53       1374160593  GRN9094                 NY        PAS  07/07/2015   \n",
       "470      1370558120  GTD1846                 NY        PAS  07/02/2015   \n",
       "471      1370558132  GSH3421                 NY        PAS  07/02/2015   \n",
       "472      1370558144  GKJ8936                 NY        PAS  07/02/2015   \n",
       "965      1373151894  GRH1305                 NY        PAS  07/07/2015   \n",
       "\n",
       "     Violation Code Vehicle Body Type Vehicle Make Issuing Agency  \\\n",
       "53             40.0               SDN        HONDA              P   \n",
       "470            21.0               SDN        MAZDA              S   \n",
       "471            21.0               SDN        TOYOT              S   \n",
       "472            21.0               SDN        HONDA              S   \n",
       "965            21.0              TWOD        SMART              P   \n",
       "\n",
       "     Street Code1           ...             Vehicle Color  \\\n",
       "53            0.0           ...                     GREEN   \n",
       "470       64290.0           ...                       BLK   \n",
       "471        6940.0           ...                      BLUE   \n",
       "472        6440.0           ...                     BLACK   \n",
       "965        9090.0           ...                       BLK   \n",
       "\n",
       "     Unregistered Vehicle?  Vehicle Year  Meter Number  Feet From Curb  \\\n",
       "53                       0        1996.0             -             0.0   \n",
       "470                      0        2009.0             -             0.0   \n",
       "471                      0        2014.0             -             0.0   \n",
       "472                      0        2009.0             -             0.0   \n",
       "965                      0        2014.0             -             0.0   \n",
       "\n",
       "     Violation Post Code  Violation Description  \\\n",
       "53                   NaN                    NaN   \n",
       "470                  NaN                    NaN   \n",
       "471                  NaN                    NaN   \n",
       "472                  NaN                    NaN   \n",
       "965                  NaN                    NaN   \n",
       "\n",
       "    No Standing or Stopping Violation Hydrant Violation  \\\n",
       "53                                NaN               NaN   \n",
       "470                               NaN               NaN   \n",
       "471                               NaN               NaN   \n",
       "472                               NaN               NaN   \n",
       "965                               NaN               NaN   \n",
       "\n",
       "    Double Parking Violation  \n",
       "53                       NaN  \n",
       "470                      NaN  \n",
       "471                      NaN  \n",
       "472                      NaN  \n",
       "965                      NaN  \n",
       "\n",
       "[5 rows x 43 columns]"
      ]
     },
     "execution_count": 8,
     "metadata": {},
     "output_type": "execute_result"
    }
   ],
   "source": [
    "df.head()"
   ]
  },
  {
   "cell_type": "markdown",
   "metadata": {
    "slideshow": {
     "slide_type": "skip"
    }
   },
   "source": [
    "Looking a little more closely at the data shows that several of the fields are cryptically coded and might take some work to unpack, but there are enough columns that contain understandable information and are either complete or only missing a few values. "
   ]
  },
  {
   "cell_type": "markdown",
   "metadata": {
    "slideshow": {
     "slide_type": "skip"
    }
   },
   "source": [
    "![Figure 1](output_29_0.png)"
   ]
  },
  {
   "cell_type": "code",
   "execution_count": 158,
   "metadata": {
    "collapsed": false,
    "slideshow": {
     "slide_type": "skip"
    }
   },
   "outputs": [
    {
     "data": {
      "image/png": "[encoded data removed]",
      "text/plain": [
       "<matplotlib.figure.Figure at 0x7fdcb0be89d0>"
      ]
     },
     "metadata": {},
     "output_type": "display_data"
    }
   ],
   "source": [
    "plt.figure(figsize=(24,16))\n",
    "sns.set(font_scale=1.5)\n",
    "sns.plt.title('Distribution of Violation Codes', fontsize=24)\n",
    "sns.countplot(y=\"Violation Code\", data=astoriaX2);"
   ]
  },
  {
   "cell_type": "markdown",
   "metadata": {
    "slideshow": {
     "slide_type": "slide"
    }
   },
   "source": [
    "# Choosing a Single Outcome Variable\n"
   ]
  },
  {
   "cell_type": "code",
   "execution_count": 98,
   "metadata": {
    "collapsed": false,
    "scrolled": true,
    "slideshow": {
     "slide_type": "fragment"
    }
   },
   "outputs": [
    {
     "data": {
      "text/html": [
       "<div>\n",
       "<table border=\"1\" class=\"dataframe\">\n",
       "  <thead>\n",
       "    <tr style=\"text-align: right;\">\n",
       "      <th></th>\n",
       "      <th>CODE</th>\n",
       "      <th>DEFINITION</th>\n",
       "      <th>Manhattan  96th St. &amp; below</th>\n",
       "      <th>All Other Areas</th>\n",
       "    </tr>\n",
       "  </thead>\n",
       "  <tbody>\n",
       "    <tr>\n",
       "      <th>10</th>\n",
       "      <td>21</td>\n",
       "      <td>Street Cleaning: No parking where parking is n...</td>\n",
       "      <td>$65</td>\n",
       "      <td>$45</td>\n",
       "    </tr>\n",
       "  </tbody>\n",
       "</table>\n",
       "</div>"
      ],
      "text/plain": [
       "   CODE                                         DEFINITION  \\\n",
       "10   21  Street Cleaning: No parking where parking is n...   \n",
       "\n",
       "   Manhattan  96th St. & below All Other Areas  \n",
       "10                        $65             $45   "
      ]
     },
     "execution_count": 98,
     "metadata": {},
     "output_type": "execute_result"
    }
   ],
   "source": [
    "df2 = pd.read_csv('DOF_Parking_Violation_Codes.csv')\n",
    "df2[(df2['CODE'] == '21')]"
   ]
  },
  {
   "cell_type": "markdown",
   "metadata": {
    "slideshow": {
     "slide_type": "slide"
    }
   },
   "source": [
    "## How Do these Predictor Variables Relate to the Outcome Variable"
   ]
  },
  {
   "cell_type": "code",
   "execution_count": 100,
   "metadata": {
    "collapsed": false,
    "slideshow": {
     "slide_type": "skip"
    }
   },
   "outputs": [],
   "source": [
    "y = df['Violation Code'].astype(int)\n",
    "y_dummies = pd.get_dummies(y, prefix='Violation_Code')\n",
    "y21 = y_dummies[['Violation_Code_21']]\n",
    "\n",
    "chart1_X = astoriaX.drop(['Violation Code', \n",
    "                          'Street Code1', \n",
    "                          'Street Code2', \n",
    "                          'Street Code3'], axis=1)\n",
    "\n",
    "chart1 = pd.concat([y21, chart1_X], axis=1)"
   ]
  },
  {
   "cell_type": "code",
   "execution_count": 103,
   "metadata": {
    "collapsed": false,
    "slideshow": {
     "slide_type": "skip"
    }
   },
   "outputs": [
    {
     "data": {
      "image/png": "[encoded data removed]",
      "text/plain": [
       "<matplotlib.figure.Figure at 0x7fdc932b5990>"
      ]
     },
     "metadata": {},
     "output_type": "display_data"
    }
   ],
   "source": [
    "temp1 = pd.crosstab(chart1['Vehicle Color'], chart1['Violation_Code_21'])\n",
    "figure = temp1.plot(kind='bar', stacked=False, grid=False, figsize=(18,10), fontsize=14, color = ['blue', 'red'])\n",
    "figure.set_title('Alternate Side Parking Tickets by Vehicle Color', fontsize=30)\n",
    "figure.set_xlabel('Vehicle Color', fontsize=16)\n",
    "figure.axes\n",
    "figure.set_ylabel('Number of Vehicles', fontsize=16)\n",
    "figure.legend(['No', 'Yes'],title='Ticket Issued?', fontsize=18);"
   ]
  },
  {
   "cell_type": "markdown",
   "metadata": {
    "slideshow": {
     "slide_type": "slide"
    }
   },
   "source": [
    "![Figure 2](output_33_0.png)"
   ]
  },
  {
   "cell_type": "markdown",
   "metadata": {
    "collapsed": true,
    "slideshow": {
     "slide_type": "skip"
    }
   },
   "source": [
    "### Defining the Train/Test split"
   ]
  },
  {
   "cell_type": "code",
   "execution_count": 104,
   "metadata": {
    "collapsed": true,
    "slideshow": {
     "slide_type": "skip"
    }
   },
   "outputs": [],
   "source": [
    "4# Borrowing this from Lesson 14\n",
    "def format_model_results(sklearn_model, X_train, X_test, y_train, y_test):\n",
    "    # Get the model's class name (E.g. LogisticRegression, KNearestNeighbor, etc.) and store it to a string\n",
    "    model_class_name = sklearn_model.__class__.__name__  \n",
    "    \n",
    "    y_test_pred   = sklearn_model.predict(X_test)\n",
    "    y_test_pred_proba   = sklearn_model.predict_proba(X_test)\n",
    "    y_train_pred  = sklearn_model.predict(X_train)\n",
    "\n",
    "    accuracy_score  = metrics.accuracy_score(y_test, y_test_pred)\n",
    "    precision_score = metrics.precision_score(y_test, y_test_pred, average='binary')\n",
    "    recall_score    = metrics.recall_score(y_test, y_test_pred, average='binary')\n",
    "    f1_score        = metrics.f1_score(y_test, y_test_pred, average='binary')\n",
    "    f1_score_train  = metrics.f1_score(y_train, y_train_pred, average='binary')\n",
    "    \n",
    "    return pd.DataFrame({\n",
    "            \"Accuracy\": accuracy_score, \n",
    "            \"Precision\": precision_score, \n",
    "            \"Recall\": recall_score, \n",
    "            \"F1 score\": f1_score, \n",
    "            \"F1 score (train)\": f1_score_train\n",
    "        }, index=[model_class_name])"
   ]
  },
  {
   "cell_type": "code",
   "execution_count": 182,
   "metadata": {
    "collapsed": true,
    "slideshow": {
     "slide_type": "skip"
    }
   },
   "outputs": [],
   "source": [
    "# Same as above, but includes AUC score\n",
    "def format_model_results2(sklearn_model, X_train, X_test, y_train, y_test):\n",
    "    # Get the model's class name (E.g. LogisticRegression, KNearestNeighbor, etc.) and store it to a string\n",
    "    model_class_name = sklearn_model.__class__.__name__  \n",
    "    \n",
    "    y_test_pred   = sklearn_model.predict(X_test)\n",
    "    y_test_pred_proba   = sklearn_model.predict_proba(X_test)\n",
    "    y_train_pred  = sklearn_model.predict(X_train)\n",
    "\n",
    "    accuracy_score  = metrics.accuracy_score(y_test, y_test_pred)\n",
    "    precision_score = metrics.precision_score(y_test, y_test_pred)\n",
    "    recall_score    = metrics.recall_score(y_test, y_test_pred)\n",
    "    f1_score        = metrics.f1_score(y_test, y_test_pred)\n",
    "    f1_score_train  = metrics.f1_score(y_train, y_train_pred)\n",
    "    auc_score       = metrics.roc_auc_score(y_test, y_test_pred_proba[:, 1], average='weighted')\n",
    "    \n",
    "    return pd.DataFrame({\n",
    "            \"Accuracy\": accuracy_score, \n",
    "            \"Precision\": precision_score, \n",
    "            \"Recall\": recall_score, \n",
    "            \"F1 score\": f1_score, \n",
    "            \"F1 score (train)\": f1_score_train, \n",
    "            \"AUC\": auc_score\n",
    "        }, index=[model_class_name])"
   ]
  },
  {
   "cell_type": "code",
   "execution_count": 181,
   "metadata": {
    "collapsed": true
   },
   "outputs": [],
   "source": [
    "metrics.roc_auc_score?"
   ]
  },
  {
   "cell_type": "markdown",
   "metadata": {
    "slideshow": {
     "slide_type": "slide"
    }
   },
   "source": [
    "## Trying with a Random Forest"
   ]
  },
  {
   "cell_type": "code",
   "execution_count": 167,
   "metadata": {
    "collapsed": false,
    "slideshow": {
     "slide_type": "skip"
    }
   },
   "outputs": [],
   "source": [
    "df_notime = dummies_no_time_df(astoriaX2)"
   ]
  },
  {
   "cell_type": "code",
   "execution_count": 168,
   "metadata": {
    "collapsed": false,
    "slideshow": {
     "slide_type": "skip"
    }
   },
   "outputs": [],
   "source": [
    "X = df_notimemetrics.roc_auc_score\n",
    "y = y_dummies['Violation_Code_21']\n",
    "\n",
    "X_train, X_test, y_train, y_test = cross_validation.train_test_split(X, y, test_size=0.3, random_state=42)"
   ]
  },
  {
   "cell_type": "code",
   "execution_count": 169,
   "metadata": {
    "collapsed": false,
    "slideshow": {
     "slide_type": "skip"
    }
   },
   "outputs": [
    {
     "data": {
      "text/plain": [
       "Index([u'State_AB', u'State_AK', u'State_AL', u'State_AR', u'State_AZ',\n",
       "       u'State_BC', u'State_CA', u'State_CO', u'State_CT', u'State_DC',\n",
       "       ...\n",
       "       u'Street Code3_67690', u'Street Code3_67990', u'Street Code3_68290',\n",
       "       u'Street Code3_68690', u'Street Code3_70635', u'Street Code3_97340',\n",
       "       u'Street Code3_97360', u'Street Code3_97400', u'Street Code3_97414',\n",
       "       u'Vehicle Year'],\n",
       "      dtype='object', length=1527)"
      ]
     },
     "execution_count": 169,
     "metadata": {},
     "output_type": "execute_result"
    }
   ],
   "source": [
    "X.columns"
   ]
  },
  {
   "cell_type": "code",
   "execution_count": 173,
   "metadata": {
    "collapsed": false,
    "slideshow": {
     "slide_type": "fragment"
    }
   },
   "outputs": [],
   "source": [
    "rforest2 = ensemble.RandomForestClassifier(\n",
    "    n_estimators = 3,\n",
    "    oob_score=True, \n",
    "    max_depth=400\n",
    ")\n"
   ]
  },
  {
   "cell_type": "code",
   "execution_count": 172,
   "metadata": {
    "collapsed": false,
    "slideshow": {
     "slide_type": "fragment"
    }
   },
   "outputs": [
    {
     "data": {
      "text/html": [
       "<div>\n",
       "<table border=\"1\" class=\"dataframe\">\n",
       "  <thead>\n",
       "    <tr style=\"text-align: right;\">\n",
       "      <th></th>\n",
       "      <th>AUC</th>\n",
       "      <th>Accuracy</th>\n",
       "      <th>F1 score</th>\n",
       "      <th>F1 score (train)</th>\n",
       "      <th>Precision</th>\n",
       "      <th>Recall</th>\n",
       "    </tr>\n",
       "  </thead>\n",
       "  <tbody>\n",
       "    <tr>\n",
       "      <th>RandomForestClassifier</th>\n",
       "      <td>0.765982</td>\n",
       "      <td>0.764146</td>\n",
       "      <td>0.576372</td>\n",
       "      <td>0.877216</td>\n",
       "      <td>0.600498</td>\n",
       "      <td>0.55411</td>\n",
       "    </tr>\n",
       "  </tbody>\n",
       "</table>\n",
       "</div>"
      ],
      "text/plain": [
       "                             AUC  Accuracy  F1 score  F1 score (train)  \\\n",
       "RandomForestClassifier  0.765982  0.764146  0.576372          0.877216   \n",
       "\n",
       "                        Precision   Recall  \n",
       "RandomForestClassifier   0.600498  0.55411  "
      ]
     },
     "execution_count": 172,
     "metadata": {},
     "output_type": "execute_result"
    }
   ],
   "source": [
    "rforest2.fit(X_train, y_train)\n",
    "format_model_results2(rforest2, X_train, X_test, y_train, y_test)"
   ]
  },
  {
   "cell_type": "markdown",
   "metadata": {
    "slideshow": {
     "slide_type": "slide"
    }
   },
   "source": [
    "# Overfitting"
   ]
  },
  {
   "cell_type": "code",
   "execution_count": null,
   "metadata": {
    "collapsed": true,
    "slideshow": {
     "slide_type": "fragment"
    }
   },
   "outputs": [],
   "source": [
    "rforest2 = ensemble.RandomForestClassifier(\n",
    "    n_estimators = 3,\n",
    "    oob_score=True, \n",
    "    max_depth=400\n",
    ")"
   ]
  },
  {
   "cell_type": "markdown",
   "metadata": {
    "slideshow": {
     "slide_type": "skip"
    }
   },
   "source": [
    "## Predicting just one outcome variable"
   ]
  },
  {
   "cell_type": "code",
   "execution_count": 106,
   "metadata": {
    "collapsed": false,
    "slideshow": {
     "slide_type": "skip"
    }
   },
   "outputs": [],
   "source": [
    "y = df['Violation Code'].astype(int)"
   ]
  },
  {
   "cell_type": "code",
   "execution_count": 107,
   "metadata": {
    "collapsed": false,
    "slideshow": {
     "slide_type": "skip"
    }
   },
   "outputs": [],
   "source": [
    "y_dummies = pd.get_dummies(y, prefix='Violation_Code')"
   ]
  },
  {
   "cell_type": "code",
   "execution_count": 113,
   "metadata": {
    "collapsed": false,
    "slideshow": {
     "slide_type": "skip"
    }
   },
   "outputs": [],
   "source": [
    "X = astoriaX\n",
    "y = y_dummies['Violation_Code_21']\n",
    "\n",
    "X_train, X_test, y_train, y_test = cross_validation.train_test_split(X, y, test_size=0.3, random_state=42)"
   ]
  },
  {
   "cell_type": "code",
   "execution_count": 118,
   "metadata": {
    "collapsed": false,
    "scrolled": true,
    "slideshow": {
     "slide_type": "skip"
    }
   },
   "outputs": [
    {
     "name": "stderr",
     "output_type": "stream",
     "text": [
      "/home/trent/anaconda2/lib/python2.7/site-packages/sklearn/ensemble/forest.py:403: UserWarning: Some inputs do not have OOB scores. This probably means too few trees were used to compute any reliable oob estimates.\n",
      "  warn(\"Some inputs do not have OOB scores. \"\n"
     ]
    },
    {
     "data": {
      "text/html": [
       "<div>\n",
       "<table border=\"1\" class=\"dataframe\">\n",
       "  <thead>\n",
       "    <tr style=\"text-align: right;\">\n",
       "      <th></th>\n",
       "      <th>AUC</th>\n",
       "      <th>Accuracy</th>\n",
       "      <th>F1 score</th>\n",
       "      <th>F1 score (train)</th>\n",
       "      <th>Precision</th>\n",
       "      <th>Recall</th>\n",
       "    </tr>\n",
       "  </thead>\n",
       "  <tbody>\n",
       "    <tr>\n",
       "      <th>RandomForestClassifier</th>\n",
       "      <td>0.90393</td>\n",
       "      <td>0.861567</td>\n",
       "      <td>0.761493</td>\n",
       "      <td>0.957821</td>\n",
       "      <td>0.759791</td>\n",
       "      <td>0.763202</td>\n",
       "    </tr>\n",
       "  </tbody>\n",
       "</table>\n",
       "</div>"
      ],
      "text/plain": [
       "                            AUC  Accuracy  F1 score  F1 score (train)  \\\n",
       "RandomForestClassifier  0.90393  0.861567  0.761493          0.957821   \n",
       "\n",
       "                        Precision    Recall  \n",
       "RandomForestClassifier   0.759791  0.763202  "
      ]
     },
     "execution_count": 118,
     "metadata": {},
     "output_type": "execute_result"
    }
   ],
   "source": [
    "rforest2.fit(X_train, y_train)\n",
    "format_model_results2(rforest2, X_train, X_test, y_train, y_test)"
   ]
  },
  {
   "cell_type": "code",
   "execution_count": null,
   "metadata": {
    "collapsed": true,
    "slideshow": {
     "slide_type": "skip"
    }
   },
   "outputs": [],
   "source": []
  },
  {
   "cell_type": "code",
   "execution_count": 21,
   "metadata": {
    "collapsed": false,
    "slideshow": {
     "slide_type": "skip"
    }
   },
   "outputs": [
    {
     "name": "stderr",
     "output_type": "stream",
     "text": [
      "/home/trent/anaconda2/lib/python2.7/site-packages/sklearn/ensemble/forest.py:403: UserWarning: Some inputs do not have OOB scores. This probably means too few trees were used to compute any reliable oob estimates.\n",
      "  warn(\"Some inputs do not have OOB scores. \"\n"
     ]
    },
    {
     "data": {
      "text/html": [
       "<div>\n",
       "<table border=\"1\" class=\"dataframe\">\n",
       "  <thead>\n",
       "    <tr style=\"text-align: right;\">\n",
       "      <th></th>\n",
       "      <th>Accuracy</th>\n",
       "      <th>F1 score</th>\n",
       "      <th>F1 score (train)</th>\n",
       "      <th>Precision</th>\n",
       "      <th>Recall</th>\n",
       "    </tr>\n",
       "  </thead>\n",
       "  <tbody>\n",
       "    <tr>\n",
       "      <th>RandomForestClassifier</th>\n",
       "      <td>0.868348</td>\n",
       "      <td>0.772522</td>\n",
       "      <td>0.959001</td>\n",
       "      <td>0.773015</td>\n",
       "      <td>0.772029</td>\n",
       "    </tr>\n",
       "  </tbody>\n",
       "</table>\n",
       "</div>"
      ],
      "text/plain": [
       "                        Accuracy  F1 score  F1 score (train)  Precision  \\\n",
       "RandomForestClassifier  0.868348  0.772522          0.959001   0.773015   \n",
       "\n",
       "                          Recall  \n",
       "RandomForestClassifier  0.772029  "
      ]
     },
     "execution_count": 21,
     "metadata": {},
     "output_type": "execute_result"
    }
   ],
   "source": [
    "rforest2.fit(X_train, y_train)\n",
    "format_model_results2(rforest2, X_train, X_test, y_train, y_test)"
   ]
  },
  {
   "cell_type": "code",
   "execution_count": 127,
   "metadata": {
    "collapsed": false,
    "slideshow": {
     "slide_type": "skip"
    }
   },
   "outputs": [],
   "source": [
    "feature_importances = rforest2.feature_importances_\n",
    "feature_names = X.columns\n",
    "\n",
    "rforest2_features = pd.DataFrame({'Feature Name':feature_names, 'Feature Importance': feature_importances})\n"
   ]
  },
  {
   "cell_type": "code",
   "execution_count": 49,
   "metadata": {
    "collapsed": false,
    "scrolled": true,
    "slideshow": {
     "slide_type": "skip"
    }
   },
   "outputs": [
    {
     "data": {
      "text/plain": [
       "Index([u'State_AB', u'State_AK', u'State_AL', u'State_AR', u'State_AZ',\n",
       "       u'State_BC', u'State_CA', u'State_CO', u'State_CT', u'State_DC',\n",
       "       ...\n",
       "       u'Street Code3_67990.0', u'Street Code3_68290.0',\n",
       "       u'Street Code3_68690.0', u'Street Code3_70635.0',\n",
       "       u'Street Code3_97340.0', u'Street Code3_97360.0',\n",
       "       u'Street Code3_97400.0', u'Street Code3_97414.0', u'Vehicle Year',\n",
       "       u'Datetime'],\n",
       "      dtype='object', length=1716)"
      ]
     },
     "execution_count": 49,
     "metadata": {},
     "output_type": "execute_result"
    }
   ],
   "source": [
    "astoriaX.columns"
   ]
  },
  {
   "cell_type": "code",
   "execution_count": 25,
   "metadata": {
    "collapsed": false,
    "slideshow": {
     "slide_type": "skip"
    }
   },
   "outputs": [
    {
     "name": "stdout",
     "output_type": "stream",
     "text": [
      "Mean Score 0.783959188996\n"
     ]
    }
   ],
   "source": [
    "print \"Mean Score\", cross_validation.cross_val_score(rforest2, X, y, scoring='accuracy').mean()"
   ]
  },
  {
   "cell_type": "code",
   "execution_count": null,
   "metadata": {
    "collapsed": false,
    "slideshow": {
     "slide_type": "skip"
    }
   },
   "outputs": [],
   "source": [
    "from sklearn.grid_search import GridSearchCV\n",
    "from sklearn.metrics import classification_report\n",
    "\n",
    "parameter_grid = [\n",
    "  {'n_estimators': range(100, 502, 25), 'max_depth': range(100, 502, 25)}\n",
    " ]\n",
    "\n",
    "clf = GridSearchCV(ensemble.RandomForestClassifier(), parameter_grid, cv=3)\n",
    "clf.fit(X_train, y_train)"
   ]
  },
  {
   "cell_type": "code",
   "execution_count": 23,
   "metadata": {
    "collapsed": false,
    "scrolled": true,
    "slideshow": {
     "slide_type": "skip"
    }
   },
   "outputs": [
    {
     "name": "stdout",
     "output_type": "stream",
     "text": [
      "GRID SEARCH RESULTS\n",
      "\tBest Parameters {'n_estimators': 101, 'max_depth': 101}\n",
      "\tBest Score 0.793079445145\n"
     ]
    },
    {
     "data": {
      "text/html": [
       "<div>\n",
       "<table border=\"1\" class=\"dataframe\">\n",
       "  <thead>\n",
       "    <tr style=\"text-align: right;\">\n",
       "      <th></th>\n",
       "      <th>parameters</th>\n",
       "      <th>mean_validation_score</th>\n",
       "    </tr>\n",
       "  </thead>\n",
       "  <tbody>\n",
       "    <tr>\n",
       "      <th>0</th>\n",
       "      <td>{u'n_estimators': 1, u'max_depth': 1}</td>\n",
       "      <td>0.729069</td>\n",
       "    </tr>\n",
       "    <tr>\n",
       "      <th>1</th>\n",
       "      <td>{u'n_estimators': 26, u'max_depth': 1}</td>\n",
       "      <td>0.728242</td>\n",
       "    </tr>\n",
       "    <tr>\n",
       "      <th>2</th>\n",
       "      <td>{u'n_estimators': 51, u'max_depth': 1}</td>\n",
       "      <td>0.728242</td>\n",
       "    </tr>\n",
       "    <tr>\n",
       "      <th>3</th>\n",
       "      <td>{u'n_estimators': 76, u'max_depth': 1}</td>\n",
       "      <td>0.728242</td>\n",
       "    </tr>\n",
       "    <tr>\n",
       "      <th>4</th>\n",
       "      <td>{u'n_estimators': 101, u'max_depth': 1}</td>\n",
       "      <td>0.728242</td>\n",
       "    </tr>\n",
       "    <tr>\n",
       "      <th>5</th>\n",
       "      <td>{u'n_estimators': 1, u'max_depth': 26}</td>\n",
       "      <td>0.744232</td>\n",
       "    </tr>\n",
       "    <tr>\n",
       "      <th>6</th>\n",
       "      <td>{u'n_estimators': 26, u'max_depth': 26}</td>\n",
       "      <td>0.746053</td>\n",
       "    </tr>\n",
       "    <tr>\n",
       "      <th>7</th>\n",
       "      <td>{u'n_estimators': 51, u'max_depth': 26}</td>\n",
       "      <td>0.745609</td>\n",
       "    </tr>\n",
       "    <tr>\n",
       "      <th>8</th>\n",
       "      <td>{u'n_estimators': 76, u'max_depth': 26}</td>\n",
       "      <td>0.744348</td>\n",
       "    </tr>\n",
       "    <tr>\n",
       "      <th>9</th>\n",
       "      <td>{u'n_estimators': 101, u'max_depth': 26}</td>\n",
       "      <td>0.745589</td>\n",
       "    </tr>\n",
       "    <tr>\n",
       "      <th>10</th>\n",
       "      <td>{u'n_estimators': 1, u'max_depth': 51}</td>\n",
       "      <td>0.746108</td>\n",
       "    </tr>\n",
       "    <tr>\n",
       "      <th>11</th>\n",
       "      <td>{u'n_estimators': 26, u'max_depth': 51}</td>\n",
       "      <td>0.776535</td>\n",
       "    </tr>\n",
       "    <tr>\n",
       "      <th>12</th>\n",
       "      <td>{u'n_estimators': 51, u'max_depth': 51}</td>\n",
       "      <td>0.776928</td>\n",
       "    </tr>\n",
       "    <tr>\n",
       "      <th>13</th>\n",
       "      <td>{u'n_estimators': 76, u'max_depth': 51}</td>\n",
       "      <td>0.778003</td>\n",
       "    </tr>\n",
       "    <tr>\n",
       "      <th>14</th>\n",
       "      <td>{u'n_estimators': 101, u'max_depth': 51}</td>\n",
       "      <td>0.777720</td>\n",
       "    </tr>\n",
       "    <tr>\n",
       "      <th>15</th>\n",
       "      <td>{u'n_estimators': 1, u'max_depth': 76}</td>\n",
       "      <td>0.746421</td>\n",
       "    </tr>\n",
       "    <tr>\n",
       "      <th>16</th>\n",
       "      <td>{u'n_estimators': 26, u'max_depth': 76}</td>\n",
       "      <td>0.786830</td>\n",
       "    </tr>\n",
       "    <tr>\n",
       "      <th>17</th>\n",
       "      <td>{u'n_estimators': 51, u'max_depth': 76}</td>\n",
       "      <td>0.788525</td>\n",
       "    </tr>\n",
       "    <tr>\n",
       "      <th>18</th>\n",
       "      <td>{u'n_estimators': 76, u'max_depth': 76}</td>\n",
       "      <td>0.788968</td>\n",
       "    </tr>\n",
       "    <tr>\n",
       "      <th>19</th>\n",
       "      <td>{u'n_estimators': 101, u'max_depth': 76}</td>\n",
       "      <td>0.789190</td>\n",
       "    </tr>\n",
       "    <tr>\n",
       "      <th>20</th>\n",
       "      <td>{u'n_estimators': 1, u'max_depth': 101}</td>\n",
       "      <td>0.745765</td>\n",
       "    </tr>\n",
       "    <tr>\n",
       "      <th>21</th>\n",
       "      <td>{u'n_estimators': 26, u'max_depth': 101}</td>\n",
       "      <td>0.790124</td>\n",
       "    </tr>\n",
       "    <tr>\n",
       "      <th>22</th>\n",
       "      <td>{u'n_estimators': 51, u'max_depth': 101}</td>\n",
       "      <td>0.791808</td>\n",
       "    </tr>\n",
       "    <tr>\n",
       "      <th>23</th>\n",
       "      <td>{u'n_estimators': 76, u'max_depth': 101}</td>\n",
       "      <td>0.792918</td>\n",
       "    </tr>\n",
       "    <tr>\n",
       "      <th>24</th>\n",
       "      <td>{u'n_estimators': 101, u'max_depth': 101}</td>\n",
       "      <td>0.793079</td>\n",
       "    </tr>\n",
       "  </tbody>\n",
       "</table>\n",
       "</div>"
      ],
      "text/plain": [
       "                                   parameters  mean_validation_score\n",
       "0       {u'n_estimators': 1, u'max_depth': 1}               0.729069\n",
       "1      {u'n_estimators': 26, u'max_depth': 1}               0.728242\n",
       "2      {u'n_estimators': 51, u'max_depth': 1}               0.728242\n",
       "3      {u'n_estimators': 76, u'max_depth': 1}               0.728242\n",
       "4     {u'n_estimators': 101, u'max_depth': 1}               0.728242\n",
       "5      {u'n_estimators': 1, u'max_depth': 26}               0.744232\n",
       "6     {u'n_estimators': 26, u'max_depth': 26}               0.746053\n",
       "7     {u'n_estimators': 51, u'max_depth': 26}               0.745609\n",
       "8     {u'n_estimators': 76, u'max_depth': 26}               0.744348\n",
       "9    {u'n_estimators': 101, u'max_depth': 26}               0.745589\n",
       "10     {u'n_estimators': 1, u'max_depth': 51}               0.746108\n",
       "11    {u'n_estimators': 26, u'max_depth': 51}               0.776535\n",
       "12    {u'n_estimators': 51, u'max_depth': 51}               0.776928\n",
       "13    {u'n_estimators': 76, u'max_depth': 51}               0.778003\n",
       "14   {u'n_estimators': 101, u'max_depth': 51}               0.777720\n",
       "15     {u'n_estimators': 1, u'max_depth': 76}               0.746421\n",
       "16    {u'n_estimators': 26, u'max_depth': 76}               0.786830\n",
       "17    {u'n_estimators': 51, u'max_depth': 76}               0.788525\n",
       "18    {u'n_estimators': 76, u'max_depth': 76}               0.788968\n",
       "19   {u'n_estimators': 101, u'max_depth': 76}               0.789190\n",
       "20    {u'n_estimators': 1, u'max_depth': 101}               0.745765\n",
       "21   {u'n_estimators': 26, u'max_depth': 101}               0.790124\n",
       "22   {u'n_estimators': 51, u'max_depth': 101}               0.791808\n",
       "23   {u'n_estimators': 76, u'max_depth': 101}               0.792918\n",
       "24  {u'n_estimators': 101, u'max_depth': 101}               0.793079"
      ]
     },
     "execution_count": 23,
     "metadata": {},
     "output_type": "execute_result"
    }
   ],
   "source": [
    "print \"GRID SEARCH RESULTS\"\n",
    "print \"\\tBest Parameters\", clf.best_params_\n",
    "print \"\\tBest Score\", clf.best_score_\n",
    "\n",
    "pd.DataFrame(clf.grid_scores_).drop('cv_validation_scores', axis=1)"
   ]
  },
  {
   "cell_type": "code",
   "execution_count": 76,
   "metadata": {
    "collapsed": false,
    "scrolled": true,
    "slideshow": {
     "slide_type": "skip"
    }
   },
   "outputs": [],
   "source": [
    "feature_importances = rforest2.feature_importances_\n",
    "feature_names = X.columns\n",
    "\n",
    "rforest_features = pd.DataFrame({'Feature Name':feature_names, 'Feature Importance': feature_importances})"
   ]
  },
  {
   "cell_type": "code",
   "execution_count": 103,
   "metadata": {
    "collapsed": true,
    "slideshow": {
     "slide_type": "skip"
    }
   },
   "outputs": [
    {
     "name": "stderr",
     "output_type": "stream",
     "text": [
      "/home/trent/anaconda2/lib/python2.7/site-packages/ipykernel/__main__.py:1: FutureWarning: sort(columns=....) is deprecated, use sort_values(by=.....)\n",
      "  if __name__ == '__main__':\n"
     ]
    },
    {
     "data": {
      "text/html": [
       "<div>\n",
       "<table border=\"1\" class=\"dataframe\">\n",
       "  <thead>\n",
       "    <tr style=\"text-align: right;\">\n",
       "      <th></th>\n",
       "      <th>Feature Importance</th>\n",
       "      <th>Feature Name</th>\n",
       "    </tr>\n",
       "  </thead>\n",
       "  <tbody>\n",
       "    <tr>\n",
       "      <th>639</th>\n",
       "      <td>0.000000</td>\n",
       "      <td>Street Code1_15940.0</td>\n",
       "    </tr>\n",
       "    <tr>\n",
       "      <th>808</th>\n",
       "      <td>0.000000</td>\n",
       "      <td>Street Code1_59590.0</td>\n",
       "    </tr>\n",
       "    <tr>\n",
       "      <th>807</th>\n",
       "      <td>0.000000</td>\n",
       "      <td>Street Code1_58990.0</td>\n",
       "    </tr>\n",
       "    <tr>\n",
       "      <th>806</th>\n",
       "      <td>0.000000</td>\n",
       "      <td>Street Code1_58690.0</td>\n",
       "    </tr>\n",
       "    <tr>\n",
       "      <th>805</th>\n",
       "      <td>0.000000</td>\n",
       "      <td>Street Code1_58620.0</td>\n",
       "    </tr>\n",
       "    <tr>\n",
       "      <th>804</th>\n",
       "      <td>0.000000</td>\n",
       "      <td>Street Code1_58590.0</td>\n",
       "    </tr>\n",
       "    <tr>\n",
       "      <th>803</th>\n",
       "      <td>0.000000</td>\n",
       "      <td>Street Code1_58390.0</td>\n",
       "    </tr>\n",
       "    <tr>\n",
       "      <th>809</th>\n",
       "      <td>0.000000</td>\n",
       "      <td>Street Code1_59790.0</td>\n",
       "    </tr>\n",
       "    <tr>\n",
       "      <th>802</th>\n",
       "      <td>0.000000</td>\n",
       "      <td>Street Code1_57890.0</td>\n",
       "    </tr>\n",
       "    <tr>\n",
       "      <th>1442</th>\n",
       "      <td>0.000000</td>\n",
       "      <td>Street Code3_12590.0</td>\n",
       "    </tr>\n",
       "    <tr>\n",
       "      <th>1443</th>\n",
       "      <td>0.000000</td>\n",
       "      <td>Street Code3_12595.0</td>\n",
       "    </tr>\n",
       "    <tr>\n",
       "      <th>1444</th>\n",
       "      <td>0.000000</td>\n",
       "      <td>Street Code3_12640.0</td>\n",
       "    </tr>\n",
       "    <tr>\n",
       "      <th>797</th>\n",
       "      <td>0.000000</td>\n",
       "      <td>Street Code1_57290.0</td>\n",
       "    </tr>\n",
       "    <tr>\n",
       "      <th>796</th>\n",
       "      <td>0.000000</td>\n",
       "      <td>Street Code1_57090.0</td>\n",
       "    </tr>\n",
       "    <tr>\n",
       "      <th>795</th>\n",
       "      <td>0.000000</td>\n",
       "      <td>Street Code1_56490.0</td>\n",
       "    </tr>\n",
       "    <tr>\n",
       "      <th>801</th>\n",
       "      <td>0.000000</td>\n",
       "      <td>Street Code1_57840.0</td>\n",
       "    </tr>\n",
       "    <tr>\n",
       "      <th>794</th>\n",
       "      <td>0.000000</td>\n",
       "      <td>Street Code1_56015.0</td>\n",
       "    </tr>\n",
       "    <tr>\n",
       "      <th>811</th>\n",
       "      <td>0.000000</td>\n",
       "      <td>Street Code1_59995.0</td>\n",
       "    </tr>\n",
       "    <tr>\n",
       "      <th>813</th>\n",
       "      <td>0.000000</td>\n",
       "      <td>Street Code1_61090.0</td>\n",
       "    </tr>\n",
       "    <tr>\n",
       "      <th>830</th>\n",
       "      <td>0.000000</td>\n",
       "      <td>Street Code1_64620.0</td>\n",
       "    </tr>\n",
       "    <tr>\n",
       "      <th>829</th>\n",
       "      <td>0.000000</td>\n",
       "      <td>Street Code1_64495.0</td>\n",
       "    </tr>\n",
       "    <tr>\n",
       "      <th>828</th>\n",
       "      <td>0.000000</td>\n",
       "      <td>Street Code1_64390.0</td>\n",
       "    </tr>\n",
       "    <tr>\n",
       "      <th>1440</th>\n",
       "      <td>0.000000</td>\n",
       "      <td>Street Code3_12470.0</td>\n",
       "    </tr>\n",
       "    <tr>\n",
       "      <th>825</th>\n",
       "      <td>0.000000</td>\n",
       "      <td>Street Code1_64190.0</td>\n",
       "    </tr>\n",
       "    <tr>\n",
       "      <th>824</th>\n",
       "      <td>0.000000</td>\n",
       "      <td>Street Code1_63990.0</td>\n",
       "    </tr>\n",
       "    <tr>\n",
       "      <th>812</th>\n",
       "      <td>0.000000</td>\n",
       "      <td>Street Code1_60410.0</td>\n",
       "    </tr>\n",
       "    <tr>\n",
       "      <th>823</th>\n",
       "      <td>0.000000</td>\n",
       "      <td>Street Code1_63570.0</td>\n",
       "    </tr>\n",
       "    <tr>\n",
       "      <th>1441</th>\n",
       "      <td>0.000000</td>\n",
       "      <td>Street Code3_12540.0</td>\n",
       "    </tr>\n",
       "    <tr>\n",
       "      <th>819</th>\n",
       "      <td>0.000000</td>\n",
       "      <td>Street Code1_61990.0</td>\n",
       "    </tr>\n",
       "    <tr>\n",
       "      <th>818</th>\n",
       "      <td>0.000000</td>\n",
       "      <td>Street Code1_61890.0</td>\n",
       "    </tr>\n",
       "    <tr>\n",
       "      <th>...</th>\n",
       "      <td>...</td>\n",
       "      <td>...</td>\n",
       "    </tr>\n",
       "    <tr>\n",
       "      <th>434</th>\n",
       "      <td>0.006968</td>\n",
       "      <td>Color_SILVER</td>\n",
       "    </tr>\n",
       "    <tr>\n",
       "      <th>1308</th>\n",
       "      <td>0.007004</td>\n",
       "      <td>Street Code3_6740.0</td>\n",
       "    </tr>\n",
       "    <tr>\n",
       "      <th>238</th>\n",
       "      <td>0.007036</td>\n",
       "      <td>Make_ME</td>\n",
       "    </tr>\n",
       "    <tr>\n",
       "      <th>139</th>\n",
       "      <td>0.007205</td>\n",
       "      <td>Make_BMW</td>\n",
       "    </tr>\n",
       "    <tr>\n",
       "      <th>800</th>\n",
       "      <td>0.007433</td>\n",
       "      <td>Street Code1_57790.0</td>\n",
       "    </tr>\n",
       "    <tr>\n",
       "      <th>1305</th>\n",
       "      <td>0.007529</td>\n",
       "      <td>Street Code3_6590.0</td>\n",
       "    </tr>\n",
       "    <tr>\n",
       "      <th>522</th>\n",
       "      <td>0.007553</td>\n",
       "      <td>Street Code1_8640.0</td>\n",
       "    </tr>\n",
       "    <tr>\n",
       "      <th>1591</th>\n",
       "      <td>0.008430</td>\n",
       "      <td>Street Code3_40404.0</td>\n",
       "    </tr>\n",
       "    <tr>\n",
       "      <th>551</th>\n",
       "      <td>0.008455</td>\n",
       "      <td>Street Code1_10090.0</td>\n",
       "    </tr>\n",
       "    <tr>\n",
       "      <th>433</th>\n",
       "      <td>0.009144</td>\n",
       "      <td>Color_RED</td>\n",
       "    </tr>\n",
       "    <tr>\n",
       "      <th>42</th>\n",
       "      <td>0.009200</td>\n",
       "      <td>State_NY</td>\n",
       "    </tr>\n",
       "    <tr>\n",
       "      <th>147</th>\n",
       "      <td>0.010188</td>\n",
       "      <td>Make_CHEVR</td>\n",
       "    </tr>\n",
       "    <tr>\n",
       "      <th>169</th>\n",
       "      <td>0.010745</td>\n",
       "      <td>Make_FORD</td>\n",
       "    </tr>\n",
       "    <tr>\n",
       "      <th>250</th>\n",
       "      <td>0.011152</td>\n",
       "      <td>Make_NISSA</td>\n",
       "    </tr>\n",
       "    <tr>\n",
       "      <th>547</th>\n",
       "      <td>0.011367</td>\n",
       "      <td>Street Code1_9890.0</td>\n",
       "    </tr>\n",
       "    <tr>\n",
       "      <th>401</th>\n",
       "      <td>0.011783</td>\n",
       "      <td>Body Type_SUBN</td>\n",
       "    </tr>\n",
       "    <tr>\n",
       "      <th>95</th>\n",
       "      <td>0.011883</td>\n",
       "      <td>Plate_Type_PAS</td>\n",
       "    </tr>\n",
       "    <tr>\n",
       "      <th>395</th>\n",
       "      <td>0.012115</td>\n",
       "      <td>Body Type_SDN</td>\n",
       "    </tr>\n",
       "    <tr>\n",
       "      <th>196</th>\n",
       "      <td>0.012739</td>\n",
       "      <td>Make_HONDA</td>\n",
       "    </tr>\n",
       "    <tr>\n",
       "      <th>303</th>\n",
       "      <td>0.012802</td>\n",
       "      <td>Make_TOYOT</td>\n",
       "    </tr>\n",
       "    <tr>\n",
       "      <th>74</th>\n",
       "      <td>0.012870</td>\n",
       "      <td>Plate_Type_COM</td>\n",
       "    </tr>\n",
       "    <tr>\n",
       "      <th>510</th>\n",
       "      <td>0.013970</td>\n",
       "      <td>Street Code1_8140.0</td>\n",
       "    </tr>\n",
       "    <tr>\n",
       "      <th>333</th>\n",
       "      <td>0.014101</td>\n",
       "      <td>Body Type_4DSD</td>\n",
       "    </tr>\n",
       "    <tr>\n",
       "      <th>733</th>\n",
       "      <td>0.014899</td>\n",
       "      <td>Street Code1_37290.0</td>\n",
       "    </tr>\n",
       "    <tr>\n",
       "      <th>501</th>\n",
       "      <td>0.015962</td>\n",
       "      <td>Street Code1_7790.0</td>\n",
       "    </tr>\n",
       "    <tr>\n",
       "      <th>436</th>\n",
       "      <td>0.017140</td>\n",
       "      <td>Color_WHITE</td>\n",
       "    </tr>\n",
       "    <tr>\n",
       "      <th>1154</th>\n",
       "      <td>0.020786</td>\n",
       "      <td>Street Code2_40404.0</td>\n",
       "    </tr>\n",
       "    <tr>\n",
       "      <th>427</th>\n",
       "      <td>0.023117</td>\n",
       "      <td>Color_GREY</td>\n",
       "    </tr>\n",
       "    <tr>\n",
       "      <th>827</th>\n",
       "      <td>0.036532</td>\n",
       "      <td>Street Code1_64290.0</td>\n",
       "    </tr>\n",
       "    <tr>\n",
       "      <th>1714</th>\n",
       "      <td>0.118467</td>\n",
       "      <td>Vehicle Year</td>\n",
       "    </tr>\n",
       "  </tbody>\n",
       "</table>\n",
       "<p>1715 rows × 2 columns</p>\n",
       "</div>"
      ],
      "text/plain": [
       "      Feature Importance          Feature Name\n",
       "639             0.000000  Street Code1_15940.0\n",
       "808             0.000000  Street Code1_59590.0\n",
       "807             0.000000  Street Code1_58990.0\n",
       "806             0.000000  Street Code1_58690.0\n",
       "805             0.000000  Street Code1_58620.0\n",
       "804             0.000000  Street Code1_58590.0\n",
       "803             0.000000  Street Code1_58390.0\n",
       "809             0.000000  Street Code1_59790.0\n",
       "802             0.000000  Street Code1_57890.0\n",
       "1442            0.000000  Street Code3_12590.0\n",
       "1443            0.000000  Street Code3_12595.0\n",
       "1444            0.000000  Street Code3_12640.0\n",
       "797             0.000000  Street Code1_57290.0\n",
       "796             0.000000  Street Code1_57090.0\n",
       "795             0.000000  Street Code1_56490.0\n",
       "801             0.000000  Street Code1_57840.0\n",
       "794             0.000000  Street Code1_56015.0\n",
       "811             0.000000  Street Code1_59995.0\n",
       "813             0.000000  Street Code1_61090.0\n",
       "830             0.000000  Street Code1_64620.0\n",
       "829             0.000000  Street Code1_64495.0\n",
       "828             0.000000  Street Code1_64390.0\n",
       "1440            0.000000  Street Code3_12470.0\n",
       "825             0.000000  Street Code1_64190.0\n",
       "824             0.000000  Street Code1_63990.0\n",
       "812             0.000000  Street Code1_60410.0\n",
       "823             0.000000  Street Code1_63570.0\n",
       "1441            0.000000  Street Code3_12540.0\n",
       "819             0.000000  Street Code1_61990.0\n",
       "818             0.000000  Street Code1_61890.0\n",
       "...                  ...                   ...\n",
       "434             0.006968          Color_SILVER\n",
       "1308            0.007004   Street Code3_6740.0\n",
       "238             0.007036               Make_ME\n",
       "139             0.007205              Make_BMW\n",
       "800             0.007433  Street Code1_57790.0\n",
       "1305            0.007529   Street Code3_6590.0\n",
       "522             0.007553   Street Code1_8640.0\n",
       "1591            0.008430  Street Code3_40404.0\n",
       "551             0.008455  Street Code1_10090.0\n",
       "433             0.009144             Color_RED\n",
       "42              0.009200              State_NY\n",
       "147             0.010188            Make_CHEVR\n",
       "169             0.010745             Make_FORD\n",
       "250             0.011152            Make_NISSA\n",
       "547             0.011367   Street Code1_9890.0\n",
       "401             0.011783        Body Type_SUBN\n",
       "95              0.011883        Plate_Type_PAS\n",
       "395             0.012115         Body Type_SDN\n",
       "196             0.012739            Make_HONDA\n",
       "303             0.012802            Make_TOYOT\n",
       "74              0.012870        Plate_Type_COM\n",
       "510             0.013970   Street Code1_8140.0\n",
       "333             0.014101        Body Type_4DSD\n",
       "733             0.014899  Street Code1_37290.0\n",
       "501             0.015962   Street Code1_7790.0\n",
       "436             0.017140           Color_WHITE\n",
       "1154            0.020786  Street Code2_40404.0\n",
       "427             0.023117            Color_GREY\n",
       "827             0.036532  Street Code1_64290.0\n",
       "1714            0.118467          Vehicle Year\n",
       "\n",
       "[1715 rows x 2 columns]"
      ]
     },
     "execution_count": 103,
     "metadata": {},
     "output_type": "execute_result"
    }
   ],
   "source": [
    "rforest2_features.sort('Feature Importance')"
   ]
  },
  {
   "cell_type": "markdown",
   "metadata": {
    "collapsed": true,
    "slideshow": {
     "slide_type": "slide"
    }
   },
   "source": [
    "## Reducing the Number of Features based on Feature Importance"
   ]
  },
  {
   "cell_type": "code",
   "execution_count": 116,
   "metadata": {
    "collapsed": false,
    "slideshow": {
     "slide_type": "fragment"
    }
   },
   "outputs": [
    {
     "data": {
      "text/plain": [
       "(225619, 1723)"
      ]
     },
     "execution_count": 116,
     "metadata": {},
     "output_type": "execute_result"
    }
   ],
   "source": [
    "X.shape"
   ]
  },
  {
   "cell_type": "code",
   "execution_count": 128,
   "metadata": {
    "collapsed": false,
    "scrolled": true,
    "slideshow": {
     "slide_type": "fragment"
    }
   },
   "outputs": [
    {
     "data": {
      "text/plain": [
       "686"
      ]
     },
     "execution_count": 128,
     "metadata": {},
     "output_type": "execute_result"
    }
   ],
   "source": [
    "df_keep = rforest2_features['Feature Name'][(rforest2_features['Feature Importance'] < rforest2_features['Feature Importance'].quantile(.4))]\n",
    "\n",
    "len(df_keep)"
   ]
  },
  {
   "cell_type": "code",
   "execution_count": 129,
   "metadata": {
    "collapsed": false,
    "slideshow": {
     "slide_type": "skip"
    }
   },
   "outputs": [],
   "source": [
    "astoriaX.drop(rforest2_features['Feature Name'][(rforest2_features['Feature Importance'] < rforest2_features['Feature Importance'].quantile(.4))], axis=1, inplace=True)\n"
   ]
  },
  {
   "cell_type": "code",
   "execution_count": 130,
   "metadata": {
    "collapsed": false,
    "slideshow": {
     "slide_type": "fragment"
    }
   },
   "outputs": [
    {
     "data": {
      "text/plain": [
       "(283215, 1030)"
      ]
     },
     "execution_count": 130,
     "metadata": {},
     "output_type": "execute_result"
    }
   ],
   "source": [
    "astoriaX.shape"
   ]
  },
  {
   "cell_type": "code",
   "execution_count": 131,
   "metadata": {
    "collapsed": true,
    "slideshow": {
     "slide_type": "skip"
    }
   },
   "outputs": [
    {
     "data": {
      "text/plain": [
       "53          1996\n",
       "470         2009\n",
       "471         2014\n",
       "472         2009\n",
       "965         2014\n",
       "966         2001\n",
       "967         2009\n",
       "968         2007\n",
       "969         2007\n",
       "1031        2014\n",
       "1033        2013\n",
       "1474        2007\n",
       "1475        2012\n",
       "1476        1999\n",
       "1510        2012\n",
       "1511        2015\n",
       "1512        2015\n",
       "2032        2009\n",
       "2033        2007\n",
       "2034        2015\n",
       "2035        2012\n",
       "2036        2007\n",
       "2037        2003\n",
       "2038        2006\n",
       "2039        2003\n",
       "2040        2002\n",
       "3002        2015\n",
       "3003        2006\n",
       "3004        2008\n",
       "3005        2013\n",
       "            ... \n",
       "10170218    2010\n",
       "10170219    2007\n",
       "10170220    2007\n",
       "10170221    2007\n",
       "10170222    2011\n",
       "10170223    2010\n",
       "10170224    2013\n",
       "10170225    2007\n",
       "10170226    2005\n",
       "10170227    2002\n",
       "10170228    2007\n",
       "10171053    2007\n",
       "10171054    2007\n",
       "10171055    2007\n",
       "10171056    2007\n",
       "10171057    2012\n",
       "10172349    2008\n",
       "10172350    2015\n",
       "10172351    2007\n",
       "10172352    2011\n",
       "10172353    2013\n",
       "10172354    2007\n",
       "10172355    2007\n",
       "10172356    2015\n",
       "10172357    2008\n",
       "10172358    2015\n",
       "10172359    2001\n",
       "10172360    2014\n",
       "10172361    2013\n",
       "10172362    2014\n",
       "Name: Vehicle Year, dtype: int64"
      ]
     },
     "execution_count": 131,
     "metadata": {},
     "output_type": "execute_result"
    }
   ],
   "source": [
    "astoriaX['Vehicle Year']"
   ]
  },
  {
   "cell_type": "code",
   "execution_count": 115,
   "metadata": {
    "collapsed": false,
    "slideshow": {
     "slide_type": "skip"
    }
   },
   "outputs": [
    {
     "data": {
      "text/plain": [
       "1.1353535915250669e-06"
      ]
     },
     "execution_count": 115,
     "metadata": {},
     "output_type": "execute_result"
    }
   ],
   "source": [
    "rforest2_features['Feature Importance'].quantile(.4)"
   ]
  },
  {
   "cell_type": "code",
   "execution_count": 132,
   "metadata": {
    "collapsed": true,
    "slideshow": {
     "slide_type": "skip"
    }
   },
   "outputs": [],
   "source": [
    "X = astoriaX.drop('Datetime', axis=1)\n",
    "y = y_dummies['Violation_Code_21']\n",
    "\n",
    "X_train, X_test, y_train, y_test = cross_validation.train_test_split(X, y, test_size=0.3, random_state=42)"
   ]
  },
  {
   "cell_type": "markdown",
   "metadata": {
    "slideshow": {
     "slide_type": "skip"
    }
   },
   "source": [
    "### These are the scores you get when you drop the wrong half of the dataframe"
   ]
  },
  {
   "cell_type": "code",
   "execution_count": 48,
   "metadata": {
    "collapsed": false,
    "slideshow": {
     "slide_type": "skip"
    }
   },
   "outputs": [
    {
     "data": {
      "text/html": [
       "<div>\n",
       "<table border=\"1\" class=\"dataframe\">\n",
       "  <thead>\n",
       "    <tr style=\"text-align: right;\">\n",
       "      <th></th>\n",
       "      <th>Accuracy</th>\n",
       "      <th>F1 score</th>\n",
       "      <th>F1 score (train)</th>\n",
       "      <th>Precision</th>\n",
       "      <th>Recall</th>\n",
       "    </tr>\n",
       "  </thead>\n",
       "  <tbody>\n",
       "    <tr>\n",
       "      <th>RandomForestClassifier</th>\n",
       "      <td>0.727829</td>\n",
       "      <td>0.00095</td>\n",
       "      <td>0.001373</td>\n",
       "      <td>0.37931</td>\n",
       "      <td>0.000476</td>\n",
       "    </tr>\n",
       "  </tbody>\n",
       "</table>\n",
       "</div>"
      ],
      "text/plain": [
       "                        Accuracy  F1 score  F1 score (train)  Precision  \\\n",
       "RandomForestClassifier  0.727829   0.00095          0.001373    0.37931   \n",
       "\n",
       "                          Recall  \n",
       "RandomForestClassifier  0.000476  "
      ]
     },
     "execution_count": 48,
     "metadata": {},
     "output_type": "execute_result"
    }
   ],
   "source": [
    "rforest2.fit(X_train, y_train)\n",
    "format_model_results(rforest2, X_train, X_test, y_train, y_test)"
   ]
  },
  {
   "cell_type": "code",
   "execution_count": 135,
   "metadata": {
    "collapsed": false,
    "slideshow": {
     "slide_type": "skip"
    }
   },
   "outputs": [],
   "source": [
    "rforest3 = ensemble.RandomForestClassifier(\n",
    "    n_estimators = 10,\n",
    "    oob_score=True, \n",
    "    max_features=200,\n",
    "    max_depth=70\n",
    ")"
   ]
  },
  {
   "cell_type": "code",
   "execution_count": 136,
   "metadata": {
    "collapsed": false,
    "slideshow": {
     "slide_type": "skip"
    }
   },
   "outputs": [
    {
     "data": {
      "text/html": [
       "<div>\n",
       "<table border=\"1\" class=\"dataframe\">\n",
       "  <thead>\n",
       "    <tr style=\"text-align: right;\">\n",
       "      <th></th>\n",
       "      <th>Accuracy</th>\n",
       "      <th>F1 score</th>\n",
       "      <th>F1 score (train)</th>\n",
       "      <th>Precision</th>\n",
       "      <th>Recall</th>\n",
       "    </tr>\n",
       "  </thead>\n",
       "  <tbody>\n",
       "    <tr>\n",
       "      <th>RandomForestClassifier</th>\n",
       "      <td>0.791808</td>\n",
       "      <td>0.545118</td>\n",
       "      <td>0.800034</td>\n",
       "      <td>0.672142</td>\n",
       "      <td>0.458474</td>\n",
       "    </tr>\n",
       "  </tbody>\n",
       "</table>\n",
       "</div>"
      ],
      "text/plain": [
       "                        Accuracy  F1 score  F1 score (train)  Precision  \\\n",
       "RandomForestClassifier  0.791808  0.545118          0.800034   0.672142   \n",
       "\n",
       "                          Recall  \n",
       "RandomForestClassifier  0.458474  "
      ]
     },
     "execution_count": 136,
     "metadata": {},
     "output_type": "execute_result"
    }
   ],
   "source": [
    "rforest3.fit(X_train, y_train)\n",
    "format_model_results(rforest3, X_train, X_test, y_train, y_test)"
   ]
  },
  {
   "cell_type": "code",
   "execution_count": 165,
   "metadata": {
    "collapsed": false,
    "slideshow": {
     "slide_type": "skip"
    }
   },
   "outputs": [],
   "source": [
    "rforest4 = ensemble.RandomForestClassifier(\n",
    "    n_estimators = 10,\n",
    "    oob_score=True, \n",
    "    max_features=400,\n",
    "    max_depth=200\n",
    "    \n",
    ")"
   ]
  },
  {
   "cell_type": "code",
   "execution_count": 156,
   "metadata": {
    "collapsed": false,
    "slideshow": {
     "slide_type": "skip"
    }
   },
   "outputs": [
    {
     "data": {
      "text/html": [
       "<div>\n",
       "<table border=\"1\" class=\"dataframe\">\n",
       "  <thead>\n",
       "    <tr style=\"text-align: right;\">\n",
       "      <th></th>\n",
       "      <th>Accuracy</th>\n",
       "      <th>F1 score</th>\n",
       "      <th>F1 score (train)</th>\n",
       "      <th>Precision</th>\n",
       "      <th>Recall</th>\n",
       "    </tr>\n",
       "  </thead>\n",
       "  <tbody>\n",
       "    <tr>\n",
       "      <th>RandomForestClassifier</th>\n",
       "      <td>0.797881</td>\n",
       "      <td>0.604482</td>\n",
       "      <td>0.927771</td>\n",
       "      <td>0.646421</td>\n",
       "      <td>0.567653</td>\n",
       "    </tr>\n",
       "  </tbody>\n",
       "</table>\n",
       "</div>"
      ],
      "text/plain": [
       "                        Accuracy  F1 score  F1 score (train)  Precision  \\\n",
       "RandomForestClassifier  0.797881  0.604482          0.927771   0.646421   \n",
       "\n",
       "                          Recall  \n",
       "RandomForestClassifier  0.567653  "
      ]
     },
     "execution_count": 156,
     "metadata": {},
     "output_type": "execute_result"
    }
   ],
   "source": [
    "rforest4.fit(X_train, y_train)\n",
    "format_model_results(rforest4, X_train, X_test, y_train, y_test)"
   ]
  },
  {
   "cell_type": "code",
   "execution_count": 162,
   "metadata": {
    "collapsed": false,
    "slideshow": {
     "slide_type": "skip"
    }
   },
   "outputs": [],
   "source": [
    "X = astoriaX.drop('Datetime', axis=1)\n",
    "yall = df['Violation Code'].astype(int)\n",
    "\n",
    "X_train, X_test, yall_train, yall_test = cross_validation.train_test_split(X, yall, test_size=0.3, random_state=42)"
   ]
  },
  {
   "cell_type": "code",
   "execution_count": 159,
   "metadata": {
    "collapsed": false,
    "slideshow": {
     "slide_type": "skip"
    }
   },
   "outputs": [
    {
     "name": "stderr",
     "output_type": "stream",
     "text": [
      "/home/trent/anaconda2/lib/python2.7/site-packages/sklearn/metrics/classification.py:1203: DeprecationWarning: The default `weighted` averaging is deprecated, and from version 0.18, use of precision, recall or F-score with multiclass or multilabel data or pos_label=None will result in an exception. Please set an explicit value for `average`, one of (None, 'micro', 'macro', 'weighted', 'samples'). In cross validation use, for instance, scoring=\"f1_weighted\" instead of scoring=\"f1\".\n",
      "  sample_weight=sample_weight)\n",
      "/home/trent/anaconda2/lib/python2.7/site-packages/sklearn/metrics/classification.py:1074: UndefinedMetricWarning: Precision is ill-defined and being set to 0.0 in labels with no predicted samples.\n",
      "  'precision', 'predicted', average, warn_for)\n",
      "/home/trent/anaconda2/lib/python2.7/site-packages/sklearn/metrics/classification.py:1304: DeprecationWarning: The default `weighted` averaging is deprecated, and from version 0.18, use of precision, recall or F-score with multiclass or multilabel data or pos_label=None will result in an exception. Please set an explicit value for `average`, one of (None, 'micro', 'macro', 'weighted', 'samples'). In cross validation use, for instance, scoring=\"f1_weighted\" instead of scoring=\"f1\".\n",
      "  sample_weight=sample_weight)\n",
      "/home/trent/anaconda2/lib/python2.7/site-packages/sklearn/metrics/classification.py:1076: UndefinedMetricWarning: Recall is ill-defined and being set to 0.0 in labels with no true samples.\n",
      "  'recall', 'true', average, warn_for)\n",
      "/home/trent/anaconda2/lib/python2.7/site-packages/sklearn/metrics/classification.py:756: DeprecationWarning: The default `weighted` averaging is deprecated, and from version 0.18, use of precision, recall or F-score with multiclass or multilabel data or pos_label=None will result in an exception. Please set an explicit value for `average`, one of (None, 'micro', 'macro', 'weighted', 'samples'). In cross validation use, for instance, scoring=\"f1_weighted\" instead of scoring=\"f1\".\n",
      "  sample_weight=sample_weight)\n",
      "/home/trent/anaconda2/lib/python2.7/site-packages/sklearn/metrics/classification.py:1074: UndefinedMetricWarning: F-score is ill-defined and being set to 0.0 in labels with no predicted samples.\n",
      "  'precision', 'predicted', average, warn_for)\n",
      "/home/trent/anaconda2/lib/python2.7/site-packages/sklearn/metrics/classification.py:1076: UndefinedMetricWarning: F-score is ill-defined and being set to 0.0 in labels with no true samples.\n",
      "  'recall', 'true', average, warn_for)\n",
      "/home/trent/anaconda2/lib/python2.7/site-packages/sklearn/metrics/classification.py:756: DeprecationWarning: The default `weighted` averaging is deprecated, and from version 0.18, use of precision, recall or F-score with multiclass or multilabel data or pos_label=None will result in an exception. Please set an explicit value for `average`, one of (None, 'micro', 'macro', 'weighted', 'samples'). In cross validation use, for instance, scoring=\"f1_weighted\" instead of scoring=\"f1\".\n",
      "  sample_weight=sample_weight)\n"
     ]
    },
    {
     "data": {
      "text/html": [
       "<div>\n",
       "<table border=\"1\" class=\"dataframe\">\n",
       "  <thead>\n",
       "    <tr style=\"text-align: right;\">\n",
       "      <th></th>\n",
       "      <th>Accuracy</th>\n",
       "      <th>F1 score</th>\n",
       "      <th>F1 score (train)</th>\n",
       "      <th>Precision</th>\n",
       "      <th>Recall</th>\n",
       "    </tr>\n",
       "  </thead>\n",
       "  <tbody>\n",
       "    <tr>\n",
       "      <th>RandomForestClassifier</th>\n",
       "      <td>0.453363</td>\n",
       "      <td>0.441361</td>\n",
       "      <td>0.888957</td>\n",
       "      <td>0.436208</td>\n",
       "      <td>0.453363</td>\n",
       "    </tr>\n",
       "  </tbody>\n",
       "</table>\n",
       "</div>"
      ],
      "text/plain": [
       "                        Accuracy  F1 score  F1 score (train)  Precision  \\\n",
       "RandomForestClassifier  0.453363  0.441361          0.888957   0.436208   \n",
       "\n",
       "                          Recall  \n",
       "RandomForestClassifier  0.453363  "
      ]
     },
     "execution_count": 159,
     "metadata": {},
     "output_type": "execute_result"
    }
   ],
   "source": [
    "rforest4.fit(X_train, yall_train)\n",
    "format_model_results(rforest4, X_train, X_test, yall_train, yall_test)"
   ]
  },
  {
   "cell_type": "code",
   "execution_count": 166,
   "metadata": {
    "collapsed": false,
    "slideshow": {
     "slide_type": "skip"
    }
   },
   "outputs": [
    {
     "name": "stderr",
     "output_type": "stream",
     "text": [
      "/home/trent/anaconda2/lib/python2.7/site-packages/sklearn/metrics/classification.py:1203: DeprecationWarning: The default `weighted` averaging is deprecated, and from version 0.18, use of precision, recall or F-score with multiclass or multilabel data or pos_label=None will result in an exception. Please set an explicit value for `average`, one of (None, 'micro', 'macro', 'weighted', 'samples'). In cross validation use, for instance, scoring=\"f1_weighted\" instead of scoring=\"f1\".\n",
      "  sample_weight=sample_weight)\n",
      "/home/trent/anaconda2/lib/python2.7/site-packages/sklearn/metrics/classification.py:1304: DeprecationWarning: The default `weighted` averaging is deprecated, and from version 0.18, use of precision, recall or F-score with multiclass or multilabel data or pos_label=None will result in an exception. Please set an explicit value for `average`, one of (None, 'micro', 'macro', 'weighted', 'samples'). In cross validation use, for instance, scoring=\"f1_weighted\" instead of scoring=\"f1\".\n",
      "  sample_weight=sample_weight)\n",
      "/home/trent/anaconda2/lib/python2.7/site-packages/sklearn/metrics/classification.py:756: DeprecationWarning: The default `weighted` averaging is deprecated, and from version 0.18, use of precision, recall or F-score with multiclass or multilabel data or pos_label=None will result in an exception. Please set an explicit value for `average`, one of (None, 'micro', 'macro', 'weighted', 'samples'). In cross validation use, for instance, scoring=\"f1_weighted\" instead of scoring=\"f1\".\n",
      "  sample_weight=sample_weight)\n",
      "/home/trent/anaconda2/lib/python2.7/site-packages/sklearn/metrics/classification.py:756: DeprecationWarning: The default `weighted` averaging is deprecated, and from version 0.18, use of precision, recall or F-score with multiclass or multilabel data or pos_label=None will result in an exception. Please set an explicit value for `average`, one of (None, 'micro', 'macro', 'weighted', 'samples'). In cross validation use, for instance, scoring=\"f1_weighted\" instead of scoring=\"f1\".\n",
      "  sample_weight=sample_weight)\n"
     ]
    },
    {
     "data": {
      "text/html": [
       "<div>\n",
       "<table border=\"1\" class=\"dataframe\">\n",
       "  <thead>\n",
       "    <tr style=\"text-align: right;\">\n",
       "      <th></th>\n",
       "      <th>Accuracy</th>\n",
       "      <th>F1 score</th>\n",
       "      <th>F1 score (train)</th>\n",
       "      <th>Precision</th>\n",
       "      <th>Recall</th>\n",
       "    </tr>\n",
       "  </thead>\n",
       "  <tbody>\n",
       "    <tr>\n",
       "      <th>RandomForestClassifier</th>\n",
       "      <td>0.451927</td>\n",
       "      <td>0.439231</td>\n",
       "      <td>0.872542</td>\n",
       "      <td>0.434146</td>\n",
       "      <td>0.451927</td>\n",
       "    </tr>\n",
       "  </tbody>\n",
       "</table>\n",
       "</div>"
      ],
      "text/plain": [
       "                        Accuracy  F1 score  F1 score (train)  Precision  \\\n",
       "RandomForestClassifier  0.451927  0.439231          0.872542   0.434146   \n",
       "\n",
       "                          Recall  \n",
       "RandomForestClassifier  0.451927  "
      ]
     },
     "execution_count": 166,
     "metadata": {},
     "output_type": "execute_result"
    }
   ],
   "source": [
    "rforest4.fit(X_train, yall_train)\n",
    "format_model_results(rforest4, X_train, X_test, yall_train, yall_test)"
   ]
  },
  {
   "cell_type": "markdown",
   "metadata": {
    "slideshow": {
     "slide_type": "skip"
    }
   },
   "source": [
    "With datetime as object"
   ]
  },
  {
   "cell_type": "code",
   "execution_count": 172,
   "metadata": {
    "collapsed": false,
    "slideshow": {
     "slide_type": "skip"
    }
   },
   "outputs": [
    {
     "data": {
      "text/html": [
       "<div>\n",
       "<table border=\"1\" class=\"dataframe\">\n",
       "  <thead>\n",
       "    <tr style=\"text-align: right;\">\n",
       "      <th></th>\n",
       "      <th>Accuracy</th>\n",
       "      <th>F1 score</th>\n",
       "      <th>F1 score (train)</th>\n",
       "      <th>Precision</th>\n",
       "      <th>Recall</th>\n",
       "    </tr>\n",
       "  </thead>\n",
       "  <tbody>\n",
       "    <tr>\n",
       "      <th>RandomForestClassifier</th>\n",
       "      <td>0.796222</td>\n",
       "      <td>0.595562</td>\n",
       "      <td>0.911499</td>\n",
       "      <td>0.647369</td>\n",
       "      <td>0.551432</td>\n",
       "    </tr>\n",
       "  </tbody>\n",
       "</table>\n",
       "</div>"
      ],
      "text/plain": [
       "                        Accuracy  F1 score  F1 score (train)  Precision  \\\n",
       "RandomForestClassifier  0.796222  0.595562          0.911499   0.647369   \n",
       "\n",
       "                          Recall  \n",
       "RandomForestClassifier  0.551432  "
      ]
     },
     "execution_count": 172,
     "metadata": {},
     "output_type": "execute_result"
    }
   ],
   "source": [
    "rforest4.fit(X_train, y_train)\n",
    "format_model_results(rforest4, X_train, X_test, y_train, y_test)"
   ]
  },
  {
   "cell_type": "markdown",
   "metadata": {
    "slideshow": {
     "slide_type": "slide"
    }
   },
   "source": [
    "### Adding columns for Time-based variables:\n",
    "- Year\n",
    "- Month\n",
    "- Day\n",
    "- Hour\n",
    "- Minute"
   ]
  },
  {
   "cell_type": "code",
   "execution_count": 174,
   "metadata": {
    "collapsed": false,
    "slideshow": {
     "slide_type": "skip"
    }
   },
   "outputs": [],
   "source": [
    "X = astoriaX.drop('Datetime', axis=1)\n",
    "y = y_dummies['Violation_Code_21']\n",
    "\n",
    "X_train, X_test, y_train, y_test = cross_validation.train_test_split(X, y, test_size=0.3, random_state=42)"
   ]
  },
  {
   "cell_type": "code",
   "execution_count": 177,
   "metadata": {
    "collapsed": false,
    "slideshow": {
     "slide_type": "fragment"
    }
   },
   "outputs": [
    {
     "data": {
      "text/html": [
       "<div>\n",
       "<table border=\"1\" class=\"dataframe\">\n",
       "  <thead>\n",
       "    <tr style=\"text-align: right;\">\n",
       "      <th></th>\n",
       "      <th>AUC</th>\n",
       "      <th>Accuracy</th>\n",
       "      <th>F1 score</th>\n",
       "      <th>F1 score (train)</th>\n",
       "      <th>Precision</th>\n",
       "      <th>Recall</th>\n",
       "    </tr>\n",
       "  </thead>\n",
       "  <tbody>\n",
       "    <tr>\n",
       "      <th>RandomForestClassifier</th>\n",
       "      <td>0.915884</td>\n",
       "      <td>0.872544</td>\n",
       "      <td>0.781324</td>\n",
       "      <td>0.955987</td>\n",
       "      <td>0.776345</td>\n",
       "      <td>0.786367</td>\n",
       "    </tr>\n",
       "  </tbody>\n",
       "</table>\n",
       "</div>"
      ],
      "text/plain": [
       "                             AUC  Accuracy  F1 score  F1 score (train)  \\\n",
       "RandomForestClassifier  0.915884  0.872544  0.781324          0.955987   \n",
       "\n",
       "                        Precision    Recall  \n",
       "RandomForestClassifier   0.776345  0.786367  "
      ]
     },
     "execution_count": 177,
     "metadata": {},
     "output_type": "execute_result"
    }
   ],
   "source": [
    "rforest2.fit(X_train, y_train)\n",
    "format_model_results2(rforest2, X_train, X_test, y_train, y_test)"
   ]
  },
  {
   "cell_type": "code",
   "execution_count": 184,
   "metadata": {
    "collapsed": true,
    "slideshow": {
     "slide_type": "skip"
    }
   },
   "outputs": [
    {
     "name": "stderr",
     "output_type": "stream",
     "text": [
      "/home/trent/anaconda2/lib/python2.7/site-packages/sklearn/metrics/classification.py:1203: DeprecationWarning: The default `weighted` averaging is deprecated, and from version 0.18, use of precision, recall or F-score with multiclass or multilabel data or pos_label=None will result in an exception. Please set an explicit value for `average`, one of (None, 'micro', 'macro', 'weighted', 'samples'). In cross validation use, for instance, scoring=\"f1_weighted\" instead of scoring=\"f1\".\n",
      "  sample_weight=sample_weight)\n",
      "/home/trent/anaconda2/lib/python2.7/site-packages/sklearn/metrics/classification.py:1304: DeprecationWarning: The default `weighted` averaging is deprecated, and from version 0.18, use of precision, recall or F-score with multiclass or multilabel data or pos_label=None will result in an exception. Please set an explicit value for `average`, one of (None, 'micro', 'macro', 'weighted', 'samples'). In cross validation use, for instance, scoring=\"f1_weighted\" instead of scoring=\"f1\".\n",
      "  sample_weight=sample_weight)\n",
      "/home/trent/anaconda2/lib/python2.7/site-packages/sklearn/metrics/classification.py:756: DeprecationWarning: The default `weighted` averaging is deprecated, and from version 0.18, use of precision, recall or F-score with multiclass or multilabel data or pos_label=None will result in an exception. Please set an explicit value for `average`, one of (None, 'micro', 'macro', 'weighted', 'samples'). In cross validation use, for instance, scoring=\"f1_weighted\" instead of scoring=\"f1\".\n",
      "  sample_weight=sample_weight)\n",
      "/home/trent/anaconda2/lib/python2.7/site-packages/sklearn/metrics/classification.py:756: DeprecationWarning: The default `weighted` averaging is deprecated, and from version 0.18, use of precision, recall or F-score with multiclass or multilabel data or pos_label=None will result in an exception. Please set an explicit value for `average`, one of (None, 'micro', 'macro', 'weighted', 'samples'). In cross validation use, for instance, scoring=\"f1_weighted\" instead of scoring=\"f1\".\n",
      "  sample_weight=sample_weight)\n"
     ]
    },
    {
     "data": {
      "text/html": [
       "<div>\n",
       "<table border=\"1\" class=\"dataframe\">\n",
       "  <thead>\n",
       "    <tr style=\"text-align: right;\">\n",
       "      <th></th>\n",
       "      <th>Accuracy</th>\n",
       "      <th>F1 score</th>\n",
       "      <th>F1 score (train)</th>\n",
       "      <th>Precision</th>\n",
       "      <th>Recall</th>\n",
       "    </tr>\n",
       "  </thead>\n",
       "  <tbody>\n",
       "    <tr>\n",
       "      <th>RandomForestClassifier</th>\n",
       "      <td>0.551404</td>\n",
       "      <td>0.525573</td>\n",
       "      <td>0.976909</td>\n",
       "      <td>0.518935</td>\n",
       "      <td>0.551404</td>\n",
       "    </tr>\n",
       "  </tbody>\n",
       "</table>\n",
       "</div>"
      ],
      "text/plain": [
       "                        Accuracy  F1 score  F1 score (train)  Precision  \\\n",
       "RandomForestClassifier  0.551404  0.525573          0.976909   0.518935   \n",
       "\n",
       "                          Recall  \n",
       "RandomForestClassifier  0.551404  "
      ]
     },
     "execution_count": 184,
     "metadata": {},
     "output_type": "execute_result"
    }
   ],
   "source": [
    "rforest4.fit(X_train, yall_train)\n",
    "format_model_results(rforest4, X_train, X_test, yall_train, yall_test)"
   ]
  },
  {
   "cell_type": "code",
   "execution_count": 37,
   "metadata": {
    "collapsed": true,
    "slideshow": {
     "slide_type": "skip"
    }
   },
   "outputs": [],
   "source": [
    "rforest5 = ensemble.RandomForestClassifier(\n",
    "    n_estimators = 10,\n",
    "    oob_score=True, \n",
    "    max_features=600,\n",
    "    max_depth=600\n",
    "    \n",
    ")"
   ]
  },
  {
   "cell_type": "code",
   "execution_count": 190,
   "metadata": {
    "collapsed": false,
    "slideshow": {
     "slide_type": "skip"
    }
   },
   "outputs": [
    {
     "data": {
      "text/html": [
       "<div>\n",
       "<table border=\"1\" class=\"dataframe\">\n",
       "  <thead>\n",
       "    <tr style=\"text-align: right;\">\n",
       "      <th></th>\n",
       "      <th>Accuracy</th>\n",
       "      <th>F1 score</th>\n",
       "      <th>F1 score (train)</th>\n",
       "      <th>Precision</th>\n",
       "      <th>Recall</th>\n",
       "    </tr>\n",
       "  </thead>\n",
       "  <tbody>\n",
       "    <tr>\n",
       "      <th>RandomForestClassifier</th>\n",
       "      <td>0.915553</td>\n",
       "      <td>0.844955</td>\n",
       "      <td>0.989992</td>\n",
       "      <td>0.844207</td>\n",
       "      <td>0.845705</td>\n",
       "    </tr>\n",
       "  </tbody>\n",
       "</table>\n",
       "</div>"
      ],
      "text/plain": [
       "                        Accuracy  F1 score  F1 score (train)  Precision  \\\n",
       "RandomForestClassifier  0.915553  0.844955          0.989992   0.844207   \n",
       "\n",
       "                          Recall  \n",
       "RandomForestClassifier  0.845705  "
      ]
     },
     "execution_count": 190,
     "metadata": {},
     "output_type": "execute_result"
    }
   ],
   "source": [
    "rforest5.fit(X_train, y_train)\n",
    "format_model_results(rforest5, X_train, X_test, y_train, y_test)"
   ]
  },
  {
   "cell_type": "code",
   "execution_count": 38,
   "metadata": {
    "collapsed": false,
    "slideshow": {
     "slide_type": "skip"
    }
   },
   "outputs": [
    {
     "ename": "NameError",
     "evalue": "name 'X_train' is not defined",
     "output_type": "error",
     "traceback": [
      "\u001b[1;31m---------------------------------------------------------------------------\u001b[0m",
      "\u001b[1;31mNameError\u001b[0m                                 Traceback (most recent call last)",
      "\u001b[1;32m<ipython-input-38-c6005b948df0>\u001b[0m in \u001b[0;36m<module>\u001b[1;34m()\u001b[0m\n\u001b[0;32m      7\u001b[0m )\n\u001b[0;32m      8\u001b[0m \u001b[1;33m\u001b[0m\u001b[0m\n\u001b[1;32m----> 9\u001b[1;33m \u001b[0mrforest6\u001b[0m\u001b[1;33m.\u001b[0m\u001b[0mfit\u001b[0m\u001b[1;33m(\u001b[0m\u001b[0mX_train\u001b[0m\u001b[1;33m,\u001b[0m \u001b[0my_train\u001b[0m\u001b[1;33m)\u001b[0m\u001b[1;33m\u001b[0m\u001b[0m\n\u001b[0m\u001b[0;32m     10\u001b[0m \u001b[0mformat_model_results\u001b[0m\u001b[1;33m(\u001b[0m\u001b[0mrforest6\u001b[0m\u001b[1;33m,\u001b[0m \u001b[0mX_train\u001b[0m\u001b[1;33m,\u001b[0m \u001b[0mX_test\u001b[0m\u001b[1;33m,\u001b[0m \u001b[0my_train\u001b[0m\u001b[1;33m,\u001b[0m \u001b[0my_test\u001b[0m\u001b[1;33m)\u001b[0m\u001b[1;33m\u001b[0m\u001b[0m\n",
      "\u001b[1;31mNameError\u001b[0m: name 'X_train' is not defined"
     ]
    }
   ],
   "source": [
    "rforest6 = ensemble.RandomForestClassifier(\n",
    "    n_estimators = 10,\n",
    "    oob_score=True, \n",
    "    max_features=700,\n",
    "    max_depth=700\n",
    "    \n",
    ")\n",
    "\n",
    "rforest6.fit(X_train, y_train)\n",
    "format_model_results(rforest6, X_train, X_test, y_train, y_test)"
   ]
  },
  {
   "cell_type": "code",
   "execution_count": 122,
   "metadata": {
    "collapsed": false,
    "slideshow": {
     "slide_type": "skip"
    }
   },
   "outputs": [
    {
     "data": {
      "text/plain": [
       "(225619, 1723)"
      ]
     },
     "execution_count": 122,
     "metadata": {},
     "output_type": "execute_result"
    }
   ],
   "source": [
    "astoriaX.shape"
   ]
  },
  {
   "cell_type": "code",
   "execution_count": 123,
   "metadata": {
    "collapsed": false,
    "slideshow": {
     "slide_type": "skip"
    }
   },
   "outputs": [
    {
     "ename": "NameError",
     "evalue": "name 'rforest2_features' is not defined",
     "output_type": "error",
     "traceback": [
      "\u001b[1;31m---------------------------------------------------------------------------\u001b[0m",
      "\u001b[1;31mNameError\u001b[0m                                 Traceback (most recent call last)",
      "\u001b[1;32m<ipython-input-123-6c4402fc1438>\u001b[0m in \u001b[0;36m<module>\u001b[1;34m()\u001b[0m\n\u001b[1;32m----> 1\u001b[1;33m \u001b[0mastoriaX\u001b[0m\u001b[1;33m.\u001b[0m\u001b[0mdrop\u001b[0m\u001b[1;33m(\u001b[0m\u001b[0mrforest2_features\u001b[0m\u001b[1;33m[\u001b[0m\u001b[1;34m'Feature Name'\u001b[0m\u001b[1;33m]\u001b[0m\u001b[1;33m[\u001b[0m\u001b[1;33m(\u001b[0m\u001b[0mrforest2_features\u001b[0m\u001b[1;33m[\u001b[0m\u001b[1;34m'Feature Importance'\u001b[0m\u001b[1;33m]\u001b[0m \u001b[1;33m<\u001b[0m \u001b[0mrforest2_features\u001b[0m\u001b[1;33m[\u001b[0m\u001b[1;34m'Feature Importance'\u001b[0m\u001b[1;33m]\u001b[0m\u001b[1;33m.\u001b[0m\u001b[0mquantile\u001b[0m\u001b[1;33m(\u001b[0m\u001b[1;36m.4\u001b[0m\u001b[1;33m)\u001b[0m\u001b[1;33m)\u001b[0m\u001b[1;33m]\u001b[0m\u001b[1;33m,\u001b[0m \u001b[0maxis\u001b[0m\u001b[1;33m=\u001b[0m\u001b[1;36m1\u001b[0m\u001b[1;33m,\u001b[0m \u001b[0minplace\u001b[0m\u001b[1;33m=\u001b[0m\u001b[0mTrue\u001b[0m\u001b[1;33m)\u001b[0m\u001b[1;33m\u001b[0m\u001b[0m\n\u001b[0m\u001b[0;32m      2\u001b[0m \u001b[1;33m\u001b[0m\u001b[0m\n\u001b[0;32m      3\u001b[0m \u001b[0mX\u001b[0m \u001b[1;33m=\u001b[0m \u001b[0mastoriaX\u001b[0m\u001b[1;33m.\u001b[0m\u001b[0mdrop\u001b[0m\u001b[1;33m(\u001b[0m\u001b[1;34m'Datetime'\u001b[0m\u001b[1;33m,\u001b[0m \u001b[0maxis\u001b[0m\u001b[1;33m=\u001b[0m\u001b[1;36m1\u001b[0m\u001b[1;33m)\u001b[0m\u001b[1;33m\u001b[0m\u001b[0m\n\u001b[0;32m      4\u001b[0m \u001b[0my\u001b[0m \u001b[1;33m=\u001b[0m \u001b[0my_dummies\u001b[0m\u001b[1;33m[\u001b[0m\u001b[1;34m'Violation_Code_21'\u001b[0m\u001b[1;33m]\u001b[0m\u001b[1;33m\u001b[0m\u001b[0m\n\u001b[0;32m      5\u001b[0m \u001b[1;33m\u001b[0m\u001b[0m\n",
      "\u001b[1;31mNameError\u001b[0m: name 'rforest2_features' is not defined"
     ]
    }
   ],
   "source": [
    "astoriaX.drop(rforest2_features['Feature Name'][(rforest2_features['Feature Importance'] < rforest2_features['Feature Importance'].quantile(.4))], axis=1, inplace=True)\n",
    "\n",
    "X = astoriaX.drop('Datetime', axis=1)\n",
    "y = y_dummies['Violation_Code_21']\n",
    "\n",
    "X_train, X_test, y_train, y_test = cross_validation.train_test_split(X, y, test_size=0.3, random_state=42)"
   ]
  },
  {
   "cell_type": "code",
   "execution_count": 124,
   "metadata": {
    "collapsed": false,
    "slideshow": {
     "slide_type": "skip"
    }
   },
   "outputs": [
    {
     "data": {
      "text/plain": [
       "(225619, 1723)"
      ]
     },
     "execution_count": 124,
     "metadata": {},
     "output_type": "execute_result"
    }
   ],
   "source": [
    "X.shape"
   ]
  },
  {
   "cell_type": "code",
   "execution_count": 125,
   "metadata": {
    "collapsed": false,
    "slideshow": {
     "slide_type": "skip"
    }
   },
   "outputs": [
    {
     "data": {
      "text/html": [
       "<div>\n",
       "<table border=\"1\" class=\"dataframe\">\n",
       "  <thead>\n",
       "    <tr style=\"text-align: right;\">\n",
       "      <th></th>\n",
       "      <th>Accuracy</th>\n",
       "      <th>F1 score</th>\n",
       "      <th>F1 score (train)</th>\n",
       "      <th>Precision</th>\n",
       "      <th>Recall</th>\n",
       "    </tr>\n",
       "  </thead>\n",
       "  <tbody>\n",
       "    <tr>\n",
       "      <th>RandomForestClassifier</th>\n",
       "      <td>0.878631</td>\n",
       "      <td>0.782494</td>\n",
       "      <td>0.824381</td>\n",
       "      <td>0.813264</td>\n",
       "      <td>0.753967</td>\n",
       "    </tr>\n",
       "  </tbody>\n",
       "</table>\n",
       "</div>"
      ],
      "text/plain": [
       "                        Accuracy  F1 score  F1 score (train)  Precision  \\\n",
       "RandomForestClassifier  0.878631  0.782494          0.824381   0.813264   \n",
       "\n",
       "                          Recall  \n",
       "RandomForestClassifier  0.753967  "
      ]
     },
     "execution_count": 125,
     "metadata": {},
     "output_type": "execute_result"
    }
   ],
   "source": [
    "rforest6 = ensemble.RandomForestClassifier(\n",
    "    n_estimators = 20,\n",
    "    oob_score=True, \n",
    "    max_features=200,\n",
    "    max_depth=30\n",
    "    \n",
    ")\n",
    "\n",
    "rforest6.fit(X_train, y_train)\n",
    "format_model_results(rforest6, X_train, X_test, y_train, y_test)"
   ]
  },
  {
   "cell_type": "markdown",
   "metadata": {
    "slideshow": {
     "slide_type": "skip"
    }
   },
   "source": [
    "### Looking at the Feature Importances for rforest6"
   ]
  },
  {
   "cell_type": "code",
   "execution_count": 126,
   "metadata": {
    "collapsed": true,
    "slideshow": {
     "slide_type": "skip"
    }
   },
   "outputs": [],
   "source": [
    "feature_importances = rforest6.feature_importances_\n",
    "feature_names = X.columns\n",
    "\n",
    "rforest6_features = pd.DataFrame({'Feature Name':feature_names, 'Feature Importance': feature_importances})"
   ]
  },
  {
   "cell_type": "code",
   "execution_count": 127,
   "metadata": {
    "collapsed": false,
    "slideshow": {
     "slide_type": "skip"
    }
   },
   "outputs": [
    {
     "name": "stderr",
     "output_type": "stream",
     "text": [
      "/home/trent/anaconda2/lib/python2.7/site-packages/ipykernel/__main__.py:1: FutureWarning: sort(columns=....) is deprecated, use sort_values(by=.....)\n",
      "  if __name__ == '__main__':\n"
     ]
    },
    {
     "data": {
      "text/html": [
       "<div>\n",
       "<table border=\"1\" class=\"dataframe\">\n",
       "  <thead>\n",
       "    <tr style=\"text-align: right;\">\n",
       "      <th></th>\n",
       "      <th>Feature Importance</th>\n",
       "      <th>Feature Name</th>\n",
       "    </tr>\n",
       "  </thead>\n",
       "  <tbody>\n",
       "    <tr>\n",
       "      <th>593</th>\n",
       "      <td>0.000000</td>\n",
       "      <td>Street Code1_36490</td>\n",
       "    </tr>\n",
       "    <tr>\n",
       "      <th>717</th>\n",
       "      <td>0.000000</td>\n",
       "      <td>Street Code2_5940</td>\n",
       "    </tr>\n",
       "    <tr>\n",
       "      <th>1355</th>\n",
       "      <td>0.000000</td>\n",
       "      <td>Street Code3_19990</td>\n",
       "    </tr>\n",
       "    <tr>\n",
       "      <th>720</th>\n",
       "      <td>0.000000</td>\n",
       "      <td>Street Code2_6140</td>\n",
       "    </tr>\n",
       "    <tr>\n",
       "      <th>721</th>\n",
       "      <td>0.000000</td>\n",
       "      <td>Street Code2_6190</td>\n",
       "    </tr>\n",
       "    <tr>\n",
       "      <th>1354</th>\n",
       "      <td>0.000000</td>\n",
       "      <td>Street Code3_19940</td>\n",
       "    </tr>\n",
       "    <tr>\n",
       "      <th>1353</th>\n",
       "      <td>0.000000</td>\n",
       "      <td>Street Code3_19740</td>\n",
       "    </tr>\n",
       "    <tr>\n",
       "      <th>1352</th>\n",
       "      <td>0.000000</td>\n",
       "      <td>Street Code3_19690</td>\n",
       "    </tr>\n",
       "    <tr>\n",
       "      <th>1350</th>\n",
       "      <td>0.000000</td>\n",
       "      <td>Street Code3_19390</td>\n",
       "    </tr>\n",
       "    <tr>\n",
       "      <th>1347</th>\n",
       "      <td>0.000000</td>\n",
       "      <td>Street Code3_19090</td>\n",
       "    </tr>\n",
       "    <tr>\n",
       "      <th>1346</th>\n",
       "      <td>0.000000</td>\n",
       "      <td>Street Code3_19040</td>\n",
       "    </tr>\n",
       "    <tr>\n",
       "      <th>1343</th>\n",
       "      <td>0.000000</td>\n",
       "      <td>Street Code3_18790</td>\n",
       "    </tr>\n",
       "    <tr>\n",
       "      <th>1342</th>\n",
       "      <td>0.000000</td>\n",
       "      <td>Street Code3_18740</td>\n",
       "    </tr>\n",
       "    <tr>\n",
       "      <th>1341</th>\n",
       "      <td>0.000000</td>\n",
       "      <td>Street Code3_18590</td>\n",
       "    </tr>\n",
       "    <tr>\n",
       "      <th>1356</th>\n",
       "      <td>0.000000</td>\n",
       "      <td>Street Code3_20090</td>\n",
       "    </tr>\n",
       "    <tr>\n",
       "      <th>1340</th>\n",
       "      <td>0.000000</td>\n",
       "      <td>Street Code3_18490</td>\n",
       "    </tr>\n",
       "    <tr>\n",
       "      <th>1336</th>\n",
       "      <td>0.000000</td>\n",
       "      <td>Street Code3_18090</td>\n",
       "    </tr>\n",
       "    <tr>\n",
       "      <th>1335</th>\n",
       "      <td>0.000000</td>\n",
       "      <td>Street Code3_18040</td>\n",
       "    </tr>\n",
       "    <tr>\n",
       "      <th>1334</th>\n",
       "      <td>0.000000</td>\n",
       "      <td>Street Code3_17990</td>\n",
       "    </tr>\n",
       "    <tr>\n",
       "      <th>1333</th>\n",
       "      <td>0.000000</td>\n",
       "      <td>Street Code3_17740</td>\n",
       "    </tr>\n",
       "    <tr>\n",
       "      <th>1332</th>\n",
       "      <td>0.000000</td>\n",
       "      <td>Street Code3_17540</td>\n",
       "    </tr>\n",
       "    <tr>\n",
       "      <th>1331</th>\n",
       "      <td>0.000000</td>\n",
       "      <td>Street Code3_17340</td>\n",
       "    </tr>\n",
       "    <tr>\n",
       "      <th>1330</th>\n",
       "      <td>0.000000</td>\n",
       "      <td>Street Code3_17240</td>\n",
       "    </tr>\n",
       "    <tr>\n",
       "      <th>762</th>\n",
       "      <td>0.000000</td>\n",
       "      <td>Street Code2_7850</td>\n",
       "    </tr>\n",
       "    <tr>\n",
       "      <th>1329</th>\n",
       "      <td>0.000000</td>\n",
       "      <td>Street Code3_17140</td>\n",
       "    </tr>\n",
       "    <tr>\n",
       "      <th>1326</th>\n",
       "      <td>0.000000</td>\n",
       "      <td>Street Code3_16740</td>\n",
       "    </tr>\n",
       "    <tr>\n",
       "      <th>1323</th>\n",
       "      <td>0.000000</td>\n",
       "      <td>Street Code3_16290</td>\n",
       "    </tr>\n",
       "    <tr>\n",
       "      <th>1322</th>\n",
       "      <td>0.000000</td>\n",
       "      <td>Street Code3_16190</td>\n",
       "    </tr>\n",
       "    <tr>\n",
       "      <th>1320</th>\n",
       "      <td>0.000000</td>\n",
       "      <td>Street Code3_16040</td>\n",
       "    </tr>\n",
       "    <tr>\n",
       "      <th>1338</th>\n",
       "      <td>0.000000</td>\n",
       "      <td>Street Code3_18290</td>\n",
       "    </tr>\n",
       "    <tr>\n",
       "      <th>...</th>\n",
       "      <td>...</td>\n",
       "      <td>...</td>\n",
       "    </tr>\n",
       "    <tr>\n",
       "      <th>423</th>\n",
       "      <td>0.004866</td>\n",
       "      <td>Street Code1_10090</td>\n",
       "    </tr>\n",
       "    <tr>\n",
       "      <th>353</th>\n",
       "      <td>0.005961</td>\n",
       "      <td>Street Code1_7040</td>\n",
       "    </tr>\n",
       "    <tr>\n",
       "      <th>1645</th>\n",
       "      <td>0.005989</td>\n",
       "      <td>Minute_43</td>\n",
       "    </tr>\n",
       "    <tr>\n",
       "      <th>1646</th>\n",
       "      <td>0.006041</td>\n",
       "      <td>Minute_44</td>\n",
       "    </tr>\n",
       "    <tr>\n",
       "      <th>419</th>\n",
       "      <td>0.006308</td>\n",
       "      <td>Street Code1_9890</td>\n",
       "    </tr>\n",
       "    <tr>\n",
       "      <th>1722</th>\n",
       "      <td>0.006520</td>\n",
       "      <td>Vehicle Year</td>\n",
       "    </tr>\n",
       "    <tr>\n",
       "      <th>1414</th>\n",
       "      <td>0.007185</td>\n",
       "      <td>Street Code3_40404</td>\n",
       "    </tr>\n",
       "    <tr>\n",
       "      <th>1644</th>\n",
       "      <td>0.007341</td>\n",
       "      <td>Minute_42</td>\n",
       "    </tr>\n",
       "    <tr>\n",
       "      <th>1643</th>\n",
       "      <td>0.007634</td>\n",
       "      <td>Minute_41</td>\n",
       "    </tr>\n",
       "    <tr>\n",
       "      <th>996</th>\n",
       "      <td>0.008373</td>\n",
       "      <td>Street Code2_40404</td>\n",
       "    </tr>\n",
       "    <tr>\n",
       "      <th>1640</th>\n",
       "      <td>0.009212</td>\n",
       "      <td>Minute_38</td>\n",
       "    </tr>\n",
       "    <tr>\n",
       "      <th>1642</th>\n",
       "      <td>0.009310</td>\n",
       "      <td>Minute_40</td>\n",
       "    </tr>\n",
       "    <tr>\n",
       "      <th>1641</th>\n",
       "      <td>0.011229</td>\n",
       "      <td>Minute_39</td>\n",
       "    </tr>\n",
       "    <tr>\n",
       "      <th>1589</th>\n",
       "      <td>0.011354</td>\n",
       "      <td>Hour_10</td>\n",
       "    </tr>\n",
       "    <tr>\n",
       "      <th>382</th>\n",
       "      <td>0.012199</td>\n",
       "      <td>Street Code1_8140</td>\n",
       "    </tr>\n",
       "    <tr>\n",
       "      <th>1639</th>\n",
       "      <td>0.012633</td>\n",
       "      <td>Minute_37</td>\n",
       "    </tr>\n",
       "    <tr>\n",
       "      <th>1585</th>\n",
       "      <td>0.013576</td>\n",
       "      <td>Hour_6</td>\n",
       "    </tr>\n",
       "    <tr>\n",
       "      <th>599</th>\n",
       "      <td>0.014191</td>\n",
       "      <td>Street Code1_37290</td>\n",
       "    </tr>\n",
       "    <tr>\n",
       "      <th>375</th>\n",
       "      <td>0.017162</td>\n",
       "      <td>Street Code1_7790</td>\n",
       "    </tr>\n",
       "    <tr>\n",
       "      <th>1596</th>\n",
       "      <td>0.017184</td>\n",
       "      <td>Hour_17</td>\n",
       "    </tr>\n",
       "    <tr>\n",
       "      <th>1594</th>\n",
       "      <td>0.020305</td>\n",
       "      <td>Hour_15</td>\n",
       "    </tr>\n",
       "    <tr>\n",
       "      <th>683</th>\n",
       "      <td>0.020857</td>\n",
       "      <td>Street Code1_64290</td>\n",
       "    </tr>\n",
       "    <tr>\n",
       "      <th>1586</th>\n",
       "      <td>0.022999</td>\n",
       "      <td>Hour_7</td>\n",
       "    </tr>\n",
       "    <tr>\n",
       "      <th>1595</th>\n",
       "      <td>0.026306</td>\n",
       "      <td>Hour_16</td>\n",
       "    </tr>\n",
       "    <tr>\n",
       "      <th>1638</th>\n",
       "      <td>0.027312</td>\n",
       "      <td>Minute_36</td>\n",
       "    </tr>\n",
       "    <tr>\n",
       "      <th>1592</th>\n",
       "      <td>0.034948</td>\n",
       "      <td>Hour_13</td>\n",
       "    </tr>\n",
       "    <tr>\n",
       "      <th>1593</th>\n",
       "      <td>0.035269</td>\n",
       "      <td>Hour_14</td>\n",
       "    </tr>\n",
       "    <tr>\n",
       "      <th>1588</th>\n",
       "      <td>0.083922</td>\n",
       "      <td>Hour_9</td>\n",
       "    </tr>\n",
       "    <tr>\n",
       "      <th>1590</th>\n",
       "      <td>0.088273</td>\n",
       "      <td>Hour_11</td>\n",
       "    </tr>\n",
       "    <tr>\n",
       "      <th>1587</th>\n",
       "      <td>0.168299</td>\n",
       "      <td>Hour_8</td>\n",
       "    </tr>\n",
       "  </tbody>\n",
       "</table>\n",
       "<p>1723 rows × 2 columns</p>\n",
       "</div>"
      ],
      "text/plain": [
       "      Feature Importance        Feature Name\n",
       "593             0.000000  Street Code1_36490\n",
       "717             0.000000   Street Code2_5940\n",
       "1355            0.000000  Street Code3_19990\n",
       "720             0.000000   Street Code2_6140\n",
       "721             0.000000   Street Code2_6190\n",
       "1354            0.000000  Street Code3_19940\n",
       "1353            0.000000  Street Code3_19740\n",
       "1352            0.000000  Street Code3_19690\n",
       "1350            0.000000  Street Code3_19390\n",
       "1347            0.000000  Street Code3_19090\n",
       "1346            0.000000  Street Code3_19040\n",
       "1343            0.000000  Street Code3_18790\n",
       "1342            0.000000  Street Code3_18740\n",
       "1341            0.000000  Street Code3_18590\n",
       "1356            0.000000  Street Code3_20090\n",
       "1340            0.000000  Street Code3_18490\n",
       "1336            0.000000  Street Code3_18090\n",
       "1335            0.000000  Street Code3_18040\n",
       "1334            0.000000  Street Code3_17990\n",
       "1333            0.000000  Street Code3_17740\n",
       "1332            0.000000  Street Code3_17540\n",
       "1331            0.000000  Street Code3_17340\n",
       "1330            0.000000  Street Code3_17240\n",
       "762             0.000000   Street Code2_7850\n",
       "1329            0.000000  Street Code3_17140\n",
       "1326            0.000000  Street Code3_16740\n",
       "1323            0.000000  Street Code3_16290\n",
       "1322            0.000000  Street Code3_16190\n",
       "1320            0.000000  Street Code3_16040\n",
       "1338            0.000000  Street Code3_18290\n",
       "...                  ...                 ...\n",
       "423             0.004866  Street Code1_10090\n",
       "353             0.005961   Street Code1_7040\n",
       "1645            0.005989           Minute_43\n",
       "1646            0.006041           Minute_44\n",
       "419             0.006308   Street Code1_9890\n",
       "1722            0.006520        Vehicle Year\n",
       "1414            0.007185  Street Code3_40404\n",
       "1644            0.007341           Minute_42\n",
       "1643            0.007634           Minute_41\n",
       "996             0.008373  Street Code2_40404\n",
       "1640            0.009212           Minute_38\n",
       "1642            0.009310           Minute_40\n",
       "1641            0.011229           Minute_39\n",
       "1589            0.011354             Hour_10\n",
       "382             0.012199   Street Code1_8140\n",
       "1639            0.012633           Minute_37\n",
       "1585            0.013576              Hour_6\n",
       "599             0.014191  Street Code1_37290\n",
       "375             0.017162   Street Code1_7790\n",
       "1596            0.017184             Hour_17\n",
       "1594            0.020305             Hour_15\n",
       "683             0.020857  Street Code1_64290\n",
       "1586            0.022999              Hour_7\n",
       "1595            0.026306             Hour_16\n",
       "1638            0.027312           Minute_36\n",
       "1592            0.034948             Hour_13\n",
       "1593            0.035269             Hour_14\n",
       "1588            0.083922              Hour_9\n",
       "1590            0.088273             Hour_11\n",
       "1587            0.168299              Hour_8\n",
       "\n",
       "[1723 rows x 2 columns]"
      ]
     },
     "execution_count": 127,
     "metadata": {},
     "output_type": "execute_result"
    }
   ],
   "source": [
    "rforest6_features.sort('Feature Importance')"
   ]
  },
  {
   "cell_type": "code",
   "execution_count": 128,
   "metadata": {
    "collapsed": false,
    "slideshow": {
     "slide_type": "skip"
    }
   },
   "outputs": [
    {
     "data": {
      "text/plain": [
       "857"
      ]
     },
     "execution_count": 128,
     "metadata": {},
     "output_type": "execute_result"
    }
   ],
   "source": [
    "len(rforest6_features[(rforest6_features['Feature Importance'] == 0)])"
   ]
  },
  {
   "cell_type": "code",
   "execution_count": 129,
   "metadata": {
    "collapsed": false,
    "slideshow": {
     "slide_type": "skip"
    }
   },
   "outputs": [],
   "source": [
    "# Dropping columns with a feature importance of 0\n",
    "astoriaX.drop(rforest6_features['Feature Name'][(rforest6_features['Feature Importance'] == 0)], axis=1, inplace=True)\n",
    "\n",
    "X = astoriaX.drop('Datetime', axis=1)\n",
    "y = y_dummies['Violation_Code_21']\n",
    "\n",
    "X_train, X_test, y_train, y_test = cross_validation.train_test_split(X, y, test_size=0.3, random_state=42)"
   ]
  },
  {
   "cell_type": "code",
   "execution_count": 130,
   "metadata": {
    "collapsed": false,
    "slideshow": {
     "slide_type": "skip"
    }
   },
   "outputs": [
    {
     "data": {
      "text/plain": [
       "(225619, 859)"
      ]
     },
     "execution_count": 130,
     "metadata": {},
     "output_type": "execute_result"
    }
   ],
   "source": [
    "X.shape"
   ]
  },
  {
   "cell_type": "code",
   "execution_count": 131,
   "metadata": {
    "collapsed": false,
    "slideshow": {
     "slide_type": "skip"
    }
   },
   "outputs": [
    {
     "data": {
      "text/html": [
       "<div>\n",
       "<table border=\"1\" class=\"dataframe\">\n",
       "  <thead>\n",
       "    <tr style=\"text-align: right;\">\n",
       "      <th></th>\n",
       "      <th>Accuracy</th>\n",
       "      <th>F1 score</th>\n",
       "      <th>F1 score (train)</th>\n",
       "      <th>Precision</th>\n",
       "      <th>Recall</th>\n",
       "    </tr>\n",
       "  </thead>\n",
       "  <tbody>\n",
       "    <tr>\n",
       "      <th>RandomForestClassifier</th>\n",
       "      <td>0.881172</td>\n",
       "      <td>0.789257</td>\n",
       "      <td>0.83425</td>\n",
       "      <td>0.811214</td>\n",
       "      <td>0.768458</td>\n",
       "    </tr>\n",
       "  </tbody>\n",
       "</table>\n",
       "</div>"
      ],
      "text/plain": [
       "                        Accuracy  F1 score  F1 score (train)  Precision  \\\n",
       "RandomForestClassifier  0.881172  0.789257           0.83425   0.811214   \n",
       "\n",
       "                          Recall  \n",
       "RandomForestClassifier  0.768458  "
      ]
     },
     "execution_count": 131,
     "metadata": {},
     "output_type": "execute_result"
    }
   ],
   "source": [
    "rforest6 = ensemble.RandomForestClassifier(\n",
    "    n_estimators = 20,\n",
    "    oob_score=True, \n",
    "    max_features=200,\n",
    "    max_depth=30\n",
    "    \n",
    ")\n",
    "\n",
    "rforest6.fit(X_train, y_train)\n",
    "format_model_results(rforest6, X_train, X_test, y_train, y_test)"
   ]
  },
  {
   "cell_type": "code",
   "execution_count": 132,
   "metadata": {
    "collapsed": false,
    "slideshow": {
     "slide_type": "skip"
    }
   },
   "outputs": [
    {
     "name": "stderr",
     "output_type": "stream",
     "text": [
      "/home/trent/anaconda2/lib/python2.7/site-packages/ipykernel/__main__.py:5: FutureWarning: sort(columns=....) is deprecated, use sort_values(by=.....)\n"
     ]
    },
    {
     "data": {
      "text/html": [
       "<div>\n",
       "<table border=\"1\" class=\"dataframe\">\n",
       "  <thead>\n",
       "    <tr style=\"text-align: right;\">\n",
       "      <th></th>\n",
       "      <th>Feature Importance</th>\n",
       "      <th>Feature Name</th>\n",
       "    </tr>\n",
       "  </thead>\n",
       "  <tbody>\n",
       "    <tr>\n",
       "      <th>0</th>\n",
       "      <td>0.000000</td>\n",
       "      <td>State_AB</td>\n",
       "    </tr>\n",
       "    <tr>\n",
       "      <th>316</th>\n",
       "      <td>0.000000</td>\n",
       "      <td>Street Code1_19540</td>\n",
       "    </tr>\n",
       "    <tr>\n",
       "      <th>318</th>\n",
       "      <td>0.000000</td>\n",
       "      <td>Street Code1_20190</td>\n",
       "    </tr>\n",
       "    <tr>\n",
       "      <th>320</th>\n",
       "      <td>0.000000</td>\n",
       "      <td>Street Code1_22590</td>\n",
       "    </tr>\n",
       "    <tr>\n",
       "      <th>330</th>\n",
       "      <td>0.000000</td>\n",
       "      <td>Street Code1_38110</td>\n",
       "    </tr>\n",
       "    <tr>\n",
       "      <th>331</th>\n",
       "      <td>0.000000</td>\n",
       "      <td>Street Code1_38690</td>\n",
       "    </tr>\n",
       "    <tr>\n",
       "      <th>346</th>\n",
       "      <td>0.000000</td>\n",
       "      <td>Street Code1_58390</td>\n",
       "    </tr>\n",
       "    <tr>\n",
       "      <th>312</th>\n",
       "      <td>0.000000</td>\n",
       "      <td>Street Code1_18590</td>\n",
       "    </tr>\n",
       "    <tr>\n",
       "      <th>373</th>\n",
       "      <td>0.000000</td>\n",
       "      <td>Street Code2_6300</td>\n",
       "    </tr>\n",
       "    <tr>\n",
       "      <th>418</th>\n",
       "      <td>0.000000</td>\n",
       "      <td>Street Code2_8205</td>\n",
       "    </tr>\n",
       "    <tr>\n",
       "      <th>424</th>\n",
       "      <td>0.000000</td>\n",
       "      <td>Street Code2_8490</td>\n",
       "    </tr>\n",
       "    <tr>\n",
       "      <th>857</th>\n",
       "      <td>0.000000</td>\n",
       "      <td>Minute_59</td>\n",
       "    </tr>\n",
       "    <tr>\n",
       "      <th>437</th>\n",
       "      <td>0.000000</td>\n",
       "      <td>Street Code2_9160</td>\n",
       "    </tr>\n",
       "    <tr>\n",
       "      <th>440</th>\n",
       "      <td>0.000000</td>\n",
       "      <td>Street Code2_9590</td>\n",
       "    </tr>\n",
       "    <tr>\n",
       "      <th>449</th>\n",
       "      <td>0.000000</td>\n",
       "      <td>Street Code2_10290</td>\n",
       "    </tr>\n",
       "    <tr>\n",
       "      <th>390</th>\n",
       "      <td>0.000000</td>\n",
       "      <td>Street Code2_7050</td>\n",
       "    </tr>\n",
       "    <tr>\n",
       "      <th>311</th>\n",
       "      <td>0.000000</td>\n",
       "      <td>Street Code1_18490</td>\n",
       "    </tr>\n",
       "    <tr>\n",
       "      <th>309</th>\n",
       "      <td>0.000000</td>\n",
       "      <td>Street Code1_17740</td>\n",
       "    </tr>\n",
       "    <tr>\n",
       "      <th>297</th>\n",
       "      <td>0.000000</td>\n",
       "      <td>Street Code1_15590</td>\n",
       "    </tr>\n",
       "    <tr>\n",
       "      <th>119</th>\n",
       "      <td>0.000000</td>\n",
       "      <td>Make_THOMA</td>\n",
       "    </tr>\n",
       "    <tr>\n",
       "      <th>130</th>\n",
       "      <td>0.000000</td>\n",
       "      <td>Body Type_BUS</td>\n",
       "    </tr>\n",
       "    <tr>\n",
       "      <th>142</th>\n",
       "      <td>0.000000</td>\n",
       "      <td>Body Type_S/SP</td>\n",
       "    </tr>\n",
       "    <tr>\n",
       "      <th>166</th>\n",
       "      <td>0.000000</td>\n",
       "      <td>Street Code1_5055</td>\n",
       "    </tr>\n",
       "    <tr>\n",
       "      <th>167</th>\n",
       "      <td>0.000000</td>\n",
       "      <td>Street Code1_5065</td>\n",
       "    </tr>\n",
       "    <tr>\n",
       "      <th>191</th>\n",
       "      <td>0.000000</td>\n",
       "      <td>Street Code1_6790</td>\n",
       "    </tr>\n",
       "    <tr>\n",
       "      <th>201</th>\n",
       "      <td>0.000000</td>\n",
       "      <td>Street Code1_7140</td>\n",
       "    </tr>\n",
       "    <tr>\n",
       "      <th>210</th>\n",
       "      <td>0.000000</td>\n",
       "      <td>Street Code1_7450</td>\n",
       "    </tr>\n",
       "    <tr>\n",
       "      <th>243</th>\n",
       "      <td>0.000000</td>\n",
       "      <td>Street Code1_9160</td>\n",
       "    </tr>\n",
       "    <tr>\n",
       "      <th>249</th>\n",
       "      <td>0.000000</td>\n",
       "      <td>Street Code1_9690</td>\n",
       "    </tr>\n",
       "    <tr>\n",
       "      <th>255</th>\n",
       "      <td>0.000000</td>\n",
       "      <td>Street Code1_10040</td>\n",
       "    </tr>\n",
       "    <tr>\n",
       "      <th>...</th>\n",
       "      <td>...</td>\n",
       "      <td>...</td>\n",
       "    </tr>\n",
       "    <tr>\n",
       "      <th>790</th>\n",
       "      <td>0.005174</td>\n",
       "      <td>Minute_44</td>\n",
       "    </tr>\n",
       "    <tr>\n",
       "      <th>256</th>\n",
       "      <td>0.005754</td>\n",
       "      <td>Street Code1_10090</td>\n",
       "    </tr>\n",
       "    <tr>\n",
       "      <th>252</th>\n",
       "      <td>0.006021</td>\n",
       "      <td>Street Code1_9890</td>\n",
       "    </tr>\n",
       "    <tr>\n",
       "      <th>248</th>\n",
       "      <td>0.006165</td>\n",
       "      <td>Street Code1_9640</td>\n",
       "    </tr>\n",
       "    <tr>\n",
       "      <th>789</th>\n",
       "      <td>0.006301</td>\n",
       "      <td>Minute_43</td>\n",
       "    </tr>\n",
       "    <tr>\n",
       "      <th>197</th>\n",
       "      <td>0.006471</td>\n",
       "      <td>Street Code1_7040</td>\n",
       "    </tr>\n",
       "    <tr>\n",
       "      <th>502</th>\n",
       "      <td>0.006665</td>\n",
       "      <td>Street Code2_40404</td>\n",
       "    </tr>\n",
       "    <tr>\n",
       "      <th>788</th>\n",
       "      <td>0.006834</td>\n",
       "      <td>Minute_42</td>\n",
       "    </tr>\n",
       "    <tr>\n",
       "      <th>783</th>\n",
       "      <td>0.007002</td>\n",
       "      <td>Minute_37</td>\n",
       "    </tr>\n",
       "    <tr>\n",
       "      <th>858</th>\n",
       "      <td>0.007115</td>\n",
       "      <td>Vehicle Year</td>\n",
       "    </tr>\n",
       "    <tr>\n",
       "      <th>786</th>\n",
       "      <td>0.007215</td>\n",
       "      <td>Minute_40</td>\n",
       "    </tr>\n",
       "    <tr>\n",
       "      <th>785</th>\n",
       "      <td>0.007479</td>\n",
       "      <td>Minute_39</td>\n",
       "    </tr>\n",
       "    <tr>\n",
       "      <th>787</th>\n",
       "      <td>0.008067</td>\n",
       "      <td>Minute_41</td>\n",
       "    </tr>\n",
       "    <tr>\n",
       "      <th>784</th>\n",
       "      <td>0.009268</td>\n",
       "      <td>Minute_38</td>\n",
       "    </tr>\n",
       "    <tr>\n",
       "      <th>735</th>\n",
       "      <td>0.010436</td>\n",
       "      <td>Hour_6</td>\n",
       "    </tr>\n",
       "    <tr>\n",
       "      <th>739</th>\n",
       "      <td>0.011243</td>\n",
       "      <td>Hour_10</td>\n",
       "    </tr>\n",
       "    <tr>\n",
       "      <th>746</th>\n",
       "      <td>0.012152</td>\n",
       "      <td>Hour_17</td>\n",
       "    </tr>\n",
       "    <tr>\n",
       "      <th>224</th>\n",
       "      <td>0.014828</td>\n",
       "      <td>Street Code1_8140</td>\n",
       "    </tr>\n",
       "    <tr>\n",
       "      <th>328</th>\n",
       "      <td>0.015665</td>\n",
       "      <td>Street Code1_37290</td>\n",
       "    </tr>\n",
       "    <tr>\n",
       "      <th>744</th>\n",
       "      <td>0.016649</td>\n",
       "      <td>Hour_15</td>\n",
       "    </tr>\n",
       "    <tr>\n",
       "      <th>736</th>\n",
       "      <td>0.021066</td>\n",
       "      <td>Hour_7</td>\n",
       "    </tr>\n",
       "    <tr>\n",
       "      <th>217</th>\n",
       "      <td>0.021088</td>\n",
       "      <td>Street Code1_7790</td>\n",
       "    </tr>\n",
       "    <tr>\n",
       "      <th>745</th>\n",
       "      <td>0.021319</td>\n",
       "      <td>Hour_16</td>\n",
       "    </tr>\n",
       "    <tr>\n",
       "      <th>353</th>\n",
       "      <td>0.023674</td>\n",
       "      <td>Street Code1_64290</td>\n",
       "    </tr>\n",
       "    <tr>\n",
       "      <th>782</th>\n",
       "      <td>0.026588</td>\n",
       "      <td>Minute_36</td>\n",
       "    </tr>\n",
       "    <tr>\n",
       "      <th>743</th>\n",
       "      <td>0.027879</td>\n",
       "      <td>Hour_14</td>\n",
       "    </tr>\n",
       "    <tr>\n",
       "      <th>742</th>\n",
       "      <td>0.033600</td>\n",
       "      <td>Hour_13</td>\n",
       "    </tr>\n",
       "    <tr>\n",
       "      <th>740</th>\n",
       "      <td>0.083740</td>\n",
       "      <td>Hour_11</td>\n",
       "    </tr>\n",
       "    <tr>\n",
       "      <th>738</th>\n",
       "      <td>0.093948</td>\n",
       "      <td>Hour_9</td>\n",
       "    </tr>\n",
       "    <tr>\n",
       "      <th>737</th>\n",
       "      <td>0.178597</td>\n",
       "      <td>Hour_8</td>\n",
       "    </tr>\n",
       "  </tbody>\n",
       "</table>\n",
       "<p>859 rows × 2 columns</p>\n",
       "</div>"
      ],
      "text/plain": [
       "     Feature Importance        Feature Name\n",
       "0              0.000000            State_AB\n",
       "316            0.000000  Street Code1_19540\n",
       "318            0.000000  Street Code1_20190\n",
       "320            0.000000  Street Code1_22590\n",
       "330            0.000000  Street Code1_38110\n",
       "331            0.000000  Street Code1_38690\n",
       "346            0.000000  Street Code1_58390\n",
       "312            0.000000  Street Code1_18590\n",
       "373            0.000000   Street Code2_6300\n",
       "418            0.000000   Street Code2_8205\n",
       "424            0.000000   Street Code2_8490\n",
       "857            0.000000           Minute_59\n",
       "437            0.000000   Street Code2_9160\n",
       "440            0.000000   Street Code2_9590\n",
       "449            0.000000  Street Code2_10290\n",
       "390            0.000000   Street Code2_7050\n",
       "311            0.000000  Street Code1_18490\n",
       "309            0.000000  Street Code1_17740\n",
       "297            0.000000  Street Code1_15590\n",
       "119            0.000000          Make_THOMA\n",
       "130            0.000000       Body Type_BUS\n",
       "142            0.000000      Body Type_S/SP\n",
       "166            0.000000   Street Code1_5055\n",
       "167            0.000000   Street Code1_5065\n",
       "191            0.000000   Street Code1_6790\n",
       "201            0.000000   Street Code1_7140\n",
       "210            0.000000   Street Code1_7450\n",
       "243            0.000000   Street Code1_9160\n",
       "249            0.000000   Street Code1_9690\n",
       "255            0.000000  Street Code1_10040\n",
       "..                  ...                 ...\n",
       "790            0.005174           Minute_44\n",
       "256            0.005754  Street Code1_10090\n",
       "252            0.006021   Street Code1_9890\n",
       "248            0.006165   Street Code1_9640\n",
       "789            0.006301           Minute_43\n",
       "197            0.006471   Street Code1_7040\n",
       "502            0.006665  Street Code2_40404\n",
       "788            0.006834           Minute_42\n",
       "783            0.007002           Minute_37\n",
       "858            0.007115        Vehicle Year\n",
       "786            0.007215           Minute_40\n",
       "785            0.007479           Minute_39\n",
       "787            0.008067           Minute_41\n",
       "784            0.009268           Minute_38\n",
       "735            0.010436              Hour_6\n",
       "739            0.011243             Hour_10\n",
       "746            0.012152             Hour_17\n",
       "224            0.014828   Street Code1_8140\n",
       "328            0.015665  Street Code1_37290\n",
       "744            0.016649             Hour_15\n",
       "736            0.021066              Hour_7\n",
       "217            0.021088   Street Code1_7790\n",
       "745            0.021319             Hour_16\n",
       "353            0.023674  Street Code1_64290\n",
       "782            0.026588           Minute_36\n",
       "743            0.027879             Hour_14\n",
       "742            0.033600             Hour_13\n",
       "740            0.083740             Hour_11\n",
       "738            0.093948              Hour_9\n",
       "737            0.178597              Hour_8\n",
       "\n",
       "[859 rows x 2 columns]"
      ]
     },
     "execution_count": 132,
     "metadata": {},
     "output_type": "execute_result"
    }
   ],
   "source": [
    "feature_importances = rforest6.feature_importances_\n",
    "feature_names = X.columns\n",
    "\n",
    "rforest6_features = pd.DataFrame({'Feature Name':feature_names, 'Feature Importance': feature_importances})\n",
    "rforest6_features.sort('Feature Importance')"
   ]
  },
  {
   "cell_type": "code",
   "execution_count": 133,
   "metadata": {
    "collapsed": false,
    "slideshow": {
     "slide_type": "skip"
    }
   },
   "outputs": [
    {
     "data": {
      "text/plain": [
       "82"
      ]
     },
     "execution_count": 133,
     "metadata": {},
     "output_type": "execute_result"
    }
   ],
   "source": [
    "len(rforest6_features[(rforest6_features['Feature Importance'] == 0)])"
   ]
  },
  {
   "cell_type": "code",
   "execution_count": 184,
   "metadata": {
    "collapsed": true,
    "slideshow": {
     "slide_type": "skip"
    }
   },
   "outputs": [],
   "source": [
    "# Dropping MORE columns with a feature importance of 0\n",
    "#astoriaX.drop(rforest6_features['Feature Name'][(rforest6_features['Feature Importance'] == 0)], axis=1, inplace=True)\n",
    "\n",
    "X = astoriaX.drop('Datetime', axis=1)\n",
    "y = y_dummies['Violation_Code_21']\n",
    "\n",
    "X_train, X_test, y_train, y_test = cross_validation.train_test_split(X, y, test_size=0.3, random_state=42)"
   ]
  },
  {
   "cell_type": "code",
   "execution_count": 135,
   "metadata": {
    "collapsed": false,
    "slideshow": {
     "slide_type": "skip"
    }
   },
   "outputs": [
    {
     "data": {
      "text/html": [
       "<div>\n",
       "<table border=\"1\" class=\"dataframe\">\n",
       "  <thead>\n",
       "    <tr style=\"text-align: right;\">\n",
       "      <th></th>\n",
       "      <th>Accuracy</th>\n",
       "      <th>F1 score</th>\n",
       "      <th>F1 score (train)</th>\n",
       "      <th>Precision</th>\n",
       "      <th>Recall</th>\n",
       "    </tr>\n",
       "  </thead>\n",
       "  <tbody>\n",
       "    <tr>\n",
       "      <th>RandomForestClassifier</th>\n",
       "      <td>0.876193</td>\n",
       "      <td>0.787955</td>\n",
       "      <td>0.828293</td>\n",
       "      <td>0.781587</td>\n",
       "      <td>0.794428</td>\n",
       "    </tr>\n",
       "  </tbody>\n",
       "</table>\n",
       "</div>"
      ],
      "text/plain": [
       "                        Accuracy  F1 score  F1 score (train)  Precision  \\\n",
       "RandomForestClassifier  0.876193  0.787955          0.828293   0.781587   \n",
       "\n",
       "                          Recall  \n",
       "RandomForestClassifier  0.794428  "
      ]
     },
     "execution_count": 135,
     "metadata": {},
     "output_type": "execute_result"
    }
   ],
   "source": [
    "rforest6.fit(X_train, y_train)\n",
    "format_model_results(rforest6, X_train, X_test, y_train, y_test)"
   ]
  },
  {
   "cell_type": "code",
   "execution_count": 136,
   "metadata": {
    "collapsed": false,
    "slideshow": {
     "slide_type": "skip"
    }
   },
   "outputs": [
    {
     "data": {
      "text/html": [
       "<div>\n",
       "<table border=\"1\" class=\"dataframe\">\n",
       "  <thead>\n",
       "    <tr style=\"text-align: right;\">\n",
       "      <th></th>\n",
       "      <th>AUC</th>\n",
       "      <th>Accuracy</th>\n",
       "      <th>F1 score</th>\n",
       "      <th>F1 score (train)</th>\n",
       "      <th>Precision</th>\n",
       "      <th>Recall</th>\n",
       "    </tr>\n",
       "  </thead>\n",
       "  <tbody>\n",
       "    <tr>\n",
       "      <th>RandomForestClassifier</th>\n",
       "      <td>0.946107</td>\n",
       "      <td>0.876193</td>\n",
       "      <td>0.787955</td>\n",
       "      <td>0.828293</td>\n",
       "      <td>0.781587</td>\n",
       "      <td>0.794428</td>\n",
       "    </tr>\n",
       "  </tbody>\n",
       "</table>\n",
       "</div>"
      ],
      "text/plain": [
       "                             AUC  Accuracy  F1 score  F1 score (train)  \\\n",
       "RandomForestClassifier  0.946107  0.876193  0.787955          0.828293   \n",
       "\n",
       "                        Precision    Recall  \n",
       "RandomForestClassifier   0.781587  0.794428  "
      ]
     },
     "execution_count": 136,
     "metadata": {},
     "output_type": "execute_result"
    }
   ],
   "source": [
    "format_model_results2(rforest6, X_train, X_test, y_train, y_test)"
   ]
  },
  {
   "cell_type": "code",
   "execution_count": 185,
   "metadata": {
    "collapsed": false,
    "slideshow": {
     "slide_type": "slide"
    }
   },
   "outputs": [
    {
     "data": {
      "text/html": [
       "<div>\n",
       "<table border=\"1\" class=\"dataframe\">\n",
       "  <thead>\n",
       "    <tr style=\"text-align: right;\">\n",
       "      <th></th>\n",
       "      <th>AUC</th>\n",
       "      <th>Accuracy</th>\n",
       "      <th>F1 score</th>\n",
       "      <th>F1 score (train)</th>\n",
       "      <th>Precision</th>\n",
       "      <th>Recall</th>\n",
       "    </tr>\n",
       "  </thead>\n",
       "  <tbody>\n",
       "    <tr>\n",
       "      <th>RandomForestClassifier</th>\n",
       "      <td>0.927226</td>\n",
       "      <td>0.85384</td>\n",
       "      <td>0.759908</td>\n",
       "      <td>0.775683</td>\n",
       "      <td>0.724614</td>\n",
       "      <td>0.798816</td>\n",
       "    </tr>\n",
       "  </tbody>\n",
       "</table>\n",
       "</div>"
      ],
      "text/plain": [
       "                             AUC  Accuracy  F1 score  F1 score (train)  \\\n",
       "RandomForestClassifier  0.927226   0.85384  0.759908          0.775683   \n",
       "\n",
       "                        Precision    Recall  \n",
       "RandomForestClassifier   0.724614  0.798816  "
      ]
     },
     "execution_count": 185,
     "metadata": {},
     "output_type": "execute_result"
    }
   ],
   "source": [
    "rforest7 = ensemble.RandomForestClassifier(\n",
    "    n_estimators = 20,\n",
    "    oob_score=True, \n",
    "    max_features=300,\n",
    "    max_depth=20\n",
    "    \n",
    ")\n",
    "\n",
    "rforest7.fit(X_train, y_train)\n",
    "format_model_results2(rforest7, X_train, X_test, y_train, y_test)"
   ]
  },
  {
   "cell_type": "markdown",
   "metadata": {
    "slideshow": {
     "slide_type": "skip"
    }
   },
   "source": [
    "### Looking at Feature Importances for rforest7"
   ]
  },
  {
   "cell_type": "code",
   "execution_count": 138,
   "metadata": {
    "collapsed": false,
    "scrolled": true,
    "slideshow": {
     "slide_type": "skip"
    }
   },
   "outputs": [
    {
     "name": "stderr",
     "output_type": "stream",
     "text": [
      "/home/trent/anaconda2/lib/python2.7/site-packages/ipykernel/__main__.py:6: FutureWarning: sort(columns=....) is deprecated, use sort_values(by=.....)\n"
     ]
    },
    {
     "data": {
      "text/html": [
       "<div>\n",
       "<table border=\"1\" class=\"dataframe\">\n",
       "  <thead>\n",
       "    <tr style=\"text-align: right;\">\n",
       "      <th></th>\n",
       "      <th>Feature Importance</th>\n",
       "      <th>Feature Name</th>\n",
       "    </tr>\n",
       "  </thead>\n",
       "  <tbody>\n",
       "    <tr>\n",
       "      <th>270</th>\n",
       "      <td>0.000000</td>\n",
       "      <td>Street Code1_15540</td>\n",
       "    </tr>\n",
       "    <tr>\n",
       "      <th>606</th>\n",
       "      <td>0.000000</td>\n",
       "      <td>Street Code3_47390</td>\n",
       "    </tr>\n",
       "    <tr>\n",
       "      <th>194</th>\n",
       "      <td>0.000000</td>\n",
       "      <td>Street Code1_7590</td>\n",
       "    </tr>\n",
       "    <tr>\n",
       "      <th>106</th>\n",
       "      <td>0.000000</td>\n",
       "      <td>Make_SUNBE</td>\n",
       "    </tr>\n",
       "    <tr>\n",
       "      <th>607</th>\n",
       "      <td>0.000000</td>\n",
       "      <td>Street Code3_48990</td>\n",
       "    </tr>\n",
       "    <tr>\n",
       "      <th>304</th>\n",
       "      <td>0.000000</td>\n",
       "      <td>Street Code1_52390</td>\n",
       "    </tr>\n",
       "    <tr>\n",
       "      <th>109</th>\n",
       "      <td>0.000000</td>\n",
       "      <td>Make_TRAIL</td>\n",
       "    </tr>\n",
       "    <tr>\n",
       "      <th>734</th>\n",
       "      <td>0.000000</td>\n",
       "      <td>Minute_12</td>\n",
       "    </tr>\n",
       "    <tr>\n",
       "      <th>111</th>\n",
       "      <td>0.000000</td>\n",
       "      <td>Make_UD</td>\n",
       "    </tr>\n",
       "    <tr>\n",
       "      <th>112</th>\n",
       "      <td>0.000000</td>\n",
       "      <td>Make_ULTR</td>\n",
       "    </tr>\n",
       "    <tr>\n",
       "      <th>432</th>\n",
       "      <td>0.000000</td>\n",
       "      <td>Street Code2_16740</td>\n",
       "    </tr>\n",
       "    <tr>\n",
       "      <th>433</th>\n",
       "      <td>0.000000</td>\n",
       "      <td>Street Code2_16890</td>\n",
       "    </tr>\n",
       "    <tr>\n",
       "      <th>115</th>\n",
       "      <td>0.000000</td>\n",
       "      <td>Make_YAMAT</td>\n",
       "    </tr>\n",
       "    <tr>\n",
       "      <th>749</th>\n",
       "      <td>0.000000</td>\n",
       "      <td>Minute_39</td>\n",
       "    </tr>\n",
       "    <tr>\n",
       "      <th>117</th>\n",
       "      <td>0.000000</td>\n",
       "      <td>Body Type_BOAT</td>\n",
       "    </tr>\n",
       "    <tr>\n",
       "      <th>736</th>\n",
       "      <td>0.000000</td>\n",
       "      <td>Minute_18</td>\n",
       "    </tr>\n",
       "    <tr>\n",
       "      <th>605</th>\n",
       "      <td>0.000000</td>\n",
       "      <td>Street Code3_46190</td>\n",
       "    </tr>\n",
       "    <tr>\n",
       "      <th>748</th>\n",
       "      <td>0.000000</td>\n",
       "      <td>Minute_37</td>\n",
       "    </tr>\n",
       "    <tr>\n",
       "      <th>502</th>\n",
       "      <td>0.000000</td>\n",
       "      <td>Street Code3_7050</td>\n",
       "    </tr>\n",
       "    <tr>\n",
       "      <th>426</th>\n",
       "      <td>0.000000</td>\n",
       "      <td>Street Code2_15790</td>\n",
       "    </tr>\n",
       "    <tr>\n",
       "      <th>313</th>\n",
       "      <td>0.000000</td>\n",
       "      <td>Street Code1_62090</td>\n",
       "    </tr>\n",
       "    <tr>\n",
       "      <th>79</th>\n",
       "      <td>0.000000</td>\n",
       "      <td>Make_KENOW</td>\n",
       "    </tr>\n",
       "    <tr>\n",
       "      <th>312</th>\n",
       "      <td>0.000000</td>\n",
       "      <td>Street Code1_61090</td>\n",
       "    </tr>\n",
       "    <tr>\n",
       "      <th>166</th>\n",
       "      <td>0.000000</td>\n",
       "      <td>Street Code1_6340</td>\n",
       "    </tr>\n",
       "    <tr>\n",
       "      <th>524</th>\n",
       "      <td>0.000000</td>\n",
       "      <td>Street Code3_8090</td>\n",
       "    </tr>\n",
       "    <tr>\n",
       "      <th>419</th>\n",
       "      <td>0.000000</td>\n",
       "      <td>Street Code2_12390</td>\n",
       "    </tr>\n",
       "    <tr>\n",
       "      <th>341</th>\n",
       "      <td>0.000000</td>\n",
       "      <td>Street Code2_6540</td>\n",
       "    </tr>\n",
       "    <tr>\n",
       "      <th>752</th>\n",
       "      <td>0.000000</td>\n",
       "      <td>Minute_44</td>\n",
       "    </tr>\n",
       "    <tr>\n",
       "      <th>289</th>\n",
       "      <td>0.000000</td>\n",
       "      <td>Street Code1_29490</td>\n",
       "    </tr>\n",
       "    <tr>\n",
       "      <th>729</th>\n",
       "      <td>0.000000</td>\n",
       "      <td>Minute_05</td>\n",
       "    </tr>\n",
       "    <tr>\n",
       "      <th>...</th>\n",
       "      <td>...</td>\n",
       "      <td>...</td>\n",
       "    </tr>\n",
       "    <tr>\n",
       "      <th>228</th>\n",
       "      <td>0.003604</td>\n",
       "      <td>Street Code1_9640</td>\n",
       "    </tr>\n",
       "    <tr>\n",
       "      <th>331</th>\n",
       "      <td>0.004157</td>\n",
       "      <td>Street Code2_5790</td>\n",
       "    </tr>\n",
       "    <tr>\n",
       "      <th>217</th>\n",
       "      <td>0.004177</td>\n",
       "      <td>Street Code1_8690</td>\n",
       "    </tr>\n",
       "    <tr>\n",
       "      <th>715</th>\n",
       "      <td>0.004849</td>\n",
       "      <td>Minute_41</td>\n",
       "    </tr>\n",
       "    <tr>\n",
       "      <th>682</th>\n",
       "      <td>0.005233</td>\n",
       "      <td>Hour_18</td>\n",
       "    </tr>\n",
       "    <tr>\n",
       "      <th>231</th>\n",
       "      <td>0.005407</td>\n",
       "      <td>Street Code1_9890</td>\n",
       "    </tr>\n",
       "    <tr>\n",
       "      <th>234</th>\n",
       "      <td>0.005464</td>\n",
       "      <td>Street Code1_10090</td>\n",
       "    </tr>\n",
       "    <tr>\n",
       "      <th>180</th>\n",
       "      <td>0.005943</td>\n",
       "      <td>Street Code1_7040</td>\n",
       "    </tr>\n",
       "    <tr>\n",
       "      <th>712</th>\n",
       "      <td>0.006653</td>\n",
       "      <td>Minute_37</td>\n",
       "    </tr>\n",
       "    <tr>\n",
       "      <th>129</th>\n",
       "      <td>0.006714</td>\n",
       "      <td>Body Type_SDN</td>\n",
       "    </tr>\n",
       "    <tr>\n",
       "      <th>714</th>\n",
       "      <td>0.006815</td>\n",
       "      <td>Minute_40</td>\n",
       "    </tr>\n",
       "    <tr>\n",
       "      <th>602</th>\n",
       "      <td>0.007124</td>\n",
       "      <td>Street Code3_40404</td>\n",
       "    </tr>\n",
       "    <tr>\n",
       "      <th>447</th>\n",
       "      <td>0.007332</td>\n",
       "      <td>Street Code2_40404</td>\n",
       "    </tr>\n",
       "    <tr>\n",
       "      <th>674</th>\n",
       "      <td>0.007859</td>\n",
       "      <td>Hour_10</td>\n",
       "    </tr>\n",
       "    <tr>\n",
       "      <th>713</th>\n",
       "      <td>0.008800</td>\n",
       "      <td>Minute_39</td>\n",
       "    </tr>\n",
       "    <tr>\n",
       "      <th>670</th>\n",
       "      <td>0.011521</td>\n",
       "      <td>Hour_6</td>\n",
       "    </tr>\n",
       "    <tr>\n",
       "      <th>681</th>\n",
       "      <td>0.013888</td>\n",
       "      <td>Hour_17</td>\n",
       "    </tr>\n",
       "    <tr>\n",
       "      <th>679</th>\n",
       "      <td>0.017506</td>\n",
       "      <td>Hour_15</td>\n",
       "    </tr>\n",
       "    <tr>\n",
       "      <th>671</th>\n",
       "      <td>0.021112</td>\n",
       "      <td>Hour_7</td>\n",
       "    </tr>\n",
       "    <tr>\n",
       "      <th>680</th>\n",
       "      <td>0.021463</td>\n",
       "      <td>Hour_16</td>\n",
       "    </tr>\n",
       "    <tr>\n",
       "      <th>205</th>\n",
       "      <td>0.022151</td>\n",
       "      <td>Street Code1_8140</td>\n",
       "    </tr>\n",
       "    <tr>\n",
       "      <th>295</th>\n",
       "      <td>0.024040</td>\n",
       "      <td>Street Code1_37290</td>\n",
       "    </tr>\n",
       "    <tr>\n",
       "      <th>677</th>\n",
       "      <td>0.026147</td>\n",
       "      <td>Hour_13</td>\n",
       "    </tr>\n",
       "    <tr>\n",
       "      <th>678</th>\n",
       "      <td>0.027292</td>\n",
       "      <td>Hour_14</td>\n",
       "    </tr>\n",
       "    <tr>\n",
       "      <th>711</th>\n",
       "      <td>0.029704</td>\n",
       "      <td>Minute_36</td>\n",
       "    </tr>\n",
       "    <tr>\n",
       "      <th>198</th>\n",
       "      <td>0.031536</td>\n",
       "      <td>Street Code1_7790</td>\n",
       "    </tr>\n",
       "    <tr>\n",
       "      <th>317</th>\n",
       "      <td>0.031618</td>\n",
       "      <td>Street Code1_64290</td>\n",
       "    </tr>\n",
       "    <tr>\n",
       "      <th>675</th>\n",
       "      <td>0.122348</td>\n",
       "      <td>Hour_11</td>\n",
       "    </tr>\n",
       "    <tr>\n",
       "      <th>673</th>\n",
       "      <td>0.126355</td>\n",
       "      <td>Hour_9</td>\n",
       "    </tr>\n",
       "    <tr>\n",
       "      <th>672</th>\n",
       "      <td>0.218264</td>\n",
       "      <td>Hour_8</td>\n",
       "    </tr>\n",
       "  </tbody>\n",
       "</table>\n",
       "<p>764 rows × 2 columns</p>\n",
       "</div>"
      ],
      "text/plain": [
       "     Feature Importance        Feature Name\n",
       "270            0.000000  Street Code1_15540\n",
       "606            0.000000  Street Code3_47390\n",
       "194            0.000000   Street Code1_7590\n",
       "106            0.000000          Make_SUNBE\n",
       "607            0.000000  Street Code3_48990\n",
       "304            0.000000  Street Code1_52390\n",
       "109            0.000000          Make_TRAIL\n",
       "734            0.000000           Minute_12\n",
       "111            0.000000             Make_UD\n",
       "112            0.000000           Make_ULTR\n",
       "432            0.000000  Street Code2_16740\n",
       "433            0.000000  Street Code2_16890\n",
       "115            0.000000          Make_YAMAT\n",
       "749            0.000000           Minute_39\n",
       "117            0.000000      Body Type_BOAT\n",
       "736            0.000000           Minute_18\n",
       "605            0.000000  Street Code3_46190\n",
       "748            0.000000           Minute_37\n",
       "502            0.000000   Street Code3_7050\n",
       "426            0.000000  Street Code2_15790\n",
       "313            0.000000  Street Code1_62090\n",
       "79             0.000000          Make_KENOW\n",
       "312            0.000000  Street Code1_61090\n",
       "166            0.000000   Street Code1_6340\n",
       "524            0.000000   Street Code3_8090\n",
       "419            0.000000  Street Code2_12390\n",
       "341            0.000000   Street Code2_6540\n",
       "752            0.000000           Minute_44\n",
       "289            0.000000  Street Code1_29490\n",
       "729            0.000000           Minute_05\n",
       "..                  ...                 ...\n",
       "228            0.003604   Street Code1_9640\n",
       "331            0.004157   Street Code2_5790\n",
       "217            0.004177   Street Code1_8690\n",
       "715            0.004849           Minute_41\n",
       "682            0.005233             Hour_18\n",
       "231            0.005407   Street Code1_9890\n",
       "234            0.005464  Street Code1_10090\n",
       "180            0.005943   Street Code1_7040\n",
       "712            0.006653           Minute_37\n",
       "129            0.006714       Body Type_SDN\n",
       "714            0.006815           Minute_40\n",
       "602            0.007124  Street Code3_40404\n",
       "447            0.007332  Street Code2_40404\n",
       "674            0.007859             Hour_10\n",
       "713            0.008800           Minute_39\n",
       "670            0.011521              Hour_6\n",
       "681            0.013888             Hour_17\n",
       "679            0.017506             Hour_15\n",
       "671            0.021112              Hour_7\n",
       "680            0.021463             Hour_16\n",
       "205            0.022151   Street Code1_8140\n",
       "295            0.024040  Street Code1_37290\n",
       "677            0.026147             Hour_13\n",
       "678            0.027292             Hour_14\n",
       "711            0.029704           Minute_36\n",
       "198            0.031536   Street Code1_7790\n",
       "317            0.031618  Street Code1_64290\n",
       "675            0.122348             Hour_11\n",
       "673            0.126355              Hour_9\n",
       "672            0.218264              Hour_8\n",
       "\n",
       "[764 rows x 2 columns]"
      ]
     },
     "execution_count": 138,
     "metadata": {},
     "output_type": "execute_result"
    }
   ],
   "source": [
    "feature_importances = rforest7.feature_importances_\n",
    "feature_names = X.columns\n",
    "\n",
    "rforest7_features = pd.DataFrame({'Feature Name':feature_names, 'Feature Importance': feature_importances})\n",
    "\n",
    "rforest7_features.sort('Feature Importance')"
   ]
  },
  {
   "cell_type": "code",
   "execution_count": 139,
   "metadata": {
    "collapsed": false,
    "slideshow": {
     "slide_type": "skip"
    }
   },
   "outputs": [
    {
     "data": {
      "text/plain": [
       "143"
      ]
     },
     "execution_count": 139,
     "metadata": {},
     "output_type": "execute_result"
    }
   ],
   "source": [
    "len(rforest7_features[(rforest7_features['Feature Importance'] == 0)])"
   ]
  },
  {
   "cell_type": "code",
   "execution_count": 140,
   "metadata": {
    "collapsed": true,
    "slideshow": {
     "slide_type": "skip"
    }
   },
   "outputs": [],
   "source": [
    "# Dropping EVEN MORE columns with a feature importance of 0\n",
    "astoriaX.drop(rforest7_features['Feature Name'][(rforest7_features['Feature Importance'] == 0)], axis=1, inplace=True)\n",
    "\n",
    "X = astoriaX.drop('Datetime', axis=1)\n",
    "y = y_dummies['Violation_Code_21']\n",
    "\n",
    "X_train, X_test, y_train, y_test = cross_validation.train_test_split(X, y, test_size=0.3, random_state=42)"
   ]
  },
  {
   "cell_type": "code",
   "execution_count": 141,
   "metadata": {
    "collapsed": false,
    "slideshow": {
     "slide_type": "skip"
    }
   },
   "outputs": [
    {
     "data": {
      "text/html": [
       "<div>\n",
       "<table border=\"1\" class=\"dataframe\">\n",
       "  <thead>\n",
       "    <tr style=\"text-align: right;\">\n",
       "      <th></th>\n",
       "      <th>AUC</th>\n",
       "      <th>Accuracy</th>\n",
       "      <th>F1 score</th>\n",
       "      <th>F1 score (train)</th>\n",
       "      <th>Precision</th>\n",
       "      <th>Recall</th>\n",
       "    </tr>\n",
       "  </thead>\n",
       "  <tbody>\n",
       "    <tr>\n",
       "      <th>RandomForestClassifier</th>\n",
       "      <td>0.927075</td>\n",
       "      <td>0.855273</td>\n",
       "      <td>0.763576</td>\n",
       "      <td>0.779</td>\n",
       "      <td>0.724479</td>\n",
       "      <td>0.807133</td>\n",
       "    </tr>\n",
       "  </tbody>\n",
       "</table>\n",
       "</div>"
      ],
      "text/plain": [
       "                             AUC  Accuracy  F1 score  F1 score (train)  \\\n",
       "RandomForestClassifier  0.927075  0.855273  0.763576             0.779   \n",
       "\n",
       "                        Precision    Recall  \n",
       "RandomForestClassifier   0.724479  0.807133  "
      ]
     },
     "execution_count": 141,
     "metadata": {},
     "output_type": "execute_result"
    }
   ],
   "source": [
    "rforest7.fit(X_train, y_train)\n",
    "format_model_results2(rforest7, X_train, X_test, y_train, y_test)"
   ]
  },
  {
   "cell_type": "code",
   "execution_count": 142,
   "metadata": {
    "collapsed": false,
    "slideshow": {
     "slide_type": "skip"
    }
   },
   "outputs": [
    {
     "name": "stdout",
     "output_type": "stream",
     "text": [
      "Avg AUC Score across 5 folds: 0.924774573408\n"
     ]
    },
    {
     "data": {
      "text/plain": [
       "array([  1.97867398e-05,   2.01869086e-05,   5.45667694e-05,\n",
       "         2.34214359e-05,   1.47271472e-04,   1.23726579e-05,\n",
       "         1.74303019e-04,   9.69174124e-06,   4.65272406e-06,\n",
       "         1.28511259e-05,   1.25141866e-04,   7.57465929e-05,\n",
       "         8.91787122e-05,   1.05666028e-04,   2.80783198e-05,\n",
       "         7.21813079e-05,   2.61274463e-05,   7.15303315e-06,\n",
       "         4.95331812e-05,   6.40874332e-05,   4.52309713e-06,\n",
       "         3.23322694e-04,   0.00000000e+00,   5.68834799e-06,\n",
       "         2.28584137e-05,   1.14978804e-03,   9.24293547e-05,\n",
       "         2.61664939e-05,   1.23714266e-05,   3.88400690e-05,\n",
       "         3.24767922e-04,   7.04200329e-06,   5.53346726e-06,\n",
       "         4.12836014e-05,   3.43942055e-05,   2.17700515e-05,\n",
       "         4.63218135e-05,   0.00000000e+00,   6.57418955e-05,\n",
       "         1.35017900e-05,   1.91139103e-05,   3.24798663e-04,\n",
       "         2.59004766e-04,   3.33521724e-04,   7.38005118e-05,\n",
       "         1.83840901e-04,   3.90051028e-04,   1.33403757e-04,\n",
       "         5.60814434e-06,   1.64682745e-04,   2.00730325e-05,\n",
       "         4.23081387e-04,   7.96582353e-04,   6.96352840e-06,\n",
       "         1.21011627e-04,   9.36953851e-06,   6.32723069e-04,\n",
       "         3.13865130e-04,   1.79072141e-04,   7.15812229e-05,\n",
       "         4.23438608e-05,   8.02269540e-05,   3.05916631e-04,\n",
       "         5.70989263e-05,   1.56852843e-04,   1.98018645e-04,\n",
       "         1.07769614e-04,   3.34607967e-05,   0.00000000e+00,\n",
       "         2.85762892e-04,   3.44561502e-04,   1.46880328e-04,\n",
       "         0.00000000e+00,   1.16918334e-04,   1.95281880e-04,\n",
       "         5.23018884e-04,   6.07041113e-05,   9.49288712e-05,\n",
       "         2.29928545e-05,   2.14642082e-05,   8.63231641e-05,\n",
       "         5.10584967e-05,   1.06874090e-04,   7.03255238e-05,\n",
       "         9.60812273e-05,   8.56885673e-06,   1.08103329e-04,\n",
       "         1.20891608e-05,   2.69372256e-04,   1.71850216e-05,\n",
       "         4.39932630e-04,   6.76668373e-05,   2.01576599e-04,\n",
       "         2.12637223e-04,   8.07103172e-04,   1.83250381e-04,\n",
       "         2.54368962e-03,   2.40124600e-05,   7.69603583e-06,\n",
       "         0.00000000e+00,   3.93540822e-05,   1.62415921e-05,\n",
       "         1.27146100e-04,   1.30901780e-04,   0.00000000e+00,\n",
       "         2.59308362e-05,   8.84003861e-03,   4.01701489e-05,\n",
       "         6.38342430e-04,   0.00000000e+00,   6.08860346e-04,\n",
       "         3.80907510e-06,   9.31241634e-05,   2.71759844e-04,\n",
       "         1.05804356e-04,   1.21293229e-04,   1.15079330e-04,\n",
       "         7.49739703e-04,   3.72742640e-05,   1.46834029e-05,\n",
       "         1.12283171e-04,   4.22168023e-05,   4.72885137e-04,\n",
       "         2.36020538e-04,   2.58996161e-04,   6.83028375e-04,\n",
       "         3.55451789e-05,   1.24461485e-03,   3.54036523e-04,\n",
       "         0.00000000e+00,   1.33014771e-05,   2.26805501e-03,\n",
       "         4.44299355e-05,   0.00000000e+00,   4.61668269e-05,\n",
       "         1.35020674e-04,   0.00000000e+00,   8.32653851e-06,\n",
       "         1.50815237e-04,   2.05620358e-05,   2.45021691e-05,\n",
       "         4.20084694e-05,   1.14611068e-04,   2.80307262e-06,\n",
       "         3.15227687e-05,   7.87297156e-05,   0.00000000e+00,\n",
       "         1.66548417e-05,   1.21678145e-04,   0.00000000e+00,\n",
       "         4.46862199e-05,   5.68324914e-04,   0.00000000e+00,\n",
       "         3.63992423e-04,   6.48981322e-03,   0.00000000e+00,\n",
       "         1.52022444e-04,   0.00000000e+00,   2.57764659e-03,\n",
       "         6.49061630e-05,   8.57857882e-04,   0.00000000e+00,\n",
       "         0.00000000e+00,   1.70789450e-04,   0.00000000e+00,\n",
       "         4.05195121e-04,   4.98070822e-04,   5.83001759e-04,\n",
       "         6.07457822e-05,   3.09004173e-04,   3.48376549e-02,\n",
       "         3.50649275e-04,   8.04761398e-05,   3.24681910e-04,\n",
       "         1.79910028e-03,   4.88036749e-05,   1.69501708e-05,\n",
       "         2.47612462e-02,   0.00000000e+00,   3.70540091e-04,\n",
       "         3.52668342e-05,   3.70588875e-05,   6.94894766e-04,\n",
       "         2.57208446e-03,   1.10224251e-05,   2.84407290e-04,\n",
       "         2.62326703e-04,   2.73317528e-03,   5.11927982e-03,\n",
       "         4.02594967e-04,   2.82881332e-03,   1.99297062e-04,\n",
       "         2.44873641e-05,   4.57470695e-03,   1.44867869e-04,\n",
       "         1.27015024e-05,   1.50875909e-04,   1.97985879e-05,\n",
       "         2.90250509e-04,   6.80971101e-03,   4.83687448e-03,\n",
       "         1.16129165e-04,   5.53659518e-03,   0.00000000e+00,\n",
       "         4.92402937e-05,   4.98222185e-03,   4.26081936e-04,\n",
       "         0.00000000e+00,   1.06659436e-04,   2.15644793e-05,\n",
       "         2.23317904e-03,   0.00000000e+00,   6.17200203e-06,\n",
       "         2.39447246e-05,   1.46725089e-03,   3.59687719e-05,\n",
       "         1.04223252e-05,   0.00000000e+00,   0.00000000e+00,\n",
       "         6.40953834e-04,   0.00000000e+00,   2.79080773e-05,\n",
       "         6.12984647e-05,   5.31189605e-06,   0.00000000e+00,\n",
       "         1.46412709e-05,   0.00000000e+00,   2.50324231e-05,\n",
       "         0.00000000e+00,   2.23612953e-05,   1.98798322e-05,\n",
       "         1.57061820e-05,   4.69075436e-05,   0.00000000e+00,\n",
       "         0.00000000e+00,   5.05626103e-06,   0.00000000e+00,\n",
       "         0.00000000e+00,   0.00000000e+00,   2.87676520e-06,\n",
       "         5.47121792e-05,   0.00000000e+00,   0.00000000e+00,\n",
       "         0.00000000e+00,   0.00000000e+00,   1.60207036e-04,\n",
       "         2.66430595e-02,   0.00000000e+00,   0.00000000e+00,\n",
       "         0.00000000e+00,   2.89170334e-03,   1.35756428e-03,\n",
       "         0.00000000e+00,   2.29102258e-03,   1.05339567e-04,\n",
       "         4.75767660e-05,   2.47945199e-05,   2.76970115e-04,\n",
       "         6.35072069e-04,   1.12146608e-04,   1.79593014e-04,\n",
       "         1.36444879e-05,   0.00000000e+00,   3.33335955e-02,\n",
       "         1.43018389e-04,   5.24905790e-06,   3.11332907e-05,\n",
       "         0.00000000e+00,   1.50967740e-04,   2.09550759e-05,\n",
       "         0.00000000e+00,   8.44278766e-04,   3.49918645e-03,\n",
       "         5.20948892e-05,   0.00000000e+00,   1.66852105e-03,\n",
       "         4.65535569e-04,   2.10099365e-04,   2.74942457e-05,\n",
       "         8.92104009e-04,   4.01702622e-04,   1.33844319e-03,\n",
       "         4.25833261e-06,   0.00000000e+00,   1.51353071e-03,\n",
       "         0.00000000e+00,   8.71923810e-06,   2.02966137e-05,\n",
       "         9.87555168e-04,   5.25209170e-06,   2.32935198e-04,\n",
       "         1.74525555e-03,   1.46692137e-04,   1.08925696e-04,\n",
       "         2.27458304e-04,   2.07110788e-05,   3.84116617e-04,\n",
       "         1.08411246e-03,   2.64795114e-05,   0.00000000e+00,\n",
       "         7.43333102e-05,   9.94124975e-05,   0.00000000e+00,\n",
       "         1.51540750e-04,   4.05754774e-04,   2.47807131e-03,\n",
       "         6.88835681e-04,   1.99219432e-04,   9.73217747e-05,\n",
       "         9.30196942e-05,   1.86234179e-03,   1.72652184e-04,\n",
       "         5.92822837e-05,   1.77760332e-03,   4.48491619e-06,\n",
       "         1.40642310e-04,   3.28680314e-05,   0.00000000e+00,\n",
       "         1.51505068e-05,   1.45525205e-03,   4.46563133e-05,\n",
       "         1.01661926e-03,   1.66707167e-05,   3.47374006e-04,\n",
       "         7.26492530e-05,   1.44224031e-05,   2.04197517e-05,\n",
       "         1.08074609e-05,   1.35356616e-04,   2.33863656e-05,\n",
       "         1.00675979e-05,   1.06965734e-04,   6.53590916e-04,\n",
       "         9.00410310e-05,   2.63248110e-05,   6.29950269e-05,\n",
       "         2.66519086e-05,   4.63903970e-05,   1.04006652e-05,\n",
       "         3.92198509e-06,   2.20648320e-05,   5.88551347e-04,\n",
       "         0.00000000e+00,   2.07700555e-05,   0.00000000e+00,\n",
       "         4.28384520e-05,   8.36197180e-06,   2.68391776e-05,\n",
       "         9.08158213e-06,   3.24400605e-05,   1.67048321e-05,\n",
       "         2.48973482e-05,   6.49932361e-05,   0.00000000e+00,\n",
       "         4.23783265e-05,   0.00000000e+00,   7.52489232e-06,\n",
       "         2.14967162e-05,   1.40552467e-05,   6.50358818e-05,\n",
       "         0.00000000e+00,   4.59101499e-06,   0.00000000e+00,\n",
       "         2.34860630e-06,   1.04926939e-04,   2.49630067e-03,\n",
       "         0.00000000e+00,   4.21824370e-05,   9.09187026e-05,\n",
       "         0.00000000e+00,   1.46458253e-03,   0.00000000e+00,\n",
       "         8.17646097e-03,   0.00000000e+00,   2.00224716e-03,\n",
       "         0.00000000e+00,   1.28614057e-05,   2.65142730e-04,\n",
       "         5.21087692e-06,   1.37713108e-05,   5.58308114e-05,\n",
       "         4.00685871e-05,   1.04744263e-05,   4.72789301e-05,\n",
       "         0.00000000e+00,   1.35449647e-05,   2.07974090e-04,\n",
       "         2.50183766e-06,   9.36369595e-04,   0.00000000e+00,\n",
       "         1.22096683e-05,   1.58026766e-05,   6.10301619e-04,\n",
       "         6.27477116e-06,   3.84930236e-03,   1.13003683e-05,\n",
       "         1.88807406e-04,   2.62487611e-05,   1.24945394e-04,\n",
       "         2.75251851e-04,   7.62733966e-04,   5.29556432e-06,\n",
       "         0.00000000e+00,   2.30425575e-03,   3.89624854e-06,\n",
       "         0.00000000e+00,   2.50962410e-05,   2.98606213e-04,\n",
       "         0.00000000e+00,   3.73421389e-05,   1.45664826e-03,\n",
       "         3.39436537e-04,   1.00637419e-04,   2.88168437e-05,\n",
       "         2.22382662e-04,   2.04988642e-06,   1.84331698e-03,\n",
       "         0.00000000e+00,   0.00000000e+00,   1.15567059e-05,\n",
       "         3.09272032e-04,   3.55559357e-03,   2.36907616e-05,\n",
       "         7.40929744e-04,   0.00000000e+00,   2.65041159e-04,\n",
       "         3.02059021e-03,   3.41037949e-04,   4.19991524e-05,\n",
       "         5.62098986e-05,   5.88419516e-04,   1.64662763e-05,\n",
       "         3.55738875e-03,   0.00000000e+00,   1.23297960e-03,\n",
       "         1.50310936e-04,   2.00812084e-05,   9.56421229e-05,\n",
       "         8.68685944e-04,   2.07312694e-05,   9.27869828e-04,\n",
       "         3.35891889e-05,   7.61056663e-04,   1.80702785e-05,\n",
       "         4.05528405e-05,   0.00000000e+00,   5.38147408e-05,\n",
       "         5.12639920e-06,   4.99345173e-05,   1.87176121e-05,\n",
       "         2.10644227e-05,   1.12915625e-05,   9.29473152e-06,\n",
       "         0.00000000e+00,   2.00373597e-04,   7.30824382e-04,\n",
       "         6.79512298e-05,   5.72078395e-05,   8.98430184e-05,\n",
       "         2.35061313e-05,   3.12123302e-05,   4.59046601e-05,\n",
       "         1.00689368e-05,   1.34480561e-05,   0.00000000e+00,\n",
       "         2.32246664e-05,   1.84694995e-05,   9.19659949e-04,\n",
       "         2.43344089e-05,   0.00000000e+00,   4.52912336e-05,\n",
       "         2.80687008e-06,   7.53341913e-06,   3.07871236e-05,\n",
       "         1.31653030e-05,   6.52003689e-06,   3.57584248e-04,\n",
       "         3.61146255e-05,   0.00000000e+00,   6.27068012e-06,\n",
       "         0.00000000e+00,   2.13801346e-05,   0.00000000e+00,\n",
       "         0.00000000e+00,   2.21239421e-05,   9.18700354e-06,\n",
       "         2.47803795e-04,   1.17313273e-04,   6.26509831e-05,\n",
       "         3.73780810e-04,   7.82131152e-04,   0.00000000e+00,\n",
       "         7.28258985e-03,   0.00000000e+00,   1.40232425e-03,\n",
       "         2.50239297e-06,   3.26076992e-05,   6.70127373e-05,\n",
       "         1.09073340e-03,   9.50926627e-06,   3.09839115e-06,\n",
       "         0.00000000e+00,   8.26017211e-06,   1.05232035e-04,\n",
       "         2.46233183e-06,   5.57753893e-04,   5.73183528e-04,\n",
       "         5.39085405e-04,   2.53213042e-04,   4.97593995e-04,\n",
       "         3.65321177e-04,   3.45613348e-04,   3.86598052e-04,\n",
       "         4.47025485e-04,   2.66112584e-04,   4.54883009e-04,\n",
       "         4.50235249e-04,   4.20124302e-04,   2.89868068e-04,\n",
       "         3.34171572e-04,   3.84474498e-04,   3.88655314e-04,\n",
       "         2.84184702e-04,   2.67048107e-04,   2.95501360e-04,\n",
       "         2.89593484e-04,   2.99116713e-04,   3.41749211e-04,\n",
       "         3.26755304e-04,   3.82096749e-04,   3.79384798e-04,\n",
       "         2.30462422e-04,   2.29488541e-04,   2.46515943e-04,\n",
       "         4.15761889e-04,   1.66891323e-04,   1.72704102e-04,\n",
       "         4.14684177e-04,   7.15407126e-04,   4.75879679e-04,\n",
       "         4.42101100e-04,   8.25164805e-04,   6.15230270e-04,\n",
       "         5.76543118e-04,   4.87275143e-04,   4.36215742e-04,\n",
       "         7.55839160e-04,   7.33851578e-04,   7.61627420e-04,\n",
       "         7.10551338e-04,   0.00000000e+00,   3.83068309e-03,\n",
       "         9.67816915e-03,   2.45794721e-02,   1.99628443e-01,\n",
       "         1.36701695e-01,   8.52116704e-03,   1.38872826e-01,\n",
       "         0.00000000e+00,   2.87559518e-02,   2.83953281e-02,\n",
       "         1.68250717e-02,   1.55865457e-02,   1.28071785e-02,\n",
       "         6.13739953e-03,   6.06893612e-05,   7.64283618e-06,\n",
       "         1.09071270e-04,   1.94247835e-05,   4.66233322e-06,\n",
       "         2.75604575e-03,   1.86610426e-03,   2.68573405e-03,\n",
       "         1.79314971e-03,   3.10473002e-03,   1.12552235e-03,\n",
       "         3.01288425e-03,   2.63986739e-03,   2.69740991e-03,\n",
       "         2.08210748e-03,   2.86582849e-03,   1.10339512e-03,\n",
       "         1.04481118e-03,   4.73198186e-04,   2.76367963e-04,\n",
       "         1.71206253e-04,   2.78592037e-04,   1.32404424e-05,\n",
       "         1.26462638e-05,   2.49505455e-06,   0.00000000e+00,\n",
       "         9.57791992e-06,   4.29640065e-06,   4.32481603e-06,\n",
       "         2.33048614e-05,   1.05084017e-05,   1.81038200e-05,\n",
       "         5.58681235e-06,   4.24739234e-03])"
      ]
     },
     "execution_count": 142,
     "metadata": {},
     "output_type": "execute_result"
    }
   ],
   "source": [
    "n_folds = 5\n",
    "\n",
    "cv_score = cross_validation.cross_val_score(rforest7, X, y, cv=n_folds, scoring='roc_auc')\n",
    "\n",
    "print \"Avg AUC Score across %s folds: %s\" % (n_folds, cv_score.mean())\n",
    "\n",
    "rforest7.feature_importances_"
   ]
  },
  {
   "cell_type": "code",
   "execution_count": 143,
   "metadata": {
    "collapsed": true,
    "slideshow": {
     "slide_type": "skip"
    }
   },
   "outputs": [],
   "source": [
    "feature_importances = rforest7.feature_importances_\n",
    "feature_names = X.columns\n",
    "\n",
    "rforest7_features = pd.DataFrame({'Feature Name':feature_names, 'Feature Importance': feature_importances})"
   ]
  },
  {
   "cell_type": "code",
   "execution_count": 144,
   "metadata": {
    "collapsed": false,
    "slideshow": {
     "slide_type": "skip"
    }
   },
   "outputs": [
    {
     "data": {
      "text/plain": [
       "84"
      ]
     },
     "execution_count": 144,
     "metadata": {},
     "output_type": "execute_result"
    }
   ],
   "source": [
    "len(rforest7_features[(rforest7_features['Feature Importance'] == 0)])"
   ]
  },
  {
   "cell_type": "code",
   "execution_count": 145,
   "metadata": {
    "collapsed": false,
    "slideshow": {
     "slide_type": "skip"
    }
   },
   "outputs": [],
   "source": [
    "# Another round of dropping columns with a feature importance of 0\n",
    "astoriaX.drop(rforest7_features['Feature Name'][(rforest7_features['Feature Importance'] == 0)], axis=1, inplace=True)\n",
    "\n",
    "X = astoriaX.drop('Datetime', axis=1)\n",
    "y = y_dummies['Violation_Code_21']\n",
    "\n",
    "X_train, X_test, y_train, y_test = cross_validation.train_test_split(X, y, test_size=0.3, random_state=42)"
   ]
  },
  {
   "cell_type": "code",
   "execution_count": 146,
   "metadata": {
    "collapsed": false,
    "slideshow": {
     "slide_type": "skip"
    }
   },
   "outputs": [
    {
     "data": {
      "text/html": [
       "<div>\n",
       "<table border=\"1\" class=\"dataframe\">\n",
       "  <thead>\n",
       "    <tr style=\"text-align: right;\">\n",
       "      <th></th>\n",
       "      <th>AUC</th>\n",
       "      <th>Accuracy</th>\n",
       "      <th>F1 score</th>\n",
       "      <th>F1 score (train)</th>\n",
       "      <th>Precision</th>\n",
       "      <th>Recall</th>\n",
       "    </tr>\n",
       "  </thead>\n",
       "  <tbody>\n",
       "    <tr>\n",
       "      <th>RandomForestClassifier</th>\n",
       "      <td>0.927499</td>\n",
       "      <td>0.853633</td>\n",
       "      <td>0.760486</td>\n",
       "      <td>0.774974</td>\n",
       "      <td>0.722661</td>\n",
       "      <td>0.80249</td>\n",
       "    </tr>\n",
       "  </tbody>\n",
       "</table>\n",
       "</div>"
      ],
      "text/plain": [
       "                             AUC  Accuracy  F1 score  F1 score (train)  \\\n",
       "RandomForestClassifier  0.927499  0.853633  0.760486          0.774974   \n",
       "\n",
       "                        Precision   Recall  \n",
       "RandomForestClassifier   0.722661  0.80249  "
      ]
     },
     "execution_count": 146,
     "metadata": {},
     "output_type": "execute_result"
    }
   ],
   "source": [
    "rforest7.fit(X_train, y_train)\n",
    "format_model_results2(rforest7, X_train, X_test, y_train, y_test)"
   ]
  },
  {
   "cell_type": "markdown",
   "metadata": {
    "slideshow": {
     "slide_type": "skip"
    }
   },
   "source": [
    "### Making the time categorical"
   ]
  },
  {
   "cell_type": "code",
   "execution_count": 147,
   "metadata": {
    "collapsed": false,
    "slideshow": {
     "slide_type": "skip"
    }
   },
   "outputs": [
    {
     "data": {
      "text/plain": [
       "(225619, 514)"
      ]
     },
     "execution_count": 147,
     "metadata": {},
     "output_type": "execute_result"
    }
   ],
   "source": [
    "astoriaX.shape"
   ]
  },
  {
   "cell_type": "markdown",
   "metadata": {
    "collapsed": true,
    "slideshow": {
     "slide_type": "skip"
    }
   },
   "source": [
    "### Trying the model on the full _Violation Code_ column"
   ]
  },
  {
   "cell_type": "code",
   "execution_count": 183,
   "metadata": {
    "collapsed": true,
    "slideshow": {
     "slide_type": "skip"
    }
   },
   "outputs": [],
   "source": [
    "X = astoriaX\n",
    "yall = df['Violation Code'].astype(int)\n",
    "\n",
    "X_train, X_test, yall_train, yall_test = cross_validation.train_test_split(X, yall, test_size=0.3, random_state=42)"
   ]
  },
  {
   "cell_type": "code",
   "execution_count": 149,
   "metadata": {
    "collapsed": false,
    "slideshow": {
     "slide_type": "skip"
    }
   },
   "outputs": [
    {
     "data": {
      "text/html": [
       "<div>\n",
       "<table border=\"1\" class=\"dataframe\">\n",
       "  <thead>\n",
       "    <tr style=\"text-align: right;\">\n",
       "      <th></th>\n",
       "      <th>AUC</th>\n",
       "      <th>Accuracy</th>\n",
       "      <th>F1 score</th>\n",
       "      <th>F1 score (train)</th>\n",
       "      <th>Precision</th>\n",
       "      <th>Recall</th>\n",
       "    </tr>\n",
       "  </thead>\n",
       "  <tbody>\n",
       "    <tr>\n",
       "      <th>RandomForestClassifier</th>\n",
       "      <td>0.927033</td>\n",
       "      <td>0.852865</td>\n",
       "      <td>0.759926</td>\n",
       "      <td>0.774269</td>\n",
       "      <td>0.720252</td>\n",
       "      <td>0.804225</td>\n",
       "    </tr>\n",
       "  </tbody>\n",
       "</table>\n",
       "</div>"
      ],
      "text/plain": [
       "                             AUC  Accuracy  F1 score  F1 score (train)  \\\n",
       "RandomForestClassifier  0.927033  0.852865  0.759926          0.774269   \n",
       "\n",
       "                        Precision    Recall  \n",
       "RandomForestClassifier   0.720252  0.804225  "
      ]
     },
     "execution_count": 149,
     "metadata": {},
     "output_type": "execute_result"
    }
   ],
   "source": [
    "rforest7.fit(X_train, y_train)\n",
    "format_model_results2(rforest7, X_train, X_test, y_train, y_test)"
   ]
  },
  {
   "cell_type": "code",
   "execution_count": 179,
   "metadata": {
    "collapsed": false,
    "slideshow": {
     "slide_type": "skip"
    }
   },
   "outputs": [
    {
     "data": {
      "image/png": "[encoded data removed]",
      "text/plain": [
       "<matplotlib.figure.Figure at 0x7fdcbae4c0d0>"
      ]
     },
     "metadata": {},
     "output_type": "display_data"
    }
   ],
   "source": [
    "y_test_pred_proba   = rforest7.predict_proba(X_test)\n",
    "\n",
    "fpr, tpr, _ = metrics.roc_curve(y_test, y_test_pred_proba[:, 1])\n",
    "\n",
    "sns.kdeplot(fpr, c=\"red\", shade=True)\n",
    "sns.kdeplot(tpr, c=\"green\", shade=True);\n"
   ]
  },
  {
   "cell_type": "code",
   "execution_count": 180,
   "metadata": {
    "collapsed": false,
    "slideshow": {
     "slide_type": "skip"
    }
   },
   "outputs": [
    {
     "name": "stdout",
     "output_type": "stream",
     "text": [
      "0.927033242626\n"
     ]
    },
    {
     "data": {
      "image/png": "[encoded data removed]",
      "text/plain": [
       "<matplotlib.figure.Figure at 0x7fdcad996090>"
      ]
     },
     "metadata": {},
     "output_type": "display_data"
    }
   ],
   "source": [
    "roc_auc = metrics.auc(fpr, tpr)\n",
    "\n",
    "plt.xlim = [0, 1]\n",
    "plt.ylim = [0, 1]\n",
    "ax = plt.plot(fpr, tpr)\n",
    "plt.plot([0, 1], [0, 1], 'k--')\n",
    "\n",
    "print metrics.roc_auc_score(y_test, y_test_pred_proba[:, 1])"
   ]
  },
  {
   "cell_type": "markdown",
   "metadata": {
    "collapsed": true,
    "slideshow": {
     "slide_type": "slide"
    }
   },
   "source": [
    "# Conclusion\n",
    "\n",
    "1. For all of the possible predictor variables, only a small percentage matters.\n",
    "2. Time variables are important.\n",
    "3. Reducing the depth of the model helps with overfitting issues."
   ]
  },
  {
   "cell_type": "markdown",
   "metadata": {
    "slideshow": {
     "slide_type": "slide"
    }
   },
   "source": [
    "# Next Steps\n",
    "\n",
    "1. Test the model using _cross-validation_ and _grid search_.\n",
    "2. Perform a timeseries analysis of the data.\n",
    "3. Test the model with the full _NYC Parking Violations_ dataset."
   ]
  },
  {
   "cell_type": "markdown",
   "metadata": {
    "slideshow": {
     "slide_type": "slide"
    }
   },
   "source": [
    "# Thank You!\n",
    "![NYPD](IMG_20160701_083017.jpg)"
   ]
  }
 ],
 "metadata": {
  "celltoolbar": "Slideshow",
  "kernelspec": {
   "display_name": "Python 2",
   "language": "python",
   "name": "python2"
  },
  "language_info": {
   "codemirror_mode": {
    "name": "ipython",
    "version": 2
   },
   "file_extension": ".py",
   "mimetype": "text/x-python",
   "name": "python",
   "nbconvert_exporter": "python",
   "pygments_lexer": "ipython2",
   "version": "2.7.12"
  }
 },
 "nbformat": 4,
 "nbformat_minor": 0
}
